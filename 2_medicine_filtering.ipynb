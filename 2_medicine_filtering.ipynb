{
 "cells": [
  {
   "cell_type": "markdown",
   "metadata": {},
   "source": [
    "# 처방기록 중 관심약품 필터링"
   ]
  },
  {
   "cell_type": "code",
   "execution_count": 2,
   "metadata": {},
   "outputs": [],
   "source": [
    "# 라이브러리를 불러옵니다.\n",
    "import os\n",
    "import numpy as np\n",
    "import pandas as pd\n",
    "\n",
    "import matplotlib.pyplot as plt\n",
    "from matplotlib import font_manager, rc\n",
    "font_path = \"C:\\Windows\\Fonts\\malgun.ttf\"\n",
    "font = font_manager.FontProperties(fname = font_path).get_name()\n",
    "rc('font', family = font)"
   ]
  },
  {
   "cell_type": "markdown",
   "metadata": {},
   "source": [
    "## 데이터 추출 (항우울제)\n",
    "항우울제로 사용되는 약물들만 추출하도록 하겠습니다."
   ]
  },
  {
   "cell_type": "code",
   "execution_count": 3,
   "metadata": {},
   "outputs": [],
   "source": [
    "# 항우울제 매핑 데이터를 불러옵니다.\n",
    "ad_mapping = pd.read_csv('data/antidepressant_mapping_v2.csv', encoding='utf-8')\n",
    "MI_codes = ad_mapping['MI_code'].values\n",
    "ATC_codes = ad_mapping['ATC_code'].unique()"
   ]
  },
  {
   "cell_type": "markdown",
   "metadata": {},
   "source": [
    "### 연도별 데이터 불러오기"
   ]
  },
  {
   "cell_type": "markdown",
   "metadata": {},
   "source": [
    "2017년도 데이터"
   ]
  },
  {
   "cell_type": "code",
   "execution_count": 3,
   "metadata": {},
   "outputs": [
    {
     "data": {
      "text/html": [
       "<div>\n",
       "<style scoped>\n",
       "    .dataframe tbody tr th:only-of-type {\n",
       "        vertical-align: middle;\n",
       "    }\n",
       "\n",
       "    .dataframe tbody tr th {\n",
       "        vertical-align: top;\n",
       "    }\n",
       "\n",
       "    .dataframe thead th {\n",
       "        text-align: right;\n",
       "    }\n",
       "</style>\n",
       "<table border=\"1\" class=\"dataframe\">\n",
       "  <thead>\n",
       "    <tr style=\"text-align: right;\">\n",
       "      <th></th>\n",
       "      <th>기준년도</th>\n",
       "      <th>가입자일련번호</th>\n",
       "      <th>처방내역일련번호</th>\n",
       "      <th>일련번호</th>\n",
       "      <th>성별코드</th>\n",
       "      <th>연령대코드(5세단위)</th>\n",
       "      <th>시도코드</th>\n",
       "      <th>요양개시일자</th>\n",
       "      <th>약품일반성분명코드</th>\n",
       "      <th>1회 투약량</th>\n",
       "      <th>1일투약량</th>\n",
       "      <th>총투여일수</th>\n",
       "      <th>단가</th>\n",
       "      <th>금액</th>\n",
       "      <th>데이터 공개일자</th>\n",
       "    </tr>\n",
       "  </thead>\n",
       "  <tbody>\n",
       "    <tr>\n",
       "      <th>0</th>\n",
       "      <td>2017</td>\n",
       "      <td>1</td>\n",
       "      <td>340428</td>\n",
       "      <td>1</td>\n",
       "      <td>1</td>\n",
       "      <td>15</td>\n",
       "      <td>31</td>\n",
       "      <td>20170629</td>\n",
       "      <td>131801ATB</td>\n",
       "      <td>1.0</td>\n",
       "      <td>3</td>\n",
       "      <td>10</td>\n",
       "      <td>15.0</td>\n",
       "      <td>450</td>\n",
       "      <td>20181126</td>\n",
       "    </tr>\n",
       "    <tr>\n",
       "      <th>1</th>\n",
       "      <td>2017</td>\n",
       "      <td>1</td>\n",
       "      <td>340428</td>\n",
       "      <td>2</td>\n",
       "      <td>1</td>\n",
       "      <td>15</td>\n",
       "      <td>31</td>\n",
       "      <td>20170629</td>\n",
       "      <td>172101ATB</td>\n",
       "      <td>1.0</td>\n",
       "      <td>3</td>\n",
       "      <td>10</td>\n",
       "      <td>16.0</td>\n",
       "      <td>480</td>\n",
       "      <td>20181126</td>\n",
       "    </tr>\n",
       "    <tr>\n",
       "      <th>2</th>\n",
       "      <td>2017</td>\n",
       "      <td>1</td>\n",
       "      <td>340428</td>\n",
       "      <td>3</td>\n",
       "      <td>1</td>\n",
       "      <td>15</td>\n",
       "      <td>31</td>\n",
       "      <td>20170629</td>\n",
       "      <td>193302ATB</td>\n",
       "      <td>1.0</td>\n",
       "      <td>3</td>\n",
       "      <td>10</td>\n",
       "      <td>98.0</td>\n",
       "      <td>2940</td>\n",
       "      <td>20181126</td>\n",
       "    </tr>\n",
       "  </tbody>\n",
       "</table>\n",
       "</div>"
      ],
      "text/plain": [
       "   기준년도  가입자일련번호  처방내역일련번호  일련번호  성별코드  연령대코드(5세단위)  시도코드    요양개시일자  \\\n",
       "0  2017        1    340428     1     1           15    31  20170629   \n",
       "1  2017        1    340428     2     1           15    31  20170629   \n",
       "2  2017        1    340428     3     1           15    31  20170629   \n",
       "\n",
       "   약품일반성분명코드  1회 투약량  1일투약량  총투여일수    단가    금액  데이터 공개일자  \n",
       "0  131801ATB     1.0      3     10  15.0   450  20181126  \n",
       "1  172101ATB     1.0      3     10  16.0   480  20181126  \n",
       "2  193302ATB     1.0      3     10  98.0  2940  20181126  "
      ]
     },
     "execution_count": 3,
     "metadata": {},
     "output_type": "execute_result"
    }
   ],
   "source": [
    "# 데이터의 구조를 확인합니다.\n",
    "pd.read_csv('./raw_data/2017/국민건강보험공단_의약품처방정보_2017(1).CSV', encoding='cp949', nrows=3)"
   ]
  },
  {
   "cell_type": "markdown",
   "metadata": {},
   "source": [
    "2018년도 데이터"
   ]
  },
  {
   "cell_type": "code",
   "execution_count": 4,
   "metadata": {},
   "outputs": [
    {
     "data": {
      "text/html": [
       "<div>\n",
       "<style scoped>\n",
       "    .dataframe tbody tr th:only-of-type {\n",
       "        vertical-align: middle;\n",
       "    }\n",
       "\n",
       "    .dataframe tbody tr th {\n",
       "        vertical-align: top;\n",
       "    }\n",
       "\n",
       "    .dataframe thead th {\n",
       "        text-align: right;\n",
       "    }\n",
       "</style>\n",
       "<table border=\"1\" class=\"dataframe\">\n",
       "  <thead>\n",
       "    <tr style=\"text-align: right;\">\n",
       "      <th></th>\n",
       "      <th>기준년도</th>\n",
       "      <th>가입자일련번호</th>\n",
       "      <th>처방내역일련번호</th>\n",
       "      <th>일련번호</th>\n",
       "      <th>성별코드</th>\n",
       "      <th>연령대코드(5세단위)</th>\n",
       "      <th>시도코드</th>\n",
       "      <th>요양개시일자</th>\n",
       "      <th>약품일반성분명코드</th>\n",
       "      <th>1회투약량</th>\n",
       "      <th>1일투약량</th>\n",
       "      <th>총투여일수</th>\n",
       "      <th>단가</th>\n",
       "      <th>금액</th>\n",
       "      <th>데이터공개일자</th>\n",
       "    </tr>\n",
       "  </thead>\n",
       "  <tbody>\n",
       "    <tr>\n",
       "      <th>0</th>\n",
       "      <td>2018</td>\n",
       "      <td>1</td>\n",
       "      <td>18610814</td>\n",
       "      <td>1</td>\n",
       "      <td>1</td>\n",
       "      <td>6</td>\n",
       "      <td>28</td>\n",
       "      <td>20180130</td>\n",
       "      <td>101430ATR</td>\n",
       "      <td>2.0</td>\n",
       "      <td>3</td>\n",
       "      <td>3</td>\n",
       "      <td>51.0</td>\n",
       "      <td>918</td>\n",
       "      <td>20191217</td>\n",
       "    </tr>\n",
       "    <tr>\n",
       "      <th>1</th>\n",
       "      <td>2018</td>\n",
       "      <td>1</td>\n",
       "      <td>43905715</td>\n",
       "      <td>3</td>\n",
       "      <td>1</td>\n",
       "      <td>6</td>\n",
       "      <td>28</td>\n",
       "      <td>20180816</td>\n",
       "      <td>240301ATB</td>\n",
       "      <td>1.0</td>\n",
       "      <td>3</td>\n",
       "      <td>2</td>\n",
       "      <td>135.0</td>\n",
       "      <td>810</td>\n",
       "      <td>20191217</td>\n",
       "    </tr>\n",
       "    <tr>\n",
       "      <th>2</th>\n",
       "      <td>2018</td>\n",
       "      <td>1</td>\n",
       "      <td>43905715</td>\n",
       "      <td>2</td>\n",
       "      <td>1</td>\n",
       "      <td>6</td>\n",
       "      <td>28</td>\n",
       "      <td>20180816</td>\n",
       "      <td>222801ATB</td>\n",
       "      <td>1.0</td>\n",
       "      <td>2</td>\n",
       "      <td>2</td>\n",
       "      <td>270.0</td>\n",
       "      <td>1080</td>\n",
       "      <td>20191217</td>\n",
       "    </tr>\n",
       "  </tbody>\n",
       "</table>\n",
       "</div>"
      ],
      "text/plain": [
       "   기준년도  가입자일련번호  처방내역일련번호  일련번호  성별코드  연령대코드(5세단위)  시도코드    요양개시일자  \\\n",
       "0  2018        1  18610814     1     1            6    28  20180130   \n",
       "1  2018        1  43905715     3     1            6    28  20180816   \n",
       "2  2018        1  43905715     2     1            6    28  20180816   \n",
       "\n",
       "   약품일반성분명코드  1회투약량  1일투약량  총투여일수     단가    금액   데이터공개일자  \n",
       "0  101430ATR    2.0      3      3   51.0   918  20191217  \n",
       "1  240301ATB    1.0      3      2  135.0   810  20191217  \n",
       "2  222801ATB    1.0      2      2  270.0  1080  20191217  "
      ]
     },
     "execution_count": 4,
     "metadata": {},
     "output_type": "execute_result"
    }
   ],
   "source": [
    "# 데이터의 구조를 확인합니다.\n",
    "pd.read_csv('raw_data/2018/NHIS_OPEN_T60_2018_PART1.csv', encoding='cp949', nrows=3)"
   ]
  },
  {
   "cell_type": "markdown",
   "metadata": {},
   "source": [
    "2019년도 데이터"
   ]
  },
  {
   "cell_type": "code",
   "execution_count": 5,
   "metadata": {},
   "outputs": [
    {
     "data": {
      "text/html": [
       "<div>\n",
       "<style scoped>\n",
       "    .dataframe tbody tr th:only-of-type {\n",
       "        vertical-align: middle;\n",
       "    }\n",
       "\n",
       "    .dataframe tbody tr th {\n",
       "        vertical-align: top;\n",
       "    }\n",
       "\n",
       "    .dataframe thead th {\n",
       "        text-align: right;\n",
       "    }\n",
       "</style>\n",
       "<table border=\"1\" class=\"dataframe\">\n",
       "  <thead>\n",
       "    <tr style=\"text-align: right;\">\n",
       "      <th></th>\n",
       "      <th>기준년도</th>\n",
       "      <th>가입자 일련번호</th>\n",
       "      <th>처방내역일련번호</th>\n",
       "      <th>일련번호</th>\n",
       "      <th>성별코드</th>\n",
       "      <th>연령대코드(5세단위)</th>\n",
       "      <th>시도코드</th>\n",
       "      <th>요양개시일자</th>\n",
       "      <th>약품일반성분명코드</th>\n",
       "      <th>1회 투약량</th>\n",
       "      <th>1일투약량</th>\n",
       "      <th>총투여일수</th>\n",
       "      <th>단가</th>\n",
       "      <th>금액</th>\n",
       "      <th>데이터 공개일자</th>\n",
       "    </tr>\n",
       "  </thead>\n",
       "  <tbody>\n",
       "    <tr>\n",
       "      <th>0</th>\n",
       "      <td>2019</td>\n",
       "      <td>1</td>\n",
       "      <td>103911229</td>\n",
       "      <td>3</td>\n",
       "      <td>1</td>\n",
       "      <td>2</td>\n",
       "      <td>41</td>\n",
       "      <td>20190225</td>\n",
       "      <td>101842AGN</td>\n",
       "      <td>0.6667</td>\n",
       "      <td>3</td>\n",
       "      <td>3</td>\n",
       "      <td>90.0</td>\n",
       "      <td>540</td>\n",
       "      <td>20201222</td>\n",
       "    </tr>\n",
       "    <tr>\n",
       "      <th>1</th>\n",
       "      <td>2019</td>\n",
       "      <td>1</td>\n",
       "      <td>103911229</td>\n",
       "      <td>1</td>\n",
       "      <td>1</td>\n",
       "      <td>2</td>\n",
       "      <td>41</td>\n",
       "      <td>20190225</td>\n",
       "      <td>244330ASY</td>\n",
       "      <td>7.0000</td>\n",
       "      <td>3</td>\n",
       "      <td>3</td>\n",
       "      <td>15.0</td>\n",
       "      <td>945</td>\n",
       "      <td>20201222</td>\n",
       "    </tr>\n",
       "    <tr>\n",
       "      <th>2</th>\n",
       "      <td>2019</td>\n",
       "      <td>1</td>\n",
       "      <td>103911229</td>\n",
       "      <td>2</td>\n",
       "      <td>1</td>\n",
       "      <td>2</td>\n",
       "      <td>41</td>\n",
       "      <td>20190225</td>\n",
       "      <td>183135ASY</td>\n",
       "      <td>8.0000</td>\n",
       "      <td>3</td>\n",
       "      <td>3</td>\n",
       "      <td>20.0</td>\n",
       "      <td>1440</td>\n",
       "      <td>20201222</td>\n",
       "    </tr>\n",
       "  </tbody>\n",
       "</table>\n",
       "</div>"
      ],
      "text/plain": [
       "   기준년도  가입자 일련번호   처방내역일련번호  일련번호  성별코드  연령대코드(5세단위)  시도코드    요양개시일자  \\\n",
       "0  2019         1  103911229     3     1            2    41  20190225   \n",
       "1  2019         1  103911229     1     1            2    41  20190225   \n",
       "2  2019         1  103911229     2     1            2    41  20190225   \n",
       "\n",
       "   약품일반성분명코드  1회 투약량  1일투약량  총투여일수    단가    금액  데이터 공개일자  \n",
       "0  101842AGN  0.6667      3      3  90.0   540  20201222  \n",
       "1  244330ASY  7.0000      3      3  15.0   945  20201222  \n",
       "2  183135ASY  8.0000      3      3  20.0  1440  20201222  "
      ]
     },
     "execution_count": 5,
     "metadata": {},
     "output_type": "execute_result"
    }
   ],
   "source": [
    "pd.read_csv('./raw_data/2019/T60_2019_1백만.1.csv', encoding='cp949', nrows=3).head()"
   ]
  },
  {
   "cell_type": "markdown",
   "metadata": {},
   "source": [
    "2020년도 데이터"
   ]
  },
  {
   "cell_type": "code",
   "execution_count": 6,
   "metadata": {},
   "outputs": [
    {
     "data": {
      "text/html": [
       "<div>\n",
       "<style scoped>\n",
       "    .dataframe tbody tr th:only-of-type {\n",
       "        vertical-align: middle;\n",
       "    }\n",
       "\n",
       "    .dataframe tbody tr th {\n",
       "        vertical-align: top;\n",
       "    }\n",
       "\n",
       "    .dataframe thead th {\n",
       "        text-align: right;\n",
       "    }\n",
       "</style>\n",
       "<table border=\"1\" class=\"dataframe\">\n",
       "  <thead>\n",
       "    <tr style=\"text-align: right;\">\n",
       "      <th></th>\n",
       "      <th>기준년도</th>\n",
       "      <th>가입자 일련번호</th>\n",
       "      <th>처방내역일련번호</th>\n",
       "      <th>일련번호</th>\n",
       "      <th>성별코드</th>\n",
       "      <th>연령대코드(5세단위)</th>\n",
       "      <th>시도코드</th>\n",
       "      <th>요양개시일자</th>\n",
       "      <th>약품일반성분명코드</th>\n",
       "      <th>1회 투약량</th>\n",
       "      <th>1일투약량</th>\n",
       "      <th>총투여일수</th>\n",
       "      <th>단가</th>\n",
       "      <th>금액</th>\n",
       "      <th>데이터 공개일자</th>\n",
       "    </tr>\n",
       "  </thead>\n",
       "  <tbody>\n",
       "    <tr>\n",
       "      <th>0</th>\n",
       "      <td>2020</td>\n",
       "      <td>370</td>\n",
       "      <td>11788523</td>\n",
       "      <td>1</td>\n",
       "      <td>2</td>\n",
       "      <td>13</td>\n",
       "      <td>41</td>\n",
       "      <td>2020-10-16</td>\n",
       "      <td>222901ATB</td>\n",
       "      <td>1.0</td>\n",
       "      <td>3</td>\n",
       "      <td>3</td>\n",
       "      <td>103.0</td>\n",
       "      <td>927</td>\n",
       "      <td>2021-12-29</td>\n",
       "    </tr>\n",
       "    <tr>\n",
       "      <th>1</th>\n",
       "      <td>2020</td>\n",
       "      <td>466</td>\n",
       "      <td>9794740</td>\n",
       "      <td>1</td>\n",
       "      <td>2</td>\n",
       "      <td>13</td>\n",
       "      <td>41</td>\n",
       "      <td>2020-06-05</td>\n",
       "      <td>222901ATB</td>\n",
       "      <td>1.0</td>\n",
       "      <td>3</td>\n",
       "      <td>3</td>\n",
       "      <td>103.0</td>\n",
       "      <td>927</td>\n",
       "      <td>2021-12-29</td>\n",
       "    </tr>\n",
       "    <tr>\n",
       "      <th>2</th>\n",
       "      <td>2020</td>\n",
       "      <td>538</td>\n",
       "      <td>5620454</td>\n",
       "      <td>1</td>\n",
       "      <td>2</td>\n",
       "      <td>9</td>\n",
       "      <td>41</td>\n",
       "      <td>2020-11-28</td>\n",
       "      <td>222901ATB</td>\n",
       "      <td>1.0</td>\n",
       "      <td>3</td>\n",
       "      <td>3</td>\n",
       "      <td>103.0</td>\n",
       "      <td>927</td>\n",
       "      <td>2021-12-29</td>\n",
       "    </tr>\n",
       "  </tbody>\n",
       "</table>\n",
       "</div>"
      ],
      "text/plain": [
       "   기준년도  가입자 일련번호  처방내역일련번호  일련번호  성별코드  연령대코드(5세단위)  시도코드      요양개시일자  \\\n",
       "0  2020       370  11788523     1     2           13    41  2020-10-16   \n",
       "1  2020       466   9794740     1     2           13    41  2020-06-05   \n",
       "2  2020       538   5620454     1     2            9    41  2020-11-28   \n",
       "\n",
       "   약품일반성분명코드  1회 투약량  1일투약량  총투여일수     단가   금액    데이터 공개일자  \n",
       "0  222901ATB     1.0      3      3  103.0  927  2021-12-29  \n",
       "1  222901ATB     1.0      3      3  103.0  927  2021-12-29  \n",
       "2  222901ATB     1.0      3      3  103.0  927  2021-12-29  "
      ]
     },
     "execution_count": 6,
     "metadata": {},
     "output_type": "execute_result"
    }
   ],
   "source": [
    "pd.read_csv('./raw_data/2020/HP_T60_2020_1.CSV', encoding='cp949', nrows=3).head()"
   ]
  },
  {
   "cell_type": "code",
   "execution_count": 7,
   "metadata": {},
   "outputs": [
    {
     "ename": "KeyboardInterrupt",
     "evalue": "",
     "output_type": "error",
     "traceback": [
      "\u001b[1;31m---------------------------------------------------------------------------\u001b[0m",
      "\u001b[1;31mKeyboardInterrupt\u001b[0m                         Traceback (most recent call last)",
      "\u001b[1;32m~\\AppData\\Local\\Temp\\ipykernel_20964\\829768108.py\u001b[0m in \u001b[0;36m?\u001b[1;34m()\u001b[0m\n\u001b[0;32m      2\u001b[0m \u001b[1;32mfor\u001b[0m \u001b[0myear\u001b[0m \u001b[1;32min\u001b[0m \u001b[0mrange\u001b[0m\u001b[1;33m(\u001b[0m\u001b[1;36m2017\u001b[0m\u001b[1;33m,\u001b[0m \u001b[1;36m2021\u001b[0m\u001b[1;33m)\u001b[0m\u001b[1;33m:\u001b[0m  \u001b[1;31m# 2017~2020년 데이터를 읽어옵니다.\u001b[0m\u001b[1;33m\u001b[0m\u001b[1;33m\u001b[0m\u001b[0m\n\u001b[0;32m      3\u001b[0m     \u001b[0mrows\u001b[0m \u001b[1;33m=\u001b[0m \u001b[1;33m[\u001b[0m\u001b[1;33m]\u001b[0m\u001b[1;33m\u001b[0m\u001b[1;33m\u001b[0m\u001b[0m\n\u001b[0;32m      4\u001b[0m     \u001b[1;32mfor\u001b[0m \u001b[0mfile\u001b[0m \u001b[1;32min\u001b[0m \u001b[0mos\u001b[0m\u001b[1;33m.\u001b[0m\u001b[0mlistdir\u001b[0m\u001b[1;33m(\u001b[0m\u001b[1;34mf'./raw_data/{year}'\u001b[0m\u001b[1;33m)\u001b[0m\u001b[1;33m:\u001b[0m  \u001b[1;31m# 모든 파일을 읽어옵니다.\u001b[0m\u001b[1;33m\u001b[0m\u001b[1;33m\u001b[0m\u001b[0m\n\u001b[0;32m      5\u001b[0m         \u001b[1;32mfor\u001b[0m \u001b[0mchunk\u001b[0m \u001b[1;32min\u001b[0m \u001b[0mpd\u001b[0m\u001b[1;33m.\u001b[0m\u001b[0mread_csv\u001b[0m\u001b[1;33m(\u001b[0m\u001b[1;34mf'./raw_data/{year}/'\u001b[0m \u001b[1;33m+\u001b[0m \u001b[0mfile\u001b[0m\u001b[1;33m,\u001b[0m \u001b[0mencoding\u001b[0m\u001b[1;33m=\u001b[0m\u001b[1;34m'cp949'\u001b[0m\u001b[1;33m,\u001b[0m \u001b[0mchunksize\u001b[0m\u001b[1;33m=\u001b[0m\u001b[1;36m100000\u001b[0m\u001b[1;33m)\u001b[0m\u001b[1;33m:\u001b[0m\u001b[1;33m\u001b[0m\u001b[1;33m\u001b[0m\u001b[0m\n\u001b[1;32m----> 6\u001b[1;33m             \u001b[0mrows\u001b[0m\u001b[1;33m.\u001b[0m\u001b[0mappend\u001b[0m\u001b[1;33m(\u001b[0m\u001b[0mchunk\u001b[0m\u001b[1;33m[\u001b[0m\u001b[0mchunk\u001b[0m\u001b[1;33m[\u001b[0m\u001b[1;34m'약품일반성분명코드'\u001b[0m\u001b[1;33m]\u001b[0m\u001b[1;33m.\u001b[0m\u001b[0misin\u001b[0m\u001b[1;33m(\u001b[0m\u001b[0mMI_codes\u001b[0m\u001b[1;33m)\u001b[0m\u001b[1;33m]\u001b[0m\u001b[1;33m)\u001b[0m\u001b[1;33m\u001b[0m\u001b[1;33m\u001b[0m\u001b[0m\n\u001b[0m\u001b[0;32m      7\u001b[0m     \u001b[0mpd\u001b[0m\u001b[1;33m.\u001b[0m\u001b[0mconcat\u001b[0m\u001b[1;33m(\u001b[0m\u001b[0mrows\u001b[0m\u001b[1;33m)\u001b[0m\u001b[1;33m.\u001b[0m\u001b[0mto_csv\u001b[0m\u001b[1;33m(\u001b[0m\u001b[1;34mf'./data/antidepressant_prescription_{year}.csv'\u001b[0m\u001b[1;33m,\u001b[0m \u001b[0mindex\u001b[0m\u001b[1;33m=\u001b[0m\u001b[1;32mFalse\u001b[0m\u001b[1;33m)\u001b[0m\u001b[1;33m\u001b[0m\u001b[1;33m\u001b[0m\u001b[0m\n",
      "\u001b[1;32mc:\\Users\\YuHan\\anaconda3\\Lib\\site-packages\\pandas\\core\\frame.py\u001b[0m in \u001b[0;36m?\u001b[1;34m(self, key)\u001b[0m\n\u001b[0;32m   3880\u001b[0m             \u001b[1;32mreturn\u001b[0m \u001b[0mself\u001b[0m\u001b[1;33m.\u001b[0m\u001b[0mwhere\u001b[0m\u001b[1;33m(\u001b[0m\u001b[0mkey\u001b[0m\u001b[1;33m)\u001b[0m\u001b[1;33m\u001b[0m\u001b[1;33m\u001b[0m\u001b[0m\n\u001b[0;32m   3881\u001b[0m \u001b[1;33m\u001b[0m\u001b[0m\n\u001b[0;32m   3882\u001b[0m         \u001b[1;31m# Do we have a (boolean) 1d indexer?\u001b[0m\u001b[1;33m\u001b[0m\u001b[1;33m\u001b[0m\u001b[0m\n\u001b[0;32m   3883\u001b[0m         \u001b[1;32mif\u001b[0m \u001b[0mcom\u001b[0m\u001b[1;33m.\u001b[0m\u001b[0mis_bool_indexer\u001b[0m\u001b[1;33m(\u001b[0m\u001b[0mkey\u001b[0m\u001b[1;33m)\u001b[0m\u001b[1;33m:\u001b[0m\u001b[1;33m\u001b[0m\u001b[1;33m\u001b[0m\u001b[0m\n\u001b[1;32m-> 3884\u001b[1;33m             \u001b[1;32mreturn\u001b[0m \u001b[0mself\u001b[0m\u001b[1;33m.\u001b[0m\u001b[0m_getitem_bool_array\u001b[0m\u001b[1;33m(\u001b[0m\u001b[0mkey\u001b[0m\u001b[1;33m)\u001b[0m\u001b[1;33m\u001b[0m\u001b[1;33m\u001b[0m\u001b[0m\n\u001b[0m\u001b[0;32m   3885\u001b[0m \u001b[1;33m\u001b[0m\u001b[0m\n\u001b[0;32m   3886\u001b[0m         \u001b[1;31m# We are left with two options: a single key, and a collection of keys,\u001b[0m\u001b[1;33m\u001b[0m\u001b[1;33m\u001b[0m\u001b[0m\n\u001b[0;32m   3887\u001b[0m         \u001b[1;31m# We interpret tuples as collections only for non-MultiIndex\u001b[0m\u001b[1;33m\u001b[0m\u001b[1;33m\u001b[0m\u001b[0m\n",
      "\u001b[1;32mc:\\Users\\YuHan\\anaconda3\\Lib\\site-packages\\pandas\\core\\frame.py\u001b[0m in \u001b[0;36m?\u001b[1;34m(self, key)\u001b[0m\n\u001b[0;32m   3941\u001b[0m \u001b[1;33m\u001b[0m\u001b[0m\n\u001b[0;32m   3942\u001b[0m         \u001b[1;32mif\u001b[0m \u001b[0mkey\u001b[0m\u001b[1;33m.\u001b[0m\u001b[0mall\u001b[0m\u001b[1;33m(\u001b[0m\u001b[1;33m)\u001b[0m\u001b[1;33m:\u001b[0m\u001b[1;33m\u001b[0m\u001b[1;33m\u001b[0m\u001b[0m\n\u001b[0;32m   3943\u001b[0m             \u001b[1;32mreturn\u001b[0m \u001b[0mself\u001b[0m\u001b[1;33m.\u001b[0m\u001b[0mcopy\u001b[0m\u001b[1;33m(\u001b[0m\u001b[0mdeep\u001b[0m\u001b[1;33m=\u001b[0m\u001b[1;32mNone\u001b[0m\u001b[1;33m)\u001b[0m\u001b[1;33m\u001b[0m\u001b[1;33m\u001b[0m\u001b[0m\n\u001b[0;32m   3944\u001b[0m \u001b[1;33m\u001b[0m\u001b[0m\n\u001b[1;32m-> 3945\u001b[1;33m         \u001b[0mindexer\u001b[0m \u001b[1;33m=\u001b[0m \u001b[0mkey\u001b[0m\u001b[1;33m.\u001b[0m\u001b[0mnonzero\u001b[0m\u001b[1;33m(\u001b[0m\u001b[1;33m)\u001b[0m\u001b[1;33m[\u001b[0m\u001b[1;36m0\u001b[0m\u001b[1;33m]\u001b[0m\u001b[1;33m\u001b[0m\u001b[1;33m\u001b[0m\u001b[0m\n\u001b[0m\u001b[0;32m   3946\u001b[0m         \u001b[1;32mreturn\u001b[0m \u001b[0mself\u001b[0m\u001b[1;33m.\u001b[0m\u001b[0m_take_with_is_copy\u001b[0m\u001b[1;33m(\u001b[0m\u001b[0mindexer\u001b[0m\u001b[1;33m,\u001b[0m \u001b[0maxis\u001b[0m\u001b[1;33m=\u001b[0m\u001b[1;36m0\u001b[0m\u001b[1;33m)\u001b[0m\u001b[1;33m\u001b[0m\u001b[1;33m\u001b[0m\u001b[0m\n",
      "\u001b[1;31mKeyboardInterrupt\u001b[0m: "
     ]
    }
   ],
   "source": [
    "# 모든 파일에서 주성분코드 리스트에 있는 주성분코드가 포함된 행만 추출합니다.\n",
    "for year in range(2017, 2021):  # 2017~2020년 데이터를 읽어옵니다.\n",
    "    rows = []\n",
    "    for file in os.listdir(f'./raw_data/{year}'):  # 모든 파일을 읽어옵니다.\n",
    "        for chunk in pd.read_csv(f'./raw_data/{year}/' + file, encoding='cp949', chunksize=100000):\n",
    "            rows.append(chunk[chunk['약품일반성분명코드'].isin(MI_codes)])\n",
    "    pd.concat(rows).to_csv(f'./data/antidepressant_prescription_{year}.csv', index=False)"
   ]
  },
  {
   "cell_type": "markdown",
   "metadata": {},
   "source": [
    "2021년도 데이터 (주의: 컬럼명 다름)"
   ]
  },
  {
   "cell_type": "code",
   "execution_count": null,
   "metadata": {},
   "outputs": [
    {
     "data": {
      "text/html": [
       "<div>\n",
       "<style scoped>\n",
       "    .dataframe tbody tr th:only-of-type {\n",
       "        vertical-align: middle;\n",
       "    }\n",
       "\n",
       "    .dataframe tbody tr th {\n",
       "        vertical-align: top;\n",
       "    }\n",
       "\n",
       "    .dataframe thead th {\n",
       "        text-align: right;\n",
       "    }\n",
       "</style>\n",
       "<table border=\"1\" class=\"dataframe\">\n",
       "  <thead>\n",
       "    <tr style=\"text-align: right;\">\n",
       "      <th></th>\n",
       "      <th>STND_Y</th>\n",
       "      <th>IDV_ID</th>\n",
       "      <th>KEY_SEQ</th>\n",
       "      <th>SEQ_NO</th>\n",
       "      <th>SEX</th>\n",
       "      <th>AGE_GROUP</th>\n",
       "      <th>SIDO</th>\n",
       "      <th>RECU_FR_DT</th>\n",
       "      <th>GNL_NM_CD</th>\n",
       "      <th>DD_MQTY_FREQ</th>\n",
       "      <th>DD_EXEC_FREQ</th>\n",
       "      <th>MDCN_EXEC_FREQ</th>\n",
       "      <th>UN_COST</th>\n",
       "      <th>AMT</th>\n",
       "      <th>DATA_STD_DT</th>\n",
       "    </tr>\n",
       "  </thead>\n",
       "  <tbody>\n",
       "    <tr>\n",
       "      <th>0</th>\n",
       "      <td>2021</td>\n",
       "      <td>628074</td>\n",
       "      <td>9261</td>\n",
       "      <td>1</td>\n",
       "      <td>2</td>\n",
       "      <td>13</td>\n",
       "      <td>41</td>\n",
       "      <td>2021-09-13</td>\n",
       "      <td>347701ACH</td>\n",
       "      <td>1.0</td>\n",
       "      <td>1</td>\n",
       "      <td>3</td>\n",
       "      <td>521.0</td>\n",
       "      <td>1563</td>\n",
       "      <td>2022-08-11</td>\n",
       "    </tr>\n",
       "    <tr>\n",
       "      <th>1</th>\n",
       "      <td>2021</td>\n",
       "      <td>730013</td>\n",
       "      <td>13348</td>\n",
       "      <td>1</td>\n",
       "      <td>2</td>\n",
       "      <td>13</td>\n",
       "      <td>41</td>\n",
       "      <td>2021-02-17</td>\n",
       "      <td>493801ATB</td>\n",
       "      <td>1.0</td>\n",
       "      <td>1</td>\n",
       "      <td>3</td>\n",
       "      <td>534.0</td>\n",
       "      <td>1602</td>\n",
       "      <td>2022-08-11</td>\n",
       "    </tr>\n",
       "    <tr>\n",
       "      <th>2</th>\n",
       "      <td>2021</td>\n",
       "      <td>97734</td>\n",
       "      <td>16827</td>\n",
       "      <td>1</td>\n",
       "      <td>2</td>\n",
       "      <td>13</td>\n",
       "      <td>41</td>\n",
       "      <td>2021-06-10</td>\n",
       "      <td>374602ATB</td>\n",
       "      <td>1.0</td>\n",
       "      <td>1</td>\n",
       "      <td>3</td>\n",
       "      <td>469.0</td>\n",
       "      <td>1407</td>\n",
       "      <td>2022-08-11</td>\n",
       "    </tr>\n",
       "  </tbody>\n",
       "</table>\n",
       "</div>"
      ],
      "text/plain": [
       "   STND_Y  IDV_ID  KEY_SEQ  SEQ_NO  SEX  AGE_GROUP  SIDO  RECU_FR_DT  \\\n",
       "0    2021  628074     9261       1    2         13    41  2021-09-13   \n",
       "1    2021  730013    13348       1    2         13    41  2021-02-17   \n",
       "2    2021   97734    16827       1    2         13    41  2021-06-10   \n",
       "\n",
       "   GNL_NM_CD  DD_MQTY_FREQ  DD_EXEC_FREQ  MDCN_EXEC_FREQ  UN_COST   AMT  \\\n",
       "0  347701ACH           1.0             1               3    521.0  1563   \n",
       "1  493801ATB           1.0             1               3    534.0  1602   \n",
       "2  374602ATB           1.0             1               3    469.0  1407   \n",
       "\n",
       "  DATA_STD_DT  \n",
       "0  2022-08-11  \n",
       "1  2022-08-11  \n",
       "2  2022-08-11  "
      ]
     },
     "execution_count": 11,
     "metadata": {},
     "output_type": "execute_result"
    }
   ],
   "source": [
    "pd.read_csv('raw_data/2021/국민건강보험공단_의약품처방정보_01_20211231.csv', encoding='cp949', nrows=3).head()"
   ]
  },
  {
   "cell_type": "code",
   "execution_count": 68,
   "metadata": {},
   "outputs": [],
   "source": [
    "rows = []\n",
    "for file in os.listdir(f'./raw_data/2021'):  # 모든 파일을 읽어옵니다.\n",
    "    for chunk in pd.read_csv(f'./raw_data/2021/' + file, encoding='cp949', chunksize=100000):\n",
    "        rows.append(chunk[chunk['GNL_NM_CD'].isin(MI_codes)])\n",
    "pd.concat(rows).to_csv(f'./data/antidepressant_prescription_2021.csv', index=False)"
   ]
  },
  {
   "cell_type": "markdown",
   "metadata": {},
   "source": [
    "2022년도 데이터 (주의: 성분명코드 변환)"
   ]
  },
  {
   "cell_type": "code",
   "execution_count": 27,
   "metadata": {},
   "outputs": [
    {
     "data": {
      "text/html": [
       "<div>\n",
       "<style scoped>\n",
       "    .dataframe tbody tr th:only-of-type {\n",
       "        vertical-align: middle;\n",
       "    }\n",
       "\n",
       "    .dataframe tbody tr th {\n",
       "        vertical-align: top;\n",
       "    }\n",
       "\n",
       "    .dataframe thead th {\n",
       "        text-align: right;\n",
       "    }\n",
       "</style>\n",
       "<table border=\"1\" class=\"dataframe\">\n",
       "  <thead>\n",
       "    <tr style=\"text-align: right;\">\n",
       "      <th></th>\n",
       "      <th>기준년도</th>\n",
       "      <th>가입자일련번호</th>\n",
       "      <th>처방내역일련번호</th>\n",
       "      <th>약품일련번호</th>\n",
       "      <th>성별코드</th>\n",
       "      <th>연령대코드(5세단위)</th>\n",
       "      <th>시도코드</th>\n",
       "      <th>요양개시일자</th>\n",
       "      <th>약품일반성분명코드(ATC코드)</th>\n",
       "      <th>1회투약량</th>\n",
       "      <th>1일투약량</th>\n",
       "      <th>총투여일수</th>\n",
       "    </tr>\n",
       "  </thead>\n",
       "  <tbody>\n",
       "    <tr>\n",
       "      <th>0</th>\n",
       "      <td>2022</td>\n",
       "      <td>278817</td>\n",
       "      <td>5270722</td>\n",
       "      <td>1</td>\n",
       "      <td>2</td>\n",
       "      <td>13</td>\n",
       "      <td>41</td>\n",
       "      <td>2022-03-04</td>\n",
       "      <td>M01AE</td>\n",
       "      <td>1.0</td>\n",
       "      <td>3</td>\n",
       "      <td>3</td>\n",
       "    </tr>\n",
       "    <tr>\n",
       "      <th>1</th>\n",
       "      <td>2022</td>\n",
       "      <td>132289</td>\n",
       "      <td>13021551</td>\n",
       "      <td>1</td>\n",
       "      <td>2</td>\n",
       "      <td>13</td>\n",
       "      <td>41</td>\n",
       "      <td>2022-03-23</td>\n",
       "      <td>M01AE</td>\n",
       "      <td>1.0</td>\n",
       "      <td>3</td>\n",
       "      <td>3</td>\n",
       "    </tr>\n",
       "    <tr>\n",
       "      <th>2</th>\n",
       "      <td>2022</td>\n",
       "      <td>151731</td>\n",
       "      <td>10392393</td>\n",
       "      <td>1</td>\n",
       "      <td>2</td>\n",
       "      <td>13</td>\n",
       "      <td>41</td>\n",
       "      <td>2022-04-18</td>\n",
       "      <td>M01AE</td>\n",
       "      <td>1.0</td>\n",
       "      <td>3</td>\n",
       "      <td>3</td>\n",
       "    </tr>\n",
       "  </tbody>\n",
       "</table>\n",
       "</div>"
      ],
      "text/plain": [
       "   기준년도  가입자일련번호  처방내역일련번호  약품일련번호  성별코드  연령대코드(5세단위)  시도코드      요양개시일자  \\\n",
       "0  2022   278817   5270722       1     2           13    41  2022-03-04   \n",
       "1  2022   132289  13021551       1     2           13    41  2022-03-23   \n",
       "2  2022   151731  10392393       1     2           13    41  2022-04-18   \n",
       "\n",
       "  약품일반성분명코드(ATC코드)  1회투약량  1일투약량  총투여일수  \n",
       "0            M01AE    1.0      3      3  \n",
       "1            M01AE    1.0      3      3  \n",
       "2            M01AE    1.0      3      3  "
      ]
     },
     "execution_count": 27,
     "metadata": {},
     "output_type": "execute_result"
    }
   ],
   "source": [
    "pd.read_csv('raw_data/2022/국민건강보험공단_의약품처방정보_2022_1(수정).CSV', encoding='cp949', nrows=3).head()"
   ]
  },
  {
   "cell_type": "code",
   "execution_count": 30,
   "metadata": {},
   "outputs": [],
   "source": [
    "rows = []\n",
    "for file in os.listdir(f'./raw_data/2022'):  # 모든 파일을 읽어옵니다.\n",
    "    for chunk in pd.read_csv(f'./raw_data/2022/' + file, encoding='cp949', chunksize=100000):\n",
    "        rows.append(chunk[chunk['약품일반성분명코드(ATC코드)'].str[:4] == 'N06A'])\n",
    "pd.concat(rows).to_csv('./data/antidepressant_prescription_2022.csv', index=False)"
   ]
  },
  {
   "cell_type": "code",
   "execution_count": null,
   "metadata": {},
   "outputs": [
    {
     "data": {
      "text/plain": [
       "12662"
      ]
     },
     "metadata": {},
     "output_type": "display_data"
    }
   ],
   "source": [
    "df_2022 = pd.read_csv('./data/antidepressant_prescription_2022.csv')\n",
    "len(df_2022)"
   ]
  },
  {
   "cell_type": "markdown",
   "metadata": {},
   "source": [
    "2023년도 데이터"
   ]
  },
  {
   "cell_type": "code",
   "execution_count": 68,
   "metadata": {},
   "outputs": [
    {
     "data": {
      "text/html": [
       "<div>\n",
       "<style scoped>\n",
       "    .dataframe tbody tr th:only-of-type {\n",
       "        vertical-align: middle;\n",
       "    }\n",
       "\n",
       "    .dataframe tbody tr th {\n",
       "        vertical-align: top;\n",
       "    }\n",
       "\n",
       "    .dataframe thead th {\n",
       "        text-align: right;\n",
       "    }\n",
       "</style>\n",
       "<table border=\"1\" class=\"dataframe\">\n",
       "  <thead>\n",
       "    <tr style=\"text-align: right;\">\n",
       "      <th></th>\n",
       "      <th>기준년도</th>\n",
       "      <th>가입자일련번호</th>\n",
       "      <th>처방내역일련번호</th>\n",
       "      <th>약품일련번호</th>\n",
       "      <th>성별코드</th>\n",
       "      <th>연령대코드(5세단위)</th>\n",
       "      <th>시도코드</th>\n",
       "      <th>요양개시일자</th>\n",
       "      <th>약품일반성분명코드(ATC코드)</th>\n",
       "      <th>1회투약량</th>\n",
       "      <th>1일투약량</th>\n",
       "      <th>총투여일수</th>\n",
       "    </tr>\n",
       "  </thead>\n",
       "  <tbody>\n",
       "    <tr>\n",
       "      <th>0</th>\n",
       "      <td>2023</td>\n",
       "      <td>170188</td>\n",
       "      <td>13890231</td>\n",
       "      <td>1</td>\n",
       "      <td>2</td>\n",
       "      <td>4</td>\n",
       "      <td>41</td>\n",
       "      <td>2023-01-09</td>\n",
       "      <td>2229A</td>\n",
       "      <td>1.0</td>\n",
       "      <td>3</td>\n",
       "      <td>3</td>\n",
       "    </tr>\n",
       "    <tr>\n",
       "      <th>1</th>\n",
       "      <td>2023</td>\n",
       "      <td>322493</td>\n",
       "      <td>4188428</td>\n",
       "      <td>1</td>\n",
       "      <td>2</td>\n",
       "      <td>4</td>\n",
       "      <td>41</td>\n",
       "      <td>2023-01-03</td>\n",
       "      <td>2229A</td>\n",
       "      <td>1.0</td>\n",
       "      <td>3</td>\n",
       "      <td>3</td>\n",
       "    </tr>\n",
       "    <tr>\n",
       "      <th>2</th>\n",
       "      <td>2023</td>\n",
       "      <td>223677</td>\n",
       "      <td>6819879</td>\n",
       "      <td>1</td>\n",
       "      <td>2</td>\n",
       "      <td>4</td>\n",
       "      <td>41</td>\n",
       "      <td>2023-07-12</td>\n",
       "      <td>2229A</td>\n",
       "      <td>1.0</td>\n",
       "      <td>3</td>\n",
       "      <td>3</td>\n",
       "    </tr>\n",
       "  </tbody>\n",
       "</table>\n",
       "</div>"
      ],
      "text/plain": [
       "   기준년도  가입자일련번호  처방내역일련번호  약품일련번호  성별코드  연령대코드(5세단위)  시도코드      요양개시일자  \\\n",
       "0  2023   170188  13890231       1     2            4    41  2023-01-09   \n",
       "1  2023   322493   4188428       1     2            4    41  2023-01-03   \n",
       "2  2023   223677   6819879       1     2            4    41  2023-07-12   \n",
       "\n",
       "  약품일반성분명코드(ATC코드)  1회투약량  1일투약량  총투여일수  \n",
       "0            2229A    1.0      3      3  \n",
       "1            2229A    1.0      3      3  \n",
       "2            2229A    1.0      3      3  "
      ]
     },
     "execution_count": 68,
     "metadata": {},
     "output_type": "execute_result"
    }
   ],
   "source": [
    "pd.read_csv('raw_data/2023/1.국민건강보험공단_의약품처방정보_2023_1.CSV', encoding='cp949', nrows=3).head()"
   ]
  },
  {
   "cell_type": "markdown",
   "metadata": {},
   "source": [
    "2023년도 데이터는 주성분코드에서 변형된 코드를 사용합니다.\n",
    "\n",
    "주성분코드의 첫 4자리와 7번째자리의 숫자를 합쳐 만든 코드입니다."
   ]
  },
  {
   "cell_type": "code",
   "execution_count": 38,
   "metadata": {},
   "outputs": [],
   "source": [
    "ad_mapping['MI_code_short'] = ad_mapping['MI_code'].str[:4] + ad_mapping['MI_code'].str[6]\n",
    "MI_codes_short = ad_mapping['MI_code_short'].unique()"
   ]
  },
  {
   "cell_type": "code",
   "execution_count": 22,
   "metadata": {},
   "outputs": [],
   "source": [
    "rows = []\n",
    "for file in os.listdir(f'./raw_data/2023'):  # 모든 파일을 읽어옵니다.\n",
    "    for chunk in pd.read_csv(f'./raw_data/2023/' + file, encoding='cp949', chunksize=100000):\n",
    "        rows.append(chunk[chunk['약품일반성분명코드(ATC코드)'].isin(MI_codes_short)])\n",
    "pd.concat(rows).to_csv('./data/antidepressant_prescription_2023.csv', index=False)"
   ]
  },
  {
   "cell_type": "markdown",
   "metadata": {},
   "source": [
    "---\n",
    "### ATC 코드로 통일화"
   ]
  },
  {
   "cell_type": "code",
   "execution_count": 6,
   "metadata": {},
   "outputs": [],
   "source": [
    "# 모든 데이터를 같이 불러옵니다.\n",
    "df_2017 = pd.read_csv('./data/antidepressant_prescription_2017.csv')\n",
    "df_2018 = pd.read_csv('./data/antidepressant_prescription_2018.csv')\n",
    "df_2019 = pd.read_csv('./data/antidepressant_prescription_2019.csv')\n",
    "df_2020 = pd.read_csv('./data/antidepressant_prescription_2020.csv')\n",
    "df_2021 = pd.read_csv('./data/antidepressant_prescription_2021.csv')\n",
    "# df_2022 = pd.read_csv('./data/antidepressant_prescription_2022.csv')\n",
    "# df_2023 = pd.read_csv('./data/antidepressant_prescription_2023.csv')\n",
    "\n",
    "columns = df_2017.columns"
   ]
  },
  {
   "cell_type": "code",
   "execution_count": 9,
   "metadata": {},
   "outputs": [
    {
     "name": "stdout",
     "output_type": "stream",
     "text": [
      "2017년도 데이터: 205686건\n",
      "2018년도 데이터: 212869건\n",
      "2019년도 데이터: 231136건\n",
      "2020년도 데이터: 257946건\n",
      "2021년도 데이터: 276131건\n"
     ]
    }
   ],
   "source": [
    "for df in zip([df_2017, df_2018, df_2019, df_2020, df_2021], [2017, 2018, 2019, 2020, 2021]):\n",
    "    print(f'{df[1]}년도 데이터: {len(df[0])}건')"
   ]
  },
  {
   "cell_type": "markdown",
   "metadata": {},
   "source": [
    "#### 매핑 진행"
   ]
  },
  {
   "cell_type": "code",
   "execution_count": null,
   "metadata": {},
   "outputs": [
    {
     "name": "stdout",
     "output_type": "stream",
     "text": [
      "2017 매핑 실패 개수: 0\n",
      "2018 매핑 실패 개수: 0\n",
      "2019 매핑 실패 개수: 0\n",
      "2020 매핑 실패 개수: 0\n",
      "2021 매핑 실패 개수: 0\n"
     ]
    }
   ],
   "source": [
    "# 17, 18, 19, 20, 21년도의 주성분코드를 ATC코드로 변환합니다\n",
    "for df_year, year in zip([df_2017, df_2018, df_2019, df_2020, df_2021], ['2017', '2018', '2019', '2020', '2021']):\n",
    "    df_year.columns = columns  # 컬럼명을 통일합니다.\n",
    "    if year in ['2017', '2018', '2019']:\n",
    "        df_year[['요양개시일자', '데이터 공개일자']] = df_year[['요양개시일자', '데이터 공개일자']].apply(pd.to_datetime, format='%Y%m%d')\n",
    "    else:\n",
    "        df_year[['요양개시일자', '데이터 공개일자']] = df_year[['요양개시일자', '데이터 공개일자']].apply(pd.to_datetime)\n",
    "    df_year['요양개시일자'] = pd.to_datetime(df_year['요양개시일자'])\n",
    "    df_year['ATC코드'] = df_year['약품일반성분명코드'].map(ad_mapping.set_index('MI_code')['ATC_code'])\n",
    "    print(f\"{year} 매핑 실패 개수: {df_year['ATC코드'].isnull().sum()}\")\n",
    "    # df_year.drop(['약품일반성분명코드', '단가', '금액', '데이터 공개일자'], axis=1, inplace=True)"
   ]
  },
  {
   "cell_type": "code",
   "execution_count": 42,
   "metadata": {},
   "outputs": [],
   "source": [
    "# 년도별 데이터를 합칩니다.\n",
    "df = pd.concat([df_2017, df_2018, df_2019, df_2020, df_2021])"
   ]
  },
  {
   "cell_type": "code",
   "execution_count": 43,
   "metadata": {},
   "outputs": [
    {
     "name": "stdout",
     "output_type": "stream",
     "text": [
      "<class 'pandas.core.frame.DataFrame'>\n",
      "Index: 1183768 entries, 0 to 276130\n",
      "Data columns (total 16 columns):\n",
      " #   Column       Non-Null Count    Dtype         \n",
      "---  ------       --------------    -----         \n",
      " 0   기준년도         1183768 non-null  int64         \n",
      " 1   가입자일련번호      1183768 non-null  int64         \n",
      " 2   처방내역일련번호     1183768 non-null  int64         \n",
      " 3   일련번호         1183768 non-null  int64         \n",
      " 4   성별코드         1183768 non-null  int64         \n",
      " 5   연령대코드(5세단위)  1183768 non-null  int64         \n",
      " 6   시도코드         1183768 non-null  int64         \n",
      " 7   요양개시일자       1183768 non-null  datetime64[ns]\n",
      " 8   약품일반성분명코드    1183768 non-null  object        \n",
      " 9   1회 투약량       1183768 non-null  float64       \n",
      " 10  1일투약량        1183768 non-null  int64         \n",
      " 11  총투여일수        1183768 non-null  int64         \n",
      " 12  단가           1183768 non-null  float64       \n",
      " 13  금액           1183768 non-null  int64         \n",
      " 14  데이터 공개일자     1183768 non-null  datetime64[ns]\n",
      " 15  ATC코드        1183768 non-null  object        \n",
      "dtypes: datetime64[ns](2), float64(2), int64(10), object(2)\n",
      "memory usage: 153.5+ MB\n"
     ]
    }
   ],
   "source": [
    "df.info()"
   ]
  },
  {
   "cell_type": "code",
   "execution_count": 47,
   "metadata": {},
   "outputs": [],
   "source": [
    "# 전체 데이터를 저장합니다\n",
    "df.to_parquet('./data/antidepressant_prescription_all_years.parquet', index=False)"
   ]
  },
  {
   "cell_type": "markdown",
   "metadata": {},
   "source": [
    "---\n",
    "## EDA"
   ]
  },
  {
   "cell_type": "code",
   "execution_count": 2,
   "metadata": {},
   "outputs": [],
   "source": [
    "# 데이터를 다시 불러옵니다\n",
    "df = pd.read_parquet('./data/antidepressant_prescription_all_years.parquet')"
   ]
  },
  {
   "cell_type": "markdown",
   "metadata": {},
   "source": [
    "2017년도 이후로 100만명의 샘플 중 항우울제를 처방받는 환자의 수의 변화를 시각화 해보겠습니다."
   ]
  },
  {
   "cell_type": "code",
   "execution_count": 4,
   "metadata": {},
   "outputs": [
    {
     "data": {
      "image/png": "[encoded data removed]",
      "text/plain": [
       "<Figure size 640x480 with 1 Axes>"
      ]
     },
     "metadata": {},
     "output_type": "display_data"
    }
   ],
   "source": [
    "# 년도별 가입자일련번호 수를 시각화합니다.\n",
    "df['요양개시일자'].dt.year.value_counts().sort_index().plot(kind='bar')\n",
    "plt.title('년도별 가입자일련번호 수')\n",
    "plt.show()"
   ]
  },
  {
   "cell_type": "code",
   "execution_count": 3,
   "metadata": {},
   "outputs": [
    {
     "data": {
      "image/png": "[encoded data removed]",
      "text/plain": [
       "<Figure size 1000x600 with 1 Axes>"
      ]
     },
     "metadata": {},
     "output_type": "display_data"
    }
   ],
   "source": [
    "# 각 연령대별 처방전 수를 기준년도별로 시각화합니다\n",
    "plt.figure(figsize=(10, 6))\n",
    "for year in df['기준년도'].unique():\n",
    "    df_year = df[df['기준년도'] == year]\n",
    "    df_year.groupby('연령대코드(5세단위)')['처방내역일련번호'].count().plot(kind='line', alpha=0.7, label=year)\n",
    "plt.title('연령대별 처방전 수')\n",
    "plt.ylabel('처방전 수')\n",
    "plt.xlabel('연령대')\n",
    "plt.legend()\n",
    "plt.show()"
   ]
  },
  {
   "cell_type": "code",
   "execution_count": 7,
   "metadata": {},
   "outputs": [
    {
     "data": {
      "image/png": "[encoded data removed]",
      "text/plain": [
       "<Figure size 640x480 with 1 Axes>"
      ]
     },
     "metadata": {},
     "output_type": "display_data"
    }
   ],
   "source": [
    "# 처방내역일련번호으로 그룹화하여 같이 처방된 약품의 개수를 세어봅니다.\n",
    "prescription_counts = df.groupby('처방내역일련번호').size()\n",
    "\n",
    "# 처방된 약품의 개수를 히스토그램으로 그립니다.\n",
    "plt.hist(prescription_counts, bins=range(1, 14))\n",
    "plt.xlabel('Number of co-prescriptions')\n",
    "plt.ylabel('Frequency')\n",
    "plt.yscale('log')\n",
    "plt.show()"
   ]
  },
  {
   "cell_type": "markdown",
   "metadata": {},
   "source": [
    "---"
   ]
  },
  {
   "cell_type": "markdown",
   "metadata": {},
   "source": [
    "## Part II\n",
    "\n",
    "우울증 유무가 클러스터링 차이를 유발하는지\n",
    "\n",
    "가설) 우울증 네트워크가 더 dense 할것이다. 우울증 환자들은\n",
    "양쪽에서 같은 군을 비교하기 위해서 항우울제 처방내역을 기준으로 특정 횟수이상으로 처방된 약들만 고려. \n",
    "\n",
    "major 하게 같이 처방되는 애들만 골라서 보자\n",
    "-> bias 있을수도 있다.\n",
    "\n",
    "\n",
    "안되면 안되는대로 다른 특징\n",
    "\n",
    "sbm 돌리는 부분. 애내들이 어떠한 형식의 네트워크인지 기본적인 설명\n",
    "예) 가장 처방빈도가 높은 약물이 뭐가 있는지 간략하게 설명, (어떤 병)\n",
    "그이후로 가설검정\n",
    "\n",
    "antidepressant_prescription2021에 pid 기반으로 2021 년도 우울증 환자 처방내역 뽑아서 모든약물들 나열한다음에 처방횟수기준으로 자르기 + 우울증 약물 제거. \n",
    "gephi로 시각화.\n",
    "\n",
    "이 약물들에 대해서 (2021) 돌아가서 이 약물들에 대한 처방내역을 뽑아온다. \n",
    "\n",
    "n명 파악."
   ]
  },
  {
   "cell_type": "code",
   "execution_count": 4,
   "metadata": {},
   "outputs": [
    {
     "data": {
      "text/html": [
       "<div>\n",
       "<style scoped>\n",
       "    .dataframe tbody tr th:only-of-type {\n",
       "        vertical-align: middle;\n",
       "    }\n",
       "\n",
       "    .dataframe tbody tr th {\n",
       "        vertical-align: top;\n",
       "    }\n",
       "\n",
       "    .dataframe thead th {\n",
       "        text-align: right;\n",
       "    }\n",
       "</style>\n",
       "<table border=\"1\" class=\"dataframe\">\n",
       "  <thead>\n",
       "    <tr style=\"text-align: right;\">\n",
       "      <th></th>\n",
       "      <th>STND_Y</th>\n",
       "      <th>IDV_ID</th>\n",
       "      <th>KEY_SEQ</th>\n",
       "      <th>SEQ_NO</th>\n",
       "      <th>SEX</th>\n",
       "      <th>AGE_GROUP</th>\n",
       "      <th>SIDO</th>\n",
       "      <th>RECU_FR_DT</th>\n",
       "      <th>GNL_NM_CD</th>\n",
       "      <th>DD_MQTY_FREQ</th>\n",
       "      <th>DD_EXEC_FREQ</th>\n",
       "      <th>MDCN_EXEC_FREQ</th>\n",
       "      <th>UN_COST</th>\n",
       "      <th>AMT</th>\n",
       "      <th>DATA_STD_DT</th>\n",
       "    </tr>\n",
       "  </thead>\n",
       "  <tbody>\n",
       "    <tr>\n",
       "      <th>0</th>\n",
       "      <td>2021</td>\n",
       "      <td>628074</td>\n",
       "      <td>9261</td>\n",
       "      <td>1</td>\n",
       "      <td>2</td>\n",
       "      <td>13</td>\n",
       "      <td>41</td>\n",
       "      <td>2021-09-13</td>\n",
       "      <td>347701ACH</td>\n",
       "      <td>1.0</td>\n",
       "      <td>1</td>\n",
       "      <td>3</td>\n",
       "      <td>521.0</td>\n",
       "      <td>1563</td>\n",
       "      <td>2022-08-11</td>\n",
       "    </tr>\n",
       "    <tr>\n",
       "      <th>1</th>\n",
       "      <td>2021</td>\n",
       "      <td>730013</td>\n",
       "      <td>13348</td>\n",
       "      <td>1</td>\n",
       "      <td>2</td>\n",
       "      <td>13</td>\n",
       "      <td>41</td>\n",
       "      <td>2021-02-17</td>\n",
       "      <td>493801ATB</td>\n",
       "      <td>1.0</td>\n",
       "      <td>1</td>\n",
       "      <td>3</td>\n",
       "      <td>534.0</td>\n",
       "      <td>1602</td>\n",
       "      <td>2022-08-11</td>\n",
       "    </tr>\n",
       "    <tr>\n",
       "      <th>2</th>\n",
       "      <td>2021</td>\n",
       "      <td>97734</td>\n",
       "      <td>16827</td>\n",
       "      <td>1</td>\n",
       "      <td>2</td>\n",
       "      <td>13</td>\n",
       "      <td>41</td>\n",
       "      <td>2021-06-10</td>\n",
       "      <td>374602ATB</td>\n",
       "      <td>1.0</td>\n",
       "      <td>1</td>\n",
       "      <td>3</td>\n",
       "      <td>469.0</td>\n",
       "      <td>1407</td>\n",
       "      <td>2022-08-11</td>\n",
       "    </tr>\n",
       "  </tbody>\n",
       "</table>\n",
       "</div>"
      ],
      "text/plain": [
       "   STND_Y  IDV_ID  KEY_SEQ  SEQ_NO  SEX  AGE_GROUP  SIDO  RECU_FR_DT  \\\n",
       "0    2021  628074     9261       1    2         13    41  2021-09-13   \n",
       "1    2021  730013    13348       1    2         13    41  2021-02-17   \n",
       "2    2021   97734    16827       1    2         13    41  2021-06-10   \n",
       "\n",
       "   GNL_NM_CD  DD_MQTY_FREQ  DD_EXEC_FREQ  MDCN_EXEC_FREQ  UN_COST   AMT  \\\n",
       "0  347701ACH           1.0             1               3    521.0  1563   \n",
       "1  493801ATB           1.0             1               3    534.0  1602   \n",
       "2  374602ATB           1.0             1               3    469.0  1407   \n",
       "\n",
       "  DATA_STD_DT  \n",
       "0  2022-08-11  \n",
       "1  2022-08-11  \n",
       "2  2022-08-11  "
      ]
     },
     "execution_count": 4,
     "metadata": {},
     "output_type": "execute_result"
    }
   ],
   "source": [
    "pd.read_csv('raw_data/2021/국민건강보험공단_의약품처방정보_01_20211231.csv', encoding='cp949', nrows=3).head()"
   ]
  },
  {
   "cell_type": "code",
   "execution_count": 8,
   "metadata": {},
   "outputs": [],
   "source": [
    "# 2021년 데이터의 처방전일련번호 목록을 추출합니다.\n",
    "df_2021 = pd.read_csv('./data/antidepressant_prescription_2021.csv')\n",
    "ad_prescription_list = df_2021['KEY_SEQ'].unique()"
   ]
  },
  {
   "cell_type": "code",
   "execution_count": 9,
   "metadata": {},
   "outputs": [],
   "source": [
    "# 원본 데이터에서 해당되는 처방전을 추출합니다.\n",
    "rows = []\n",
    "for chunk in pd.read_csv('./raw_data/2021/국민건강보험공단_의약품처방정보_01_20211231.csv', encoding='cp949', chunksize=100000):\n",
    "    rows.append(chunk[chunk['KEY_SEQ'].isin(ad_prescription_list)])\n",
    "for chunk in pd.read_csv('./raw_data/2021/국민건강보험공단_의약품처방정보_02_20211231.csv', encoding='cp949', chunksize=100000):\n",
    "    rows.append(chunk[chunk['KEY_SEQ'].isin(ad_prescription_list)])\n",
    "for chunk in pd.read_csv('./raw_data/2021/국민건강보험공단_의약품처방정보_03_20211231.csv', encoding='cp949', chunksize=100000):\n",
    "    rows.append(chunk[chunk['KEY_SEQ'].isin(ad_prescription_list)])\n",
    "\n",
    "# 추출한 행을 합칩니다.\n",
    "df_ad_pres_2021 = pd.concat(rows)"
   ]
  },
  {
   "cell_type": "code",
   "execution_count": 27,
   "metadata": {},
   "outputs": [
    {
     "name": "stdout",
     "output_type": "stream",
     "text": [
      "STND_Y             0\n",
      "IDV_ID             0\n",
      "KEY_SEQ            0\n",
      "SEQ_NO             0\n",
      "SEX                0\n",
      "AGE_GROUP          0\n",
      "SIDO               0\n",
      "RECU_FR_DT         0\n",
      "GNL_NM_CD         47\n",
      "DD_MQTY_FREQ       0\n",
      "DD_EXEC_FREQ       0\n",
      "MDCN_EXEC_FREQ     0\n",
      "UN_COST            0\n",
      "AMT                0\n",
      "DATA_STD_DT        0\n",
      "dtype: int64\n",
      "중복된 행의 수: 0\n"
     ]
    }
   ],
   "source": [
    "# 추출한 데이터에 null 값이 있는지 확인합니다.\n",
    "print(df_ad_pres_2021.isnull().sum())\n",
    "\n",
    "# 데이터에 중복된 행이 있는지 확인합니다.\n",
    "print(\"중복된 행의 수:\", df_ad_pres_2021.duplicated().sum())\n",
    "\n",
    "# null 값이 있는 행을 제거합니다.\n",
    "df_full = df_ad_pres_2021.dropna()"
   ]
  },
  {
   "cell_type": "code",
   "execution_count": 28,
   "metadata": {},
   "outputs": [
    {
     "name": "stdout",
     "output_type": "stream",
     "text": [
      "2021년 항우울제 처방환자 매핑 실패 개수: 0\n"
     ]
    }
   ],
   "source": [
    "# 매핑 데이터를 불러옵니다.\n",
    "mapping = pd.read_csv('data/mapping.csv')\n",
    "\n",
    "df_full = df_full.copy()\n",
    "df_full.columns = columns  # 컬럼명을 통일합니다.\n",
    "df_full[['요양개시일자', '데이터 공개일자']] = df_full[['요양개시일자', '데이터 공개일자']].apply(pd.to_datetime)\n",
    "df_full['ATC코드'] = df_full['약품일반성분명코드'].map(mapping.set_index('주성분코드_9')['ATC코드'])\n",
    "print(f\"2021년 항우울제 처방환자 매핑 실패 개수: {df_full['ATC코드'].isnull().sum()}\")"
   ]
  },
  {
   "cell_type": "code",
   "execution_count": 29,
   "metadata": {},
   "outputs": [],
   "source": [
    "# 추출한 데이터를 CSV 파일로 저장합니다.\n",
    "df_full.to_csv('./data/prescription_with_ad_2021.csv', index=False)"
   ]
  },
  {
   "cell_type": "code",
   "execution_count": 30,
   "metadata": {},
   "outputs": [
    {
     "name": "stdout",
     "output_type": "stream",
     "text": [
      "2017년 항우울제 처방환자 수: 52159명\n"
     ]
    }
   ],
   "source": [
    "print(f\"2021년 항우울제 처방환자 수: {df_full['가입자일련번호'].nunique()}명\")"
   ]
  },
  {
   "cell_type": "code",
   "execution_count": 32,
   "metadata": {},
   "outputs": [],
   "source": [
    "# 항우울제 데이터를 제외합니다\n",
    "df_non_ad_medication = df_full[~df_full['ATC코드'].isin(ATC_codes)]"
   ]
  },
  {
   "cell_type": "code",
   "execution_count": 33,
   "metadata": {},
   "outputs": [
    {
     "name": "stdout",
     "output_type": "stream",
     "text": [
      "206\n"
     ]
    },
    {
     "data": {
      "image/png": "[encoded data removed]",
      "text/plain": [
       "<Figure size 1400x600 with 1 Axes>"
      ]
     },
     "metadata": {},
     "output_type": "display_data"
    }
   ],
   "source": [
    "# 500번 이상 처방된 약품\n",
    "filter_n = 500\n",
    "\n",
    "# 최소 횟수 이상 처방된 약품을 찾습니다.\n",
    "interested_meds_list = df_non_ad_medication['ATC코드'].value_counts().loc[lambda x: x > filter_n].index\n",
    "print(len(interested_meds_list))\n",
    "\n",
    "# 최소 횟수 이상 처방된 약품을 시각화합니다.\n",
    "plt.figure(figsize=(14, 6))\n",
    "df_non_ad_medication['ATC코드'].value_counts().loc[lambda x: x > filter_n].plot(kind='bar')\n",
    "plt.title(f'{filter_n}번 이상 처방된 약품')\n",
    "plt.show()"
   ]
  },
  {
   "cell_type": "code",
   "execution_count": 34,
   "metadata": {},
   "outputs": [
    {
     "name": "stdout",
     "output_type": "stream",
     "text": [
      "N으로 시작하는 ATC 코드를 가진 데이터의 수: 54\n",
      "N으로 시작하지 않는 ATC 코드를 가진 데이터의 수: 152\n"
     ]
    }
   ],
   "source": [
    "# N으로 시작하는 ATC 코드를 가진 데이터의 수를 확인합니다.\n",
    "print(f\"N으로 시작하는 ATC 코드를 가진 데이터의 수: {interested_meds_list.str.startswith('N').sum()}\")\n",
    "print(f\"N으로 시작하지 않는 ATC 코드를 가진 데이터의 수: {len(interested_meds_list) - interested_meds_list.str.startswith('N').sum()}\")\n",
    "\n",
    "# N으로 시작하는 ATC 코드를 제외한 데이터를 추출합니다.\n",
    "non_N_medication = interested_meds_list[~interested_meds_list.str.startswith('N')]"
   ]
  },
  {
   "cell_type": "code",
   "execution_count": 36,
   "metadata": {},
   "outputs": [
    {
     "data": {
      "image/png": "[encoded data removed]",
      "text/plain": [
       "<Figure size 800x600 with 1 Axes>"
      ]
     },
     "metadata": {},
     "output_type": "display_data"
    }
   ],
   "source": [
    "# 시작 문자별로 데이터수를 시각화합니다\n",
    "plt.figure(figsize=(8, 6))\n",
    "non_N_medication.str[:3].value_counts().plot(kind='bar')\n",
    "plt.title('처방된 약품의 시작 문자별 수')\n",
    "plt.show()"
   ]
  },
  {
   "cell_type": "markdown",
   "metadata": {},
   "source": [
    "### 대조군 생성"
   ]
  },
  {
   "cell_type": "code",
   "execution_count": 45,
   "metadata": {},
   "outputs": [],
   "source": [
    "# 원본 데이터에서 해당되는 처방전을 추출합니다.\n",
    "rows = []\n",
    "for chunk in pd.read_csv('./raw_data/2021/국민건강보험공단_의약품처방정보_01_20211231.csv', encoding='cp949', chunksize=100000):\n",
    "    rows.append(chunk[~chunk['KEY_SEQ'].isin(ad_prescription_list)])\n",
    "for chunk in pd.read_csv('./raw_data/2021/국민건강보험공단_의약품처방정보_02_20211231.csv', encoding='cp949', chunksize=100000):\n",
    "    rows.append(chunk[~chunk['KEY_SEQ'].isin(ad_prescription_list)])\n",
    "for chunk in pd.read_csv('./raw_data/2021/국민건강보험공단_의약품처방정보_03_20211231.csv', encoding='cp949', chunksize=100000):\n",
    "    rows.append(chunk[~chunk['KEY_SEQ'].isin(ad_prescription_list)])\n",
    "\n",
    "# 추출한 행을 합칩니다.\n",
    "df_non_ad_pres_2021 = pd.concat(rows)"
   ]
  },
  {
   "cell_type": "code",
   "execution_count": 46,
   "metadata": {},
   "outputs": [
    {
     "name": "stdout",
     "output_type": "stream",
     "text": [
      "STND_Y               0\n",
      "IDV_ID               0\n",
      "KEY_SEQ              0\n",
      "SEQ_NO               0\n",
      "SEX                  0\n",
      "AGE_GROUP            0\n",
      "SIDO                 0\n",
      "RECU_FR_DT           0\n",
      "GNL_NM_CD         2184\n",
      "DD_MQTY_FREQ         0\n",
      "DD_EXEC_FREQ         0\n",
      "MDCN_EXEC_FREQ       0\n",
      "UN_COST              0\n",
      "AMT                  0\n",
      "DATA_STD_DT          0\n",
      "dtype: int64\n",
      "중복된 행의 수: 2\n"
     ]
    }
   ],
   "source": [
    "# 추출한 데이터에 null 값이 있는지 확인합니다.\n",
    "print(df_non_ad_pres_2021.isnull().sum())\n",
    "if df_non_ad_pres_2021.isnull().sum().sum() > 0:\n",
    "    # 있다면 null 값이 있는 행을 제거합니다.\n",
    "    df_non_ad_pres_2021 = df_non_ad_pres_2021.dropna()\n",
    "\n",
    "# 데이터에 중복된 행이 있는지 확인합니다.\n",
    "print(\"중복된 행의 수:\", df_non_ad_pres_2021.duplicated().sum())\n",
    "if df_non_ad_pres_2021.duplicated().sum() > 0:\n",
    "    # 있다면 중복된 행을 제거합니다.\n",
    "    df_non_ad_pres_2021 = df_non_ad_pres_2021.drop_duplicates()"
   ]
  },
  {
   "cell_type": "code",
   "execution_count": 7,
   "metadata": {},
   "outputs": [
    {
     "name": "stdout",
     "output_type": "stream",
     "text": [
      "30927750\n"
     ]
    }
   ],
   "source": [
    "print(len(df_non_ad_pres_2021))\n",
    "\n",
    "# 데이터를 저장합니다.\n",
    "df_non_ad_pres_2021.columns = columns  # 컬럼명을 통일합니다.\n",
    "df_non_ad_pres_2021.to_parquet('./data/prescription_without_ad_2021.parquet', index=False)"
   ]
  },
  {
   "cell_type": "code",
   "execution_count": 41,
   "metadata": {},
   "outputs": [],
   "source": [
    "df_non_ad_pres_2021 = pd.read_parquet('./data/prescription_without_ad_2021.parquet')"
   ]
  },
  {
   "cell_type": "markdown",
   "metadata": {},
   "source": [
    "### 나이, 환자 수 기반으로 샘플링 진행"
   ]
  },
  {
   "cell_type": "markdown",
   "metadata": {},
   "source": [
    "#### i) 나이 65세 이상 (19065명)"
   ]
  },
  {
   "cell_type": "code",
   "execution_count": 111,
   "metadata": {},
   "outputs": [],
   "source": [
    "mapping = pd.read_csv('data/mapping.csv')"
   ]
  },
  {
   "cell_type": "code",
   "execution_count": 112,
   "metadata": {},
   "outputs": [],
   "source": [
    "# 나이 65세 이상인 환자만 추출합니다\n",
    "df_over_65 = df_non_ad_pres_2021[df_non_ad_pres_2021['연령대코드(5세단위)'] >= 14]"
   ]
  },
  {
   "cell_type": "code",
   "execution_count": 113,
   "metadata": {},
   "outputs": [
    {
     "name": "stdout",
     "output_type": "stream",
     "text": [
      "2021년 65세 이상 환자 매핑 실패 개수: 469\n"
     ]
    }
   ],
   "source": [
    "# ATC 코드를 매핑합니다\n",
    "df_over_65 = df_over_65.copy()\n",
    "df_over_65[['요양개시일자', '데이터 공개일자']] = df_over_65[['요양개시일자', '데이터 공개일자']].apply(pd.to_datetime)\n",
    "df_over_65['ATC코드'] = df_over_65['약품일반성분명코드'].map(mapping.set_index('주성분코드_9')['ATC코드'])\n",
    "print(f\"2021년 65세 이상 환자 매핑 실패 개수: {df_over_65['ATC코드'].isnull().sum()}\")"
   ]
  },
  {
   "cell_type": "code",
   "execution_count": 114,
   "metadata": {},
   "outputs": [],
   "source": [
    "# 만성질환 치료용 약물들을 불러옵니다.\n",
    "comor_mapping = pd.read_csv('data/mapping/comorbidities_mapping.csv')\n",
    "comor_ATC_codes = comor_mapping['ATC코드'].unique()"
   ]
  },
  {
   "cell_type": "code",
   "execution_count": 115,
   "metadata": {},
   "outputs": [],
   "source": [
    "# 매핑 실패한 데이터 중 만성질환 치료용 약물이 있는지 확인합니다.\n",
    "temp = df_over_65[df_over_65['ATC코드'].isnull()]['약품일반성분명코드'].unique()\n",
    "for med in comor_ATC_codes:\n",
    "    if med in temp:\n",
    "        print(med)  # 아무것도 출력되지 않아야 합니다."
   ]
  },
  {
   "cell_type": "code",
   "execution_count": 117,
   "metadata": {},
   "outputs": [],
   "source": [
    "# 만성질환 치료용 약품만 추출합니다.\n",
    "df_over_65_comor = df_over_65[df_over_65['ATC코드'].isin(comor_ATC_codes)]"
   ]
  },
  {
   "cell_type": "code",
   "execution_count": 118,
   "metadata": {},
   "outputs": [
    {
     "name": "stdout",
     "output_type": "stream",
     "text": [
      "환자 수: 158174\n"
     ]
    }
   ],
   "source": [
    "print(\"환자 수:\", df_over_65_comor['가입자일련번호'].nunique())"
   ]
  },
  {
   "cell_type": "code",
   "execution_count": 119,
   "metadata": {},
   "outputs": [
    {
     "name": "stdout",
     "output_type": "stream",
     "text": [
      "환자 수: 12164\n"
     ]
    }
   ],
   "source": [
    "# 랜덤으로 12164명을 추출합니다\n",
    "np.random.seed(42)\n",
    "sample_id = np.random.choice(df_over_65_comor['가입자일련번호'].unique(), 12164, replace=False)\n",
    "\n",
    "# 샘플링한 환자들의 데이터만 추출합니다.\n",
    "df_over_65_comor_sampled= df_over_65_comor[df_over_65_comor['가입자일련번호'].isin(sample_id)]\n",
    "print(\"환자 수:\", df_over_65_comor_sampled['가입자일련번호'].nunique())\n",
    "\n",
    "# 데이터를 저장합니다.\n",
    "df_over_65_comor_sampled.to_csv('./data/prescription_over_65_comor_sample_2021.csv', index=False)"
   ]
  },
  {
   "cell_type": "code",
   "execution_count": 80,
   "metadata": {},
   "outputs": [
    {
     "data": {
      "text/plain": [
       "201593"
      ]
     },
     "execution_count": 80,
     "metadata": {},
     "output_type": "execute_result"
    }
   ],
   "source": [
    "len(df_over_65_comor_sampled)"
   ]
  },
  {
   "cell_type": "markdown",
   "metadata": {},
   "source": [
    "#### ii) 나이 10~20 (1131명)"
   ]
  },
  {
   "cell_type": "code",
   "execution_count": null,
   "metadata": {},
   "outputs": [],
   "source": [
    "# 십대인 환자만 추출합니다\n",
    "df_teens = df_non_ad_pres_2021[df_non_ad_pres_2021['연령대코드(5세단위)'].isin([3,4])]"
   ]
  },
  {
   "cell_type": "code",
   "execution_count": null,
   "metadata": {},
   "outputs": [
    {
     "name": "stdout",
     "output_type": "stream",
     "text": [
      "2021년 십대 환자 매핑 실패 개수: 7\n"
     ]
    }
   ],
   "source": [
    "# ATC 코드를 매핑합니다\n",
    "df_teens = df_teens.copy()\n",
    "df_teens[['요양개시일자', '데이터 공개일자']] = df_teens[['요양개시일자', '데이터 공개일자']].apply(pd.to_datetime)\n",
    "df_teens['ATC코드'] = df_teens['약품일반성분명코드'].map(mapping.set_index('주성분코드_9')['ATC코드'])\n",
    "print(f\"2021년 십대 환자 매핑 실패 개수: {df_teens['ATC코드'].isnull().sum()}\")"
   ]
  },
  {
   "cell_type": "code",
   "execution_count": null,
   "metadata": {},
   "outputs": [],
   "source": [
    "# 매핑 실패한 데이터 중 만성질환 치료용 약물이 있는지 확인합니다.\n",
    "temp = df_teens[df_teens['ATC코드'].isnull()]['약품일반성분명코드'].unique()\n",
    "for med in comor_ATC_codes:\n",
    "    if med in temp:\n",
    "        print(med)  # 아무것도 출력되지 않아야 합니다.\n",
    "\n",
    "# 만성질환 치료용 약품만 추출합니다.\n",
    "df_teens_comor = df_teens[df_teens['ATC코드'].isin(comor_ATC_codes)]"
   ]
  },
  {
   "cell_type": "code",
   "execution_count": null,
   "metadata": {},
   "outputs": [],
   "source": [
    "# 랜덤으로 19065명을 추출합니다\n",
    "sample_id = df_teens_comor['가입자일련번호'].sample(19065, random_state=42)\n",
    "\n",
    "# 샘플링한 환자들의 데이터만 추출합니다.\n",
    "df_teens_comor_sampled= df_teens_comor[df_teens_comor['가입자일련번호'].isin(sample_id)]\n",
    "\n",
    "# 데이터를 저장합니다.\n",
    "df_teens_comor_sampled.to_csv('./data/prescription_teens_comor_sample_2021.csv', index=False)"
   ]
  }
 ],
 "metadata": {
  "kernelspec": {
   "display_name": "base",
   "language": "python",
   "name": "python3"
  },
  "language_info": {
   "codemirror_mode": {
    "name": "ipython",
    "version": 3
   },
   "file_extension": ".py",
   "mimetype": "text/x-python",
   "name": "python",
   "nbconvert_exporter": "python",
   "pygments_lexer": "ipython3",
   "version": "3.11.7"
  }
 },
 "nbformat": 4,
 "nbformat_minor": 2
}
