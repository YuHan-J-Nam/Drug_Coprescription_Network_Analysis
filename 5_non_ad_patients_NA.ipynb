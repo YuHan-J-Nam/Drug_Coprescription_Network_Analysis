{
 "cells": [
  {
   "cell_type": "code",
   "execution_count": 1,
   "metadata": {},
   "outputs": [],
   "source": [
    "# 라이브러리를 불러옵니다.\n",
    "import numpy as np\n",
    "import pandas as pd\n",
    "\n",
    "import matplotlib.pyplot as plt\n",
    "import matplotlib.font_manager as fm\n",
    "from matplotlib.colors import LogNorm\n",
    "from matplotlib import rc\n",
    "import seaborn as sns\n",
    "\n",
    "import networkx as nx"
   ]
  },
  {
   "cell_type": "markdown",
   "metadata": {},
   "source": [
    "#### 폰트 설정"
   ]
  },
  {
   "cell_type": "code",
   "execution_count": 2,
   "metadata": {},
   "outputs": [],
   "source": [
    "# 한글 폰트 설정\n",
    "font_path = '/usr/share/fonts/truetype/nanum/MalgunGothic.ttf'\n",
    "fontprop = fm.FontProperties(fname=font_path, size=18)\n",
    "rc('font', family='Malgun Gothic')"
   ]
  },
  {
   "cell_type": "markdown",
   "metadata": {},
   "source": [
    "#### 그래프 생성용 함수"
   ]
  },
  {
   "cell_type": "code",
   "execution_count": 3,
   "metadata": {},
   "outputs": [],
   "source": [
    "def create_graph(data):\n",
    "    G = nx.Graph()\n",
    "    \n",
    "    # 노드를 추가합니다.\n",
    "    for atc_code in data['ATC_code'].unique():\n",
    "        G.add_node(atc_code)\n",
    "        \n",
    "    # user_id와 pres_id로 그룹화하여 동시 발생을 찾습니다.\n",
    "    user_cooccurrences = {}\n",
    "    for user_id, user_group in data.groupby('user_id'):\n",
    "        # 각 user_id에 대해 co-occurrence를 집합으로 저장합니다.\n",
    "        cooccurrences = set()\n",
    "        for pres_id, pres_group in user_group.groupby('pres_id'):\n",
    "            atc_codes = pres_group['ATC_code'].unique()\n",
    "            for i in range(len(atc_codes)):\n",
    "                for j in range(i + 1, len(atc_codes)):\n",
    "                    cooccurrence = tuple(sorted((atc_codes[i], atc_codes[j])))\n",
    "                    cooccurrences.add(cooccurrence)\n",
    "        user_cooccurrences[user_id] = cooccurrences\n",
    "\n",
    "    # co-occurrence를 그래프에 추가합니다.\n",
    "    for cooccurrences in user_cooccurrences.values():\n",
    "        for atc_code1, atc_code2 in cooccurrences:\n",
    "            if G.has_edge(atc_code1, atc_code2):\n",
    "                G[atc_code1][atc_code2]['weight'] += 1\n",
    "            else:\n",
    "                G.add_edge(atc_code1, atc_code2, weight=1)\n",
    "\n",
    "    return G"
   ]
  },
  {
   "cell_type": "markdown",
   "metadata": {},
   "source": [
    "#### 만성질환 목록 및 매핑"
   ]
  },
  {
   "cell_type": "code",
   "execution_count": 46,
   "metadata": {},
   "outputs": [],
   "source": [
    "# 만성질환 목록을 불러옵니다.\n",
    "comor_mapping = pd.read_csv('data/mapping/comorbidities_mapping.csv', encoding='utf-8')\n",
    "\n",
    "# ATC 코드를 약품명으로 바꿔줍니다.\n",
    "atc_to_name = comor_mapping.set_index('ATC코드')['주성분명'].to_dict()\n",
    "\n",
    "# 만성질환 질병 종류를 구분해줍니다. \n",
    "class_map = comor_mapping[['ATC코드', 'comorbidity_class']].drop_duplicates(subset=['ATC코드'], keep='first')\n",
    "atc_to_class = class_map.set_index('ATC코드')['comorbidity_class'].to_dict()\n",
    "\n",
    "# 만성질환 질병 종류를 구분해줍니다. (여러 질병이 하나의 ATC 코드에 매핑되는 경우)\n",
    "comor_mapping['comorbidity_classes'] = comor_mapping.groupby('ATC코드')['comorbidity_class'].transform(lambda x: ' '.join(x.unique()))\n",
    "atc_to_classes = comor_mapping.set_index('ATC코드')['comorbidity_classes'].to_dict()"
   ]
  },
  {
   "cell_type": "code",
   "execution_count": 36,
   "metadata": {},
   "outputs": [
    {
     "data": {
      "text/plain": [
       "ATC코드\n",
       "C03AA03    2\n",
       "C03CA      2\n",
       "C03CA01    2\n",
       "C03CA04    2\n",
       "C07AB02    2\n",
       "          ..\n",
       "R03DA04    2\n",
       "R03DA05    2\n",
       "R03DC01    2\n",
       "R03DC03    2\n",
       "R03DX05    2\n",
       "Name: comorbidity_class, Length: 71, dtype: int64"
      ]
     },
     "execution_count": 36,
     "metadata": {},
     "output_type": "execute_result"
    }
   ],
   "source": [
    "temp = comor_mapping.groupby(['ATC코드'])['comorbidity_class'].nunique()\n",
    "temp = temp[temp > 1]\n",
    "temp"
   ]
  },
  {
   "cell_type": "markdown",
   "metadata": {},
   "source": [
    "#### 컬럼명 변경용 딕셔너리"
   ]
  },
  {
   "cell_type": "code",
   "execution_count": 5,
   "metadata": {},
   "outputs": [],
   "source": [
    "# 컬럼 이름들을 영문으로 바꿔줍니다\n",
    "cols_rename = {\n",
    "    '기준년도': 'year',\n",
    "    '가입자일련번호': 'user_id',\n",
    "    '처방내역일련번호': 'pres_id',\n",
    "    '일련번호': 'med_id',\n",
    "    '성별코드': 'gender',\n",
    "    '연령대코드(5세단위)': 'age_group',\n",
    "    '시도코드': 'region',\n",
    "    '요양개시일자': 'start_date',\n",
    "    '약품일반성분명코드': 'mi_code',\n",
    "    '1회 투약량': 'dose_per_time',\n",
    "    '1일투약량': 'dose_per_day',\n",
    "    '총투여일수': 'total_days',\n",
    "    '단가': 'unit_price',\n",
    "    '금액': 'total_price',\n",
    "    '데이터 공개일자': 'data_release_date',\n",
    "    'ATC코드': 'ATC_code'\n",
    "}"
   ]
  },
  {
   "cell_type": "markdown",
   "metadata": {},
   "source": [
    "## 65세 이상 항우울제 미처방 환자 약물 네트워크 분석"
   ]
  },
  {
   "cell_type": "code",
   "execution_count": 47,
   "metadata": {},
   "outputs": [],
   "source": [
    "# 데이터를 불러옵니다.\n",
    "data_senior = pd.read_csv('./data/prescription_over_65_comor_sample_2021.csv')"
   ]
  },
  {
   "cell_type": "code",
   "execution_count": 48,
   "metadata": {},
   "outputs": [
    {
     "name": "stdout",
     "output_type": "stream",
     "text": [
      "(201593, 16)\n"
     ]
    },
    {
     "data": {
      "text/html": [
       "<div>\n",
       "<style scoped>\n",
       "    .dataframe tbody tr th:only-of-type {\n",
       "        vertical-align: middle;\n",
       "    }\n",
       "\n",
       "    .dataframe tbody tr th {\n",
       "        vertical-align: top;\n",
       "    }\n",
       "\n",
       "    .dataframe thead th {\n",
       "        text-align: right;\n",
       "    }\n",
       "</style>\n",
       "<table border=\"1\" class=\"dataframe\">\n",
       "  <thead>\n",
       "    <tr style=\"text-align: right;\">\n",
       "      <th></th>\n",
       "      <th>기준년도</th>\n",
       "      <th>가입자일련번호</th>\n",
       "      <th>처방내역일련번호</th>\n",
       "      <th>일련번호</th>\n",
       "      <th>성별코드</th>\n",
       "      <th>연령대코드(5세단위)</th>\n",
       "      <th>시도코드</th>\n",
       "      <th>요양개시일자</th>\n",
       "      <th>약품일반성분명코드</th>\n",
       "      <th>1회 투약량</th>\n",
       "      <th>1일투약량</th>\n",
       "      <th>총투여일수</th>\n",
       "      <th>단가</th>\n",
       "      <th>금액</th>\n",
       "      <th>데이터 공개일자</th>\n",
       "      <th>ATC코드</th>\n",
       "    </tr>\n",
       "  </thead>\n",
       "  <tbody>\n",
       "    <tr>\n",
       "      <th>0</th>\n",
       "      <td>2021</td>\n",
       "      <td>403017</td>\n",
       "      <td>154510</td>\n",
       "      <td>1</td>\n",
       "      <td>2</td>\n",
       "      <td>14</td>\n",
       "      <td>41</td>\n",
       "      <td>2021-12-21</td>\n",
       "      <td>111001ATE</td>\n",
       "      <td>1.0</td>\n",
       "      <td>1</td>\n",
       "      <td>30</td>\n",
       "      <td>77.0</td>\n",
       "      <td>2310</td>\n",
       "      <td>2022-08-11</td>\n",
       "      <td>B01AC06</td>\n",
       "    </tr>\n",
       "    <tr>\n",
       "      <th>1</th>\n",
       "      <td>2021</td>\n",
       "      <td>547179</td>\n",
       "      <td>238048</td>\n",
       "      <td>1</td>\n",
       "      <td>2</td>\n",
       "      <td>16</td>\n",
       "      <td>41</td>\n",
       "      <td>2021-05-26</td>\n",
       "      <td>111001ATE</td>\n",
       "      <td>1.0</td>\n",
       "      <td>1</td>\n",
       "      <td>30</td>\n",
       "      <td>77.0</td>\n",
       "      <td>2310</td>\n",
       "      <td>2022-08-11</td>\n",
       "      <td>B01AC06</td>\n",
       "    </tr>\n",
       "    <tr>\n",
       "      <th>2</th>\n",
       "      <td>2021</td>\n",
       "      <td>287268</td>\n",
       "      <td>320180</td>\n",
       "      <td>1</td>\n",
       "      <td>1</td>\n",
       "      <td>15</td>\n",
       "      <td>41</td>\n",
       "      <td>2021-11-12</td>\n",
       "      <td>111001ATE</td>\n",
       "      <td>1.0</td>\n",
       "      <td>1</td>\n",
       "      <td>30</td>\n",
       "      <td>77.0</td>\n",
       "      <td>2310</td>\n",
       "      <td>2022-08-11</td>\n",
       "      <td>B01AC06</td>\n",
       "    </tr>\n",
       "    <tr>\n",
       "      <th>3</th>\n",
       "      <td>2021</td>\n",
       "      <td>403017</td>\n",
       "      <td>320961</td>\n",
       "      <td>1</td>\n",
       "      <td>2</td>\n",
       "      <td>14</td>\n",
       "      <td>41</td>\n",
       "      <td>2021-05-21</td>\n",
       "      <td>111001ATE</td>\n",
       "      <td>1.0</td>\n",
       "      <td>1</td>\n",
       "      <td>30</td>\n",
       "      <td>77.0</td>\n",
       "      <td>2310</td>\n",
       "      <td>2022-08-11</td>\n",
       "      <td>B01AC06</td>\n",
       "    </tr>\n",
       "    <tr>\n",
       "      <th>4</th>\n",
       "      <td>2021</td>\n",
       "      <td>547179</td>\n",
       "      <td>461888</td>\n",
       "      <td>1</td>\n",
       "      <td>2</td>\n",
       "      <td>16</td>\n",
       "      <td>41</td>\n",
       "      <td>2021-10-26</td>\n",
       "      <td>111001ATE</td>\n",
       "      <td>1.0</td>\n",
       "      <td>1</td>\n",
       "      <td>30</td>\n",
       "      <td>77.0</td>\n",
       "      <td>2310</td>\n",
       "      <td>2022-08-11</td>\n",
       "      <td>B01AC06</td>\n",
       "    </tr>\n",
       "  </tbody>\n",
       "</table>\n",
       "</div>"
      ],
      "text/plain": [
       "   기준년도  가입자일련번호  처방내역일련번호  일련번호  성별코드  연령대코드(5세단위)  시도코드      요양개시일자  \\\n",
       "0  2021   403017    154510     1     2           14    41  2021-12-21   \n",
       "1  2021   547179    238048     1     2           16    41  2021-05-26   \n",
       "2  2021   287268    320180     1     1           15    41  2021-11-12   \n",
       "3  2021   403017    320961     1     2           14    41  2021-05-21   \n",
       "4  2021   547179    461888     1     2           16    41  2021-10-26   \n",
       "\n",
       "   약품일반성분명코드  1회 투약량  1일투약량  총투여일수    단가    금액    데이터 공개일자    ATC코드  \n",
       "0  111001ATE     1.0      1     30  77.0  2310  2022-08-11  B01AC06  \n",
       "1  111001ATE     1.0      1     30  77.0  2310  2022-08-11  B01AC06  \n",
       "2  111001ATE     1.0      1     30  77.0  2310  2022-08-11  B01AC06  \n",
       "3  111001ATE     1.0      1     30  77.0  2310  2022-08-11  B01AC06  \n",
       "4  111001ATE     1.0      1     30  77.0  2310  2022-08-11  B01AC06  "
      ]
     },
     "execution_count": 48,
     "metadata": {},
     "output_type": "execute_result"
    }
   ],
   "source": [
    "# 데이터의 첫 다섯 줄을 출력합니다.\n",
    "print(data_senior.shape)\n",
    "data_senior.head()"
   ]
  },
  {
   "cell_type": "markdown",
   "metadata": {},
   "source": [
    "---"
   ]
  },
  {
   "cell_type": "code",
   "execution_count": 49,
   "metadata": {},
   "outputs": [],
   "source": [
    "df_senior = data_senior.rename(columns=cols_rename)"
   ]
  },
  {
   "cell_type": "code",
   "execution_count": 50,
   "metadata": {},
   "outputs": [
    {
     "name": "stdout",
     "output_type": "stream",
     "text": [
      "고려되는 총 환자 수: 12164\n"
     ]
    },
    {
     "data": {
      "text/plain": [
       "count    12164.000000\n",
       "mean        16.572920\n",
       "std         15.689849\n",
       "min          1.000000\n",
       "25%          5.000000\n",
       "50%         12.000000\n",
       "75%         23.000000\n",
       "max        175.000000\n",
       "Name: pres_id, dtype: float64"
      ]
     },
     "execution_count": 50,
     "metadata": {},
     "output_type": "execute_result"
    }
   ],
   "source": [
    "# 한 환자당 처방전의 개수를 세어봅니다.\n",
    "print(f\"고려되는 총 환자 수: {df_senior['user_id'].nunique()}\")\n",
    "df_senior.groupby('user_id')['pres_id'].count().describe()"
   ]
  },
  {
   "cell_type": "markdown",
   "metadata": {},
   "source": [
    "### 65세 이상 그래프 생성"
   ]
  },
  {
   "cell_type": "code",
   "execution_count": 51,
   "metadata": {},
   "outputs": [
    {
     "name": "stdout",
     "output_type": "stream",
     "text": [
      "Number of nodes: 197\n",
      "Number of edges: 4672\n"
     ]
    }
   ],
   "source": [
    "# 그래프를 생성합니다.\n",
    "G_senior = create_graph(df_senior)\n",
    "\n",
    "# 그래프의 노드와 엣지 수를 출력합니다.\n",
    "print(f\"Number of nodes: {G_senior.number_of_nodes()}\")\n",
    "print(f\"Number of edges: {G_senior.number_of_edges()}\")"
   ]
  },
  {
   "cell_type": "code",
   "execution_count": 52,
   "metadata": {},
   "outputs": [],
   "source": [
    "# 그래프에 label을 추가합니다.\n",
    "for node in G_senior.nodes:\n",
    "    G_senior.nodes[node]['label'] = atc_to_name[node]\n",
    "    G_senior.nodes[node]['comorbidity'] = atc_to_class[node]\n",
    "    G_senior.nodes[node]['comorbidities'] = atc_to_classes[node]"
   ]
  },
  {
   "cell_type": "code",
   "execution_count": 53,
   "metadata": {},
   "outputs": [],
   "source": [
    "# Gephi로 시각화를 위해 그래프를 저장합니다.\n",
    "nx.write_gexf(G_senior, './data/gephi/no_depression_65_prescription_network.gexf')"
   ]
  },
  {
   "cell_type": "code",
   "execution_count": 57,
   "metadata": {},
   "outputs": [
    {
     "data": {
      "text/plain": [
       "array(['COPD_med asthma_med', 'COPD_med', 'diabetes_med',\n",
       "       'high_bp_med stroke_med', 'high_bp_med',\n",
       "       'dyslipidemia_med stroke_med', 'dyslipidemia_med', 'dementia_med',\n",
       "       'stroke_med', 'asthma_med', 'antineoplastic'], dtype=object)"
      ]
     },
     "execution_count": 57,
     "metadata": {},
     "output_type": "execute_result"
    }
   ],
   "source": [
    "comor_mapping['comorbidity_classes'].unique()"
   ]
  },
  {
   "cell_type": "markdown",
   "metadata": {},
   "source": [
    "Color Palette Summary:\n",
    "\n",
    "| Medication          | Color Name                | HEX Code | RGB             |\n",
    "|---------------------|---------------------------|----------|-----------------|\n",
    "| COPD_med            | Pastel Red                | #FFB3BA  | (255, 179, 186) |\n",
    "| diabetes_med        | Pastel Orange             | #FFDFBA  | (255, 223, 186) |\n",
    "| high_bp_med         | Pastel Yellow             | #FFFFBA  | (255, 255, 186) |\n",
    "| dyslipidemia_med    | Pastel Green              | #BAFFC9  | (186, 255, 201) |\n",
    "| dementia_med        | Pastel Blue               | #BAE1FF  | (186, 225, 255) |\n",
    "| stroke_med          | Pastel Purple             | #E3BAFF  | (227, 186, 255) |\n",
    "| asthma_med          | Pastel Pink               | #FFB3FF  | (255, 179, 255) |\n",
    "| antineoplastic      | Pastel Brown              | #F3E5AB  | (243, 229, 171) |\n",
    "| COPD_med asthma_med | Blended Pastel Red-Pink   | #FFB3DD  | (255, 179, 221) |\n",
    "| high_bp_med stroke_med | Blended Pastel Yellow-Purple | #F1DDDD  | (241, 221, 221) |\n",
    "| dyslipidemia_med stroke_med | Blended Pastel Green-Purple | #CFDDE4  | (207, 221, 228) |"
   ]
  },
  {
   "cell_type": "markdown",
   "metadata": {},
   "source": [
    "| Medication                     | Color Name          | HEX Code | RGB             |\n",
    "|--------------------------------|---------------------|----------|-----------------|\n",
    "| high_bp_med                    | Vibrant Yellow      | #FFDD00  | (255, 221, 0)   |\n",
    "| high_bp_med / stroke_med       | Vibrant Gold        | #CC9933  | (204, 153, 51)  |\n",
    "| stroke_med                     | Bright Purple       | #9933FF  | (153, 51, 255)  |\n",
    "| dyslipidemia_med / stroke_med  | Emerald Purple      | #669966  | (102, 153, 102) |\n",
    "| dyslipidemia_med               | Vibrant Green       | #00CC66  | (0, 204, 102)   |\n",
    "| COPD_med                       | Bright Red          | #FF3366  | (255, 51, 102)  |\n",
    "| COPD_med / asthma_med          | Rosy Magenta        | #FF6699  | (255, 102, 153) |\n",
    "| asthma_med                     | Bright Pink         | #FF66FF  | (255, 102, 255) |\n",
    "| antineoplastic                 | Warm Brown          | #996633  | (153, 102, 51)  |\n",
    "| diabetes_med                   | Vibrant Orange      | #FF9933  | (255, 153, 51)  |\n",
    "| dementia_med                   | Soft Blue           | #3399FF  | (51, 153, 255)  |"
   ]
  },
  {
   "cell_type": "markdown",
   "metadata": {},
   "source": [
    "---\n",
    "## 10대 항우울제 미처방 환자 약물 네트워크 분석"
   ]
  },
  {
   "cell_type": "code",
   "execution_count": 13,
   "metadata": {},
   "outputs": [],
   "source": [
    "# 데이터를 불러옵니다.\n",
    "data_teens = pd.read_csv('./data/prescription_teens_comor_sample_2021.csv')"
   ]
  },
  {
   "cell_type": "code",
   "execution_count": 14,
   "metadata": {},
   "outputs": [
    {
     "name": "stdout",
     "output_type": "stream",
     "text": [
      "(680, 16)\n"
     ]
    },
    {
     "data": {
      "text/html": [
       "<div>\n",
       "<style scoped>\n",
       "    .dataframe tbody tr th:only-of-type {\n",
       "        vertical-align: middle;\n",
       "    }\n",
       "\n",
       "    .dataframe tbody tr th {\n",
       "        vertical-align: top;\n",
       "    }\n",
       "\n",
       "    .dataframe thead th {\n",
       "        text-align: right;\n",
       "    }\n",
       "</style>\n",
       "<table border=\"1\" class=\"dataframe\">\n",
       "  <thead>\n",
       "    <tr style=\"text-align: right;\">\n",
       "      <th></th>\n",
       "      <th>기준년도</th>\n",
       "      <th>가입자일련번호</th>\n",
       "      <th>처방내역일련번호</th>\n",
       "      <th>일련번호</th>\n",
       "      <th>성별코드</th>\n",
       "      <th>연령대코드(5세단위)</th>\n",
       "      <th>시도코드</th>\n",
       "      <th>요양개시일자</th>\n",
       "      <th>약품일반성분명코드</th>\n",
       "      <th>1회 투약량</th>\n",
       "      <th>1일투약량</th>\n",
       "      <th>총투여일수</th>\n",
       "      <th>단가</th>\n",
       "      <th>금액</th>\n",
       "      <th>데이터 공개일자</th>\n",
       "      <th>ATC코드</th>\n",
       "    </tr>\n",
       "  </thead>\n",
       "  <tbody>\n",
       "    <tr>\n",
       "      <th>0</th>\n",
       "      <td>2021</td>\n",
       "      <td>622439</td>\n",
       "      <td>2382371</td>\n",
       "      <td>1</td>\n",
       "      <td>2</td>\n",
       "      <td>4</td>\n",
       "      <td>41</td>\n",
       "      <td>2021-03-12</td>\n",
       "      <td>117903ATB</td>\n",
       "      <td>1.0</td>\n",
       "      <td>1</td>\n",
       "      <td>10</td>\n",
       "      <td>132.0</td>\n",
       "      <td>1320</td>\n",
       "      <td>2022-08-11</td>\n",
       "      <td>C07AB07</td>\n",
       "    </tr>\n",
       "    <tr>\n",
       "      <th>1</th>\n",
       "      <td>2021</td>\n",
       "      <td>622439</td>\n",
       "      <td>582385</td>\n",
       "      <td>1</td>\n",
       "      <td>2</td>\n",
       "      <td>4</td>\n",
       "      <td>41</td>\n",
       "      <td>2021-10-15</td>\n",
       "      <td>117902ATB</td>\n",
       "      <td>1.0</td>\n",
       "      <td>1</td>\n",
       "      <td>30</td>\n",
       "      <td>222.0</td>\n",
       "      <td>6660</td>\n",
       "      <td>2022-08-11</td>\n",
       "      <td>C07AB07</td>\n",
       "    </tr>\n",
       "    <tr>\n",
       "      <th>2</th>\n",
       "      <td>2021</td>\n",
       "      <td>70276</td>\n",
       "      <td>1471269</td>\n",
       "      <td>1</td>\n",
       "      <td>1</td>\n",
       "      <td>3</td>\n",
       "      <td>41</td>\n",
       "      <td>2021-11-29</td>\n",
       "      <td>374601ATB</td>\n",
       "      <td>1.0</td>\n",
       "      <td>1</td>\n",
       "      <td>3</td>\n",
       "      <td>774.0</td>\n",
       "      <td>2322</td>\n",
       "      <td>2022-08-11</td>\n",
       "      <td>R03DC03</td>\n",
       "    </tr>\n",
       "    <tr>\n",
       "      <th>3</th>\n",
       "      <td>2021</td>\n",
       "      <td>70276</td>\n",
       "      <td>1473024</td>\n",
       "      <td>1</td>\n",
       "      <td>1</td>\n",
       "      <td>3</td>\n",
       "      <td>41</td>\n",
       "      <td>2021-11-26</td>\n",
       "      <td>374601ATB</td>\n",
       "      <td>1.0</td>\n",
       "      <td>1</td>\n",
       "      <td>3</td>\n",
       "      <td>774.0</td>\n",
       "      <td>2322</td>\n",
       "      <td>2022-08-11</td>\n",
       "      <td>R03DC03</td>\n",
       "    </tr>\n",
       "    <tr>\n",
       "      <th>4</th>\n",
       "      <td>2021</td>\n",
       "      <td>293925</td>\n",
       "      <td>2458457</td>\n",
       "      <td>1</td>\n",
       "      <td>2</td>\n",
       "      <td>4</td>\n",
       "      <td>41</td>\n",
       "      <td>2021-06-09</td>\n",
       "      <td>636700CSI</td>\n",
       "      <td>1.0</td>\n",
       "      <td>1</td>\n",
       "      <td>1</td>\n",
       "      <td>31915.0</td>\n",
       "      <td>31915</td>\n",
       "      <td>2022-08-11</td>\n",
       "      <td>R03AK10</td>\n",
       "    </tr>\n",
       "  </tbody>\n",
       "</table>\n",
       "</div>"
      ],
      "text/plain": [
       "   기준년도  가입자일련번호  처방내역일련번호  일련번호  성별코드  연령대코드(5세단위)  시도코드      요양개시일자  \\\n",
       "0  2021   622439   2382371     1     2            4    41  2021-03-12   \n",
       "1  2021   622439    582385     1     2            4    41  2021-10-15   \n",
       "2  2021    70276   1471269     1     1            3    41  2021-11-29   \n",
       "3  2021    70276   1473024     1     1            3    41  2021-11-26   \n",
       "4  2021   293925   2458457     1     2            4    41  2021-06-09   \n",
       "\n",
       "   약품일반성분명코드  1회 투약량  1일투약량  총투여일수       단가     금액    데이터 공개일자    ATC코드  \n",
       "0  117903ATB     1.0      1     10    132.0   1320  2022-08-11  C07AB07  \n",
       "1  117902ATB     1.0      1     30    222.0   6660  2022-08-11  C07AB07  \n",
       "2  374601ATB     1.0      1      3    774.0   2322  2022-08-11  R03DC03  \n",
       "3  374601ATB     1.0      1      3    774.0   2322  2022-08-11  R03DC03  \n",
       "4  636700CSI     1.0      1      1  31915.0  31915  2022-08-11  R03AK10  "
      ]
     },
     "execution_count": 14,
     "metadata": {},
     "output_type": "execute_result"
    }
   ],
   "source": [
    "# 데이터의 첫 다섯 줄을 출력합니다.\n",
    "print(data_teens.shape)\n",
    "data_teens.head()"
   ]
  },
  {
   "cell_type": "code",
   "execution_count": 15,
   "metadata": {},
   "outputs": [],
   "source": [
    "# 컬럼 이름들을 영문으로 바꿔줍니다\n",
    "df_teens = data_teens.rename(columns=cols_rename)"
   ]
  },
  {
   "cell_type": "code",
   "execution_count": 16,
   "metadata": {},
   "outputs": [
    {
     "name": "stdout",
     "output_type": "stream",
     "text": [
      "고려되는 총 환자 수: 246\n"
     ]
    },
    {
     "data": {
      "text/plain": [
       "count    246.000000\n",
       "mean       2.764228\n",
       "std        2.762966\n",
       "min        1.000000\n",
       "25%        1.000000\n",
       "50%        2.000000\n",
       "75%        3.750000\n",
       "max       17.000000\n",
       "Name: pres_id, dtype: float64"
      ]
     },
     "execution_count": 16,
     "metadata": {},
     "output_type": "execute_result"
    }
   ],
   "source": [
    "# 한 환자당 처방전의 개수를 세어봅니다.\n",
    "print(f\"고려되는 총 환자 수: {df_teens['user_id'].nunique()}\")\n",
    "df_teens.groupby('user_id')['pres_id'].count().describe()"
   ]
  },
  {
   "cell_type": "markdown",
   "metadata": {},
   "source": [
    "---\n",
    "### 십대 그래프 생성"
   ]
  },
  {
   "cell_type": "code",
   "execution_count": 17,
   "metadata": {},
   "outputs": [
    {
     "name": "stdout",
     "output_type": "stream",
     "text": [
      "Number of nodes: 28\n",
      "Number of edges: 35\n"
     ]
    }
   ],
   "source": [
    "# 그래프를 생성합니다.\n",
    "G_teens = create_graph(df_teens)\n",
    "\n",
    "# 그래프의 노드와 엣지 수를 출력합니다.\n",
    "print(f\"Number of nodes: {G_teens.number_of_nodes()}\")\n",
    "print(f\"Number of edges: {G_teens.number_of_edges()}\")"
   ]
  },
  {
   "cell_type": "code",
   "execution_count": 18,
   "metadata": {},
   "outputs": [],
   "source": [
    "# 그래프에 label을 추가합니다.\n",
    "for node in G_teens.nodes:\n",
    "    G_teens.nodes[node]['label'] = atc_to_name[node]\n",
    "    G_teens.nodes[node]['comorbidity'] = atc_to_class[node]\n",
    "\n",
    "# Gephi로 시각화를 위해 그래프를 저장합니다.\n",
    "nx.write_gexf(G_teens, './data/gephi/no_depression_teens_prescription_network.gexf')"
   ]
  },
  {
   "cell_type": "markdown",
   "metadata": {},
   "source": [
    "---\n",
    "## 중년 항우울제 미처방 환자 약물 네트워크 분석"
   ]
  },
  {
   "cell_type": "code",
   "execution_count": 19,
   "metadata": {},
   "outputs": [],
   "source": [
    "# 데이터를 불러옵니다.\n",
    "data_middle_aged = pd.read_csv('./data/prescription_middle_aged_comor_sample_2021.csv')"
   ]
  },
  {
   "cell_type": "code",
   "execution_count": 20,
   "metadata": {},
   "outputs": [
    {
     "name": "stdout",
     "output_type": "stream",
     "text": [
      "(157062, 16)\n"
     ]
    },
    {
     "data": {
      "text/html": [
       "<div>\n",
       "<style scoped>\n",
       "    .dataframe tbody tr th:only-of-type {\n",
       "        vertical-align: middle;\n",
       "    }\n",
       "\n",
       "    .dataframe tbody tr th {\n",
       "        vertical-align: top;\n",
       "    }\n",
       "\n",
       "    .dataframe thead th {\n",
       "        text-align: right;\n",
       "    }\n",
       "</style>\n",
       "<table border=\"1\" class=\"dataframe\">\n",
       "  <thead>\n",
       "    <tr style=\"text-align: right;\">\n",
       "      <th></th>\n",
       "      <th>기준년도</th>\n",
       "      <th>가입자일련번호</th>\n",
       "      <th>처방내역일련번호</th>\n",
       "      <th>일련번호</th>\n",
       "      <th>성별코드</th>\n",
       "      <th>연령대코드(5세단위)</th>\n",
       "      <th>시도코드</th>\n",
       "      <th>요양개시일자</th>\n",
       "      <th>약품일반성분명코드</th>\n",
       "      <th>1회 투약량</th>\n",
       "      <th>1일투약량</th>\n",
       "      <th>총투여일수</th>\n",
       "      <th>단가</th>\n",
       "      <th>금액</th>\n",
       "      <th>데이터 공개일자</th>\n",
       "      <th>ATC코드</th>\n",
       "    </tr>\n",
       "  </thead>\n",
       "  <tbody>\n",
       "    <tr>\n",
       "      <th>0</th>\n",
       "      <td>2021</td>\n",
       "      <td>182436</td>\n",
       "      <td>516227</td>\n",
       "      <td>1</td>\n",
       "      <td>1</td>\n",
       "      <td>12</td>\n",
       "      <td>41</td>\n",
       "      <td>2021-03-13</td>\n",
       "      <td>111001ATE</td>\n",
       "      <td>1.0</td>\n",
       "      <td>1</td>\n",
       "      <td>30</td>\n",
       "      <td>77.0</td>\n",
       "      <td>2310</td>\n",
       "      <td>2022-08-11</td>\n",
       "      <td>B01AC06</td>\n",
       "    </tr>\n",
       "    <tr>\n",
       "      <th>1</th>\n",
       "      <td>2021</td>\n",
       "      <td>182436</td>\n",
       "      <td>627161</td>\n",
       "      <td>1</td>\n",
       "      <td>1</td>\n",
       "      <td>12</td>\n",
       "      <td>41</td>\n",
       "      <td>2021-06-14</td>\n",
       "      <td>111001ATE</td>\n",
       "      <td>1.0</td>\n",
       "      <td>1</td>\n",
       "      <td>30</td>\n",
       "      <td>77.0</td>\n",
       "      <td>2310</td>\n",
       "      <td>2022-08-11</td>\n",
       "      <td>B01AC06</td>\n",
       "    </tr>\n",
       "    <tr>\n",
       "      <th>2</th>\n",
       "      <td>2021</td>\n",
       "      <td>182436</td>\n",
       "      <td>1961801</td>\n",
       "      <td>1</td>\n",
       "      <td>1</td>\n",
       "      <td>12</td>\n",
       "      <td>41</td>\n",
       "      <td>2021-04-12</td>\n",
       "      <td>111001ATE</td>\n",
       "      <td>1.0</td>\n",
       "      <td>1</td>\n",
       "      <td>30</td>\n",
       "      <td>77.0</td>\n",
       "      <td>2310</td>\n",
       "      <td>2022-08-11</td>\n",
       "      <td>B01AC06</td>\n",
       "    </tr>\n",
       "    <tr>\n",
       "      <th>3</th>\n",
       "      <td>2021</td>\n",
       "      <td>182436</td>\n",
       "      <td>3443548</td>\n",
       "      <td>1</td>\n",
       "      <td>1</td>\n",
       "      <td>12</td>\n",
       "      <td>41</td>\n",
       "      <td>2021-02-09</td>\n",
       "      <td>111001ATE</td>\n",
       "      <td>1.0</td>\n",
       "      <td>1</td>\n",
       "      <td>30</td>\n",
       "      <td>77.0</td>\n",
       "      <td>2310</td>\n",
       "      <td>2022-08-11</td>\n",
       "      <td>B01AC06</td>\n",
       "    </tr>\n",
       "    <tr>\n",
       "      <th>4</th>\n",
       "      <td>2021</td>\n",
       "      <td>733801</td>\n",
       "      <td>412966</td>\n",
       "      <td>1</td>\n",
       "      <td>1</td>\n",
       "      <td>11</td>\n",
       "      <td>41</td>\n",
       "      <td>2021-11-17</td>\n",
       "      <td>111001ATE</td>\n",
       "      <td>1.0</td>\n",
       "      <td>1</td>\n",
       "      <td>30</td>\n",
       "      <td>77.0</td>\n",
       "      <td>2310</td>\n",
       "      <td>2022-08-11</td>\n",
       "      <td>B01AC06</td>\n",
       "    </tr>\n",
       "  </tbody>\n",
       "</table>\n",
       "</div>"
      ],
      "text/plain": [
       "   기준년도  가입자일련번호  처방내역일련번호  일련번호  성별코드  연령대코드(5세단위)  시도코드      요양개시일자  \\\n",
       "0  2021   182436    516227     1     1           12    41  2021-03-13   \n",
       "1  2021   182436    627161     1     1           12    41  2021-06-14   \n",
       "2  2021   182436   1961801     1     1           12    41  2021-04-12   \n",
       "3  2021   182436   3443548     1     1           12    41  2021-02-09   \n",
       "4  2021   733801    412966     1     1           11    41  2021-11-17   \n",
       "\n",
       "   약품일반성분명코드  1회 투약량  1일투약량  총투여일수    단가    금액    데이터 공개일자    ATC코드  \n",
       "0  111001ATE     1.0      1     30  77.0  2310  2022-08-11  B01AC06  \n",
       "1  111001ATE     1.0      1     30  77.0  2310  2022-08-11  B01AC06  \n",
       "2  111001ATE     1.0      1     30  77.0  2310  2022-08-11  B01AC06  \n",
       "3  111001ATE     1.0      1     30  77.0  2310  2022-08-11  B01AC06  \n",
       "4  111001ATE     1.0      1     30  77.0  2310  2022-08-11  B01AC06  "
      ]
     },
     "execution_count": 20,
     "metadata": {},
     "output_type": "execute_result"
    }
   ],
   "source": [
    "# 데이터의 첫 다섯 줄을 출력합니다.\n",
    "print(data_middle_aged.shape)\n",
    "data_middle_aged.head()"
   ]
  },
  {
   "cell_type": "code",
   "execution_count": 21,
   "metadata": {},
   "outputs": [],
   "source": [
    "# 컬럼 이름들을 영문으로 바꿔줍니다\n",
    "df_middle_aged = data_middle_aged.rename(columns=cols_rename)"
   ]
  },
  {
   "cell_type": "code",
   "execution_count": 22,
   "metadata": {},
   "outputs": [
    {
     "name": "stdout",
     "output_type": "stream",
     "text": [
      "고려되는 총 환자 수: 21110\n"
     ]
    },
    {
     "data": {
      "text/plain": [
       "count    21110.000000\n",
       "mean         7.440171\n",
       "std          9.542537\n",
       "min          1.000000\n",
       "25%          2.000000\n",
       "50%          4.000000\n",
       "75%         10.000000\n",
       "max        133.000000\n",
       "Name: pres_id, dtype: float64"
      ]
     },
     "execution_count": 22,
     "metadata": {},
     "output_type": "execute_result"
    }
   ],
   "source": [
    "# 한 환자당 처방전의 개수를 세어봅니다.\n",
    "print(f\"고려되는 총 환자 수: {df_middle_aged['user_id'].nunique()}\")\n",
    "df_middle_aged.groupby('user_id')['pres_id'].count().describe()"
   ]
  },
  {
   "cell_type": "markdown",
   "metadata": {},
   "source": [
    "### 중년층 그래프 생성"
   ]
  },
  {
   "cell_type": "code",
   "execution_count": 23,
   "metadata": {},
   "outputs": [
    {
     "name": "stdout",
     "output_type": "stream",
     "text": [
      "Number of nodes: 190\n",
      "Number of edges: 3116\n"
     ]
    }
   ],
   "source": [
    "# 그래프를 생성합니다.\n",
    "G_middle_aged = create_graph(df_middle_aged)\n",
    "\n",
    "# 그래프의 노드와 엣지 수를 출력합니다.\n",
    "print(f\"Number of nodes: {G_middle_aged.number_of_nodes()}\")\n",
    "print(f\"Number of edges: {G_middle_aged.number_of_edges()}\")"
   ]
  },
  {
   "cell_type": "code",
   "execution_count": 24,
   "metadata": {},
   "outputs": [],
   "source": [
    "# 그래프에 label을 추가합니다.\n",
    "for node in G_middle_aged.nodes:\n",
    "    G_middle_aged.nodes[node]['label'] = atc_to_name[node]\n",
    "    G_middle_aged.nodes[node]['comorbidity'] = atc_to_class[node]\n",
    "\n",
    "# Gephi로 시각화를 위해 그래프를 저장합니다.\n",
    "nx.write_gexf(G_middle_aged, './data/gephi/no_depression_middle_aged_prescription_network.gexf')"
   ]
  },
  {
   "cell_type": "markdown",
   "metadata": {},
   "source": [
    "---\n",
    "## 20~30대 항우울제 미처방 환자 약물 네트워크 분석"
   ]
  },
  {
   "cell_type": "code",
   "execution_count": 25,
   "metadata": {},
   "outputs": [],
   "source": [
    "# 데이터를 불러옵니다.\n",
    "data_young_adults = pd.read_csv('./data/prescription_young_adults_comor_sample_2021.csv')"
   ]
  },
  {
   "cell_type": "code",
   "execution_count": 26,
   "metadata": {},
   "outputs": [
    {
     "name": "stdout",
     "output_type": "stream",
     "text": [
      "(67848, 16)\n"
     ]
    },
    {
     "data": {
      "text/html": [
       "<div>\n",
       "<style scoped>\n",
       "    .dataframe tbody tr th:only-of-type {\n",
       "        vertical-align: middle;\n",
       "    }\n",
       "\n",
       "    .dataframe tbody tr th {\n",
       "        vertical-align: top;\n",
       "    }\n",
       "\n",
       "    .dataframe thead th {\n",
       "        text-align: right;\n",
       "    }\n",
       "</style>\n",
       "<table border=\"1\" class=\"dataframe\">\n",
       "  <thead>\n",
       "    <tr style=\"text-align: right;\">\n",
       "      <th></th>\n",
       "      <th>기준년도</th>\n",
       "      <th>가입자일련번호</th>\n",
       "      <th>처방내역일련번호</th>\n",
       "      <th>일련번호</th>\n",
       "      <th>성별코드</th>\n",
       "      <th>연령대코드(5세단위)</th>\n",
       "      <th>시도코드</th>\n",
       "      <th>요양개시일자</th>\n",
       "      <th>약품일반성분명코드</th>\n",
       "      <th>1회 투약량</th>\n",
       "      <th>1일투약량</th>\n",
       "      <th>총투여일수</th>\n",
       "      <th>단가</th>\n",
       "      <th>금액</th>\n",
       "      <th>데이터 공개일자</th>\n",
       "      <th>ATC코드</th>\n",
       "    </tr>\n",
       "  </thead>\n",
       "  <tbody>\n",
       "    <tr>\n",
       "      <th>0</th>\n",
       "      <td>2021</td>\n",
       "      <td>323015</td>\n",
       "      <td>659057</td>\n",
       "      <td>1</td>\n",
       "      <td>1</td>\n",
       "      <td>7</td>\n",
       "      <td>41</td>\n",
       "      <td>2021-09-10</td>\n",
       "      <td>111001ATE</td>\n",
       "      <td>1.0</td>\n",
       "      <td>1</td>\n",
       "      <td>30</td>\n",
       "      <td>77.0</td>\n",
       "      <td>2310</td>\n",
       "      <td>2022-08-11</td>\n",
       "      <td>B01AC06</td>\n",
       "    </tr>\n",
       "    <tr>\n",
       "      <th>1</th>\n",
       "      <td>2021</td>\n",
       "      <td>323015</td>\n",
       "      <td>1201902</td>\n",
       "      <td>1</td>\n",
       "      <td>1</td>\n",
       "      <td>7</td>\n",
       "      <td>41</td>\n",
       "      <td>2021-08-07</td>\n",
       "      <td>111001ATE</td>\n",
       "      <td>1.0</td>\n",
       "      <td>1</td>\n",
       "      <td>30</td>\n",
       "      <td>77.0</td>\n",
       "      <td>2310</td>\n",
       "      <td>2022-08-11</td>\n",
       "      <td>B01AC06</td>\n",
       "    </tr>\n",
       "    <tr>\n",
       "      <th>2</th>\n",
       "      <td>2021</td>\n",
       "      <td>323015</td>\n",
       "      <td>3653408</td>\n",
       "      <td>1</td>\n",
       "      <td>1</td>\n",
       "      <td>7</td>\n",
       "      <td>41</td>\n",
       "      <td>2021-07-10</td>\n",
       "      <td>111001ATE</td>\n",
       "      <td>1.0</td>\n",
       "      <td>1</td>\n",
       "      <td>30</td>\n",
       "      <td>77.0</td>\n",
       "      <td>2310</td>\n",
       "      <td>2022-08-11</td>\n",
       "      <td>B01AC06</td>\n",
       "    </tr>\n",
       "    <tr>\n",
       "      <th>3</th>\n",
       "      <td>2021</td>\n",
       "      <td>624411</td>\n",
       "      <td>132193</td>\n",
       "      <td>1</td>\n",
       "      <td>2</td>\n",
       "      <td>8</td>\n",
       "      <td>41</td>\n",
       "      <td>2021-07-12</td>\n",
       "      <td>191501ATB</td>\n",
       "      <td>1.0</td>\n",
       "      <td>1</td>\n",
       "      <td>30</td>\n",
       "      <td>49.0</td>\n",
       "      <td>1470</td>\n",
       "      <td>2022-08-11</td>\n",
       "      <td>A10BA02</td>\n",
       "    </tr>\n",
       "    <tr>\n",
       "      <th>4</th>\n",
       "      <td>2021</td>\n",
       "      <td>286759</td>\n",
       "      <td>844417</td>\n",
       "      <td>1</td>\n",
       "      <td>1</td>\n",
       "      <td>8</td>\n",
       "      <td>41</td>\n",
       "      <td>2021-03-15</td>\n",
       "      <td>191502ATB</td>\n",
       "      <td>1.0</td>\n",
       "      <td>1</td>\n",
       "      <td>30</td>\n",
       "      <td>70.0</td>\n",
       "      <td>2100</td>\n",
       "      <td>2022-08-11</td>\n",
       "      <td>A10BA02</td>\n",
       "    </tr>\n",
       "  </tbody>\n",
       "</table>\n",
       "</div>"
      ],
      "text/plain": [
       "   기준년도  가입자일련번호  처방내역일련번호  일련번호  성별코드  연령대코드(5세단위)  시도코드      요양개시일자  \\\n",
       "0  2021   323015    659057     1     1            7    41  2021-09-10   \n",
       "1  2021   323015   1201902     1     1            7    41  2021-08-07   \n",
       "2  2021   323015   3653408     1     1            7    41  2021-07-10   \n",
       "3  2021   624411    132193     1     2            8    41  2021-07-12   \n",
       "4  2021   286759    844417     1     1            8    41  2021-03-15   \n",
       "\n",
       "   약품일반성분명코드  1회 투약량  1일투약량  총투여일수    단가    금액    데이터 공개일자    ATC코드  \n",
       "0  111001ATE     1.0      1     30  77.0  2310  2022-08-11  B01AC06  \n",
       "1  111001ATE     1.0      1     30  77.0  2310  2022-08-11  B01AC06  \n",
       "2  111001ATE     1.0      1     30  77.0  2310  2022-08-11  B01AC06  \n",
       "3  191501ATB     1.0      1     30  49.0  1470  2022-08-11  A10BA02  \n",
       "4  191502ATB     1.0      1     30  70.0  2100  2022-08-11  A10BA02  "
      ]
     },
     "execution_count": 26,
     "metadata": {},
     "output_type": "execute_result"
    }
   ],
   "source": [
    "# 데이터의 첫 다섯 줄을 출력합니다.\n",
    "print(data_young_adults.shape)\n",
    "data_young_adults.head()"
   ]
  },
  {
   "cell_type": "code",
   "execution_count": 27,
   "metadata": {},
   "outputs": [],
   "source": [
    "# 컬럼 이름들을 영문으로 바꿔줍니다\n",
    "df_young_adults = data_young_adults.rename(columns=cols_rename)"
   ]
  },
  {
   "cell_type": "code",
   "execution_count": 28,
   "metadata": {},
   "outputs": [
    {
     "name": "stdout",
     "output_type": "stream",
     "text": [
      "고려되는 총 환자 수: 21110\n"
     ]
    },
    {
     "data": {
      "text/plain": [
       "count    21110.000000\n",
       "mean         3.214022\n",
       "std          5.069917\n",
       "min          1.000000\n",
       "25%          1.000000\n",
       "50%          2.000000\n",
       "75%          3.000000\n",
       "max        332.000000\n",
       "Name: pres_id, dtype: float64"
      ]
     },
     "execution_count": 28,
     "metadata": {},
     "output_type": "execute_result"
    }
   ],
   "source": [
    "# 한 환자당 처방전의 개수를 세어봅니다.\n",
    "print(f\"고려되는 총 환자 수: {df_young_adults['user_id'].nunique()}\")\n",
    "df_young_adults.groupby('user_id')['pres_id'].count().describe()"
   ]
  },
  {
   "cell_type": "markdown",
   "metadata": {},
   "source": [
    "### 20~30대 그래프 생성"
   ]
  },
  {
   "cell_type": "code",
   "execution_count": 29,
   "metadata": {},
   "outputs": [
    {
     "name": "stdout",
     "output_type": "stream",
     "text": [
      "Number of nodes: 155\n",
      "Number of edges: 1278\n"
     ]
    }
   ],
   "source": [
    "# 그래프를 생성합니다.\n",
    "G_young_adults = create_graph(df_young_adults)\n",
    "\n",
    "# 그래프의 노드와 엣지 수를 출력합니다.\n",
    "print(f\"Number of nodes: {G_young_adults.number_of_nodes()}\")\n",
    "print(f\"Number of edges: {G_young_adults.number_of_edges()}\")"
   ]
  },
  {
   "cell_type": "code",
   "execution_count": 30,
   "metadata": {},
   "outputs": [],
   "source": [
    "# 그래프에 label을 추가합니다.\n",
    "for node in G_young_adults.nodes:\n",
    "    G_young_adults.nodes[node]['label'] = atc_to_name[node]\n",
    "    G_young_adults.nodes[node]['comorbidity'] = atc_to_class[node]"
   ]
  },
  {
   "cell_type": "code",
   "execution_count": 31,
   "metadata": {},
   "outputs": [],
   "source": [
    "# Gephi로 시각화를 위해 그래프를 저장합니다.\n",
    "nx.write_gexf(G_young_adults, './data/gephi/no_depression_young_adults_prescription_network.gexf')"
   ]
  }
 ],
 "metadata": {
  "kernelspec": {
   "display_name": "base",
   "language": "python",
   "name": "python3"
  },
  "language_info": {
   "codemirror_mode": {
    "name": "ipython",
    "version": 3
   },
   "file_extension": ".py",
   "mimetype": "text/x-python",
   "name": "python",
   "nbconvert_exporter": "python",
   "pygments_lexer": "ipython3",
   "version": "3.11.7"
  }
 },
 "nbformat": 4,
 "nbformat_minor": 2
}
