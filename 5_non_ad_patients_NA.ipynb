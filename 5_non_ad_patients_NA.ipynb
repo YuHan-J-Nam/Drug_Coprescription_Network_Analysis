{
 "cells": [
  {
   "cell_type": "code",
   "execution_count": 1,
   "metadata": {},
   "outputs": [],
   "source": [
    "# 라이브러리를 불러옵니다.\n",
    "import numpy as np\n",
    "import pandas as pd\n",
    "\n",
    "import matplotlib.pyplot as plt\n",
    "import matplotlib.font_manager as fm\n",
    "from matplotlib.colors import LogNorm\n",
    "from matplotlib import rc\n",
    "import seaborn as sns\n",
    "\n",
    "import networkx as nx"
   ]
  },
  {
   "cell_type": "code",
   "execution_count": 2,
   "metadata": {},
   "outputs": [],
   "source": [
    "# 한글 폰트 설정\n",
    "font_path = '/usr/share/fonts/truetype/nanum/MalgunGothic.ttf'\n",
    "fontprop = fm.FontProperties(fname=font_path, size=18)\n",
    "rc('font', family='Malgun Gothic')"
   ]
  },
  {
   "cell_type": "markdown",
   "metadata": {},
   "source": [
    "## 65세 이상 항우울제 미처방 환자 약물 네트워크 분석"
   ]
  },
  {
   "cell_type": "code",
   "execution_count": 3,
   "metadata": {},
   "outputs": [],
   "source": [
    "# 데이터를 불러옵니다.\n",
    "data_senior = pd.read_csv('./data/prescription_over_65_comor_sample_2021.csv')\n",
    "\n",
    "comor_mapping = pd.read_csv('data/mapping/comorbidities_mapping.csv', encoding='utf-8')"
   ]
  },
  {
   "cell_type": "code",
   "execution_count": 4,
   "metadata": {},
   "outputs": [
    {
     "name": "stdout",
     "output_type": "stream",
     "text": [
      "(201593, 16)\n"
     ]
    },
    {
     "data": {
      "text/html": [
       "<div>\n",
       "<style scoped>\n",
       "    .dataframe tbody tr th:only-of-type {\n",
       "        vertical-align: middle;\n",
       "    }\n",
       "\n",
       "    .dataframe tbody tr th {\n",
       "        vertical-align: top;\n",
       "    }\n",
       "\n",
       "    .dataframe thead th {\n",
       "        text-align: right;\n",
       "    }\n",
       "</style>\n",
       "<table border=\"1\" class=\"dataframe\">\n",
       "  <thead>\n",
       "    <tr style=\"text-align: right;\">\n",
       "      <th></th>\n",
       "      <th>기준년도</th>\n",
       "      <th>가입자일련번호</th>\n",
       "      <th>처방내역일련번호</th>\n",
       "      <th>일련번호</th>\n",
       "      <th>성별코드</th>\n",
       "      <th>연령대코드(5세단위)</th>\n",
       "      <th>시도코드</th>\n",
       "      <th>요양개시일자</th>\n",
       "      <th>약품일반성분명코드</th>\n",
       "      <th>1회 투약량</th>\n",
       "      <th>1일투약량</th>\n",
       "      <th>총투여일수</th>\n",
       "      <th>단가</th>\n",
       "      <th>금액</th>\n",
       "      <th>데이터 공개일자</th>\n",
       "      <th>ATC코드</th>\n",
       "    </tr>\n",
       "  </thead>\n",
       "  <tbody>\n",
       "    <tr>\n",
       "      <th>0</th>\n",
       "      <td>2021</td>\n",
       "      <td>403017</td>\n",
       "      <td>154510</td>\n",
       "      <td>1</td>\n",
       "      <td>2</td>\n",
       "      <td>14</td>\n",
       "      <td>41</td>\n",
       "      <td>2021-12-21</td>\n",
       "      <td>111001ATE</td>\n",
       "      <td>1.0</td>\n",
       "      <td>1</td>\n",
       "      <td>30</td>\n",
       "      <td>77.0</td>\n",
       "      <td>2310</td>\n",
       "      <td>2022-08-11</td>\n",
       "      <td>B01AC06</td>\n",
       "    </tr>\n",
       "    <tr>\n",
       "      <th>1</th>\n",
       "      <td>2021</td>\n",
       "      <td>547179</td>\n",
       "      <td>238048</td>\n",
       "      <td>1</td>\n",
       "      <td>2</td>\n",
       "      <td>16</td>\n",
       "      <td>41</td>\n",
       "      <td>2021-05-26</td>\n",
       "      <td>111001ATE</td>\n",
       "      <td>1.0</td>\n",
       "      <td>1</td>\n",
       "      <td>30</td>\n",
       "      <td>77.0</td>\n",
       "      <td>2310</td>\n",
       "      <td>2022-08-11</td>\n",
       "      <td>B01AC06</td>\n",
       "    </tr>\n",
       "    <tr>\n",
       "      <th>2</th>\n",
       "      <td>2021</td>\n",
       "      <td>287268</td>\n",
       "      <td>320180</td>\n",
       "      <td>1</td>\n",
       "      <td>1</td>\n",
       "      <td>15</td>\n",
       "      <td>41</td>\n",
       "      <td>2021-11-12</td>\n",
       "      <td>111001ATE</td>\n",
       "      <td>1.0</td>\n",
       "      <td>1</td>\n",
       "      <td>30</td>\n",
       "      <td>77.0</td>\n",
       "      <td>2310</td>\n",
       "      <td>2022-08-11</td>\n",
       "      <td>B01AC06</td>\n",
       "    </tr>\n",
       "    <tr>\n",
       "      <th>3</th>\n",
       "      <td>2021</td>\n",
       "      <td>403017</td>\n",
       "      <td>320961</td>\n",
       "      <td>1</td>\n",
       "      <td>2</td>\n",
       "      <td>14</td>\n",
       "      <td>41</td>\n",
       "      <td>2021-05-21</td>\n",
       "      <td>111001ATE</td>\n",
       "      <td>1.0</td>\n",
       "      <td>1</td>\n",
       "      <td>30</td>\n",
       "      <td>77.0</td>\n",
       "      <td>2310</td>\n",
       "      <td>2022-08-11</td>\n",
       "      <td>B01AC06</td>\n",
       "    </tr>\n",
       "    <tr>\n",
       "      <th>4</th>\n",
       "      <td>2021</td>\n",
       "      <td>547179</td>\n",
       "      <td>461888</td>\n",
       "      <td>1</td>\n",
       "      <td>2</td>\n",
       "      <td>16</td>\n",
       "      <td>41</td>\n",
       "      <td>2021-10-26</td>\n",
       "      <td>111001ATE</td>\n",
       "      <td>1.0</td>\n",
       "      <td>1</td>\n",
       "      <td>30</td>\n",
       "      <td>77.0</td>\n",
       "      <td>2310</td>\n",
       "      <td>2022-08-11</td>\n",
       "      <td>B01AC06</td>\n",
       "    </tr>\n",
       "  </tbody>\n",
       "</table>\n",
       "</div>"
      ],
      "text/plain": [
       "   기준년도  가입자일련번호  처방내역일련번호  일련번호  성별코드  연령대코드(5세단위)  시도코드      요양개시일자  \\\n",
       "0  2021   403017    154510     1     2           14    41  2021-12-21   \n",
       "1  2021   547179    238048     1     2           16    41  2021-05-26   \n",
       "2  2021   287268    320180     1     1           15    41  2021-11-12   \n",
       "3  2021   403017    320961     1     2           14    41  2021-05-21   \n",
       "4  2021   547179    461888     1     2           16    41  2021-10-26   \n",
       "\n",
       "   약품일반성분명코드  1회 투약량  1일투약량  총투여일수    단가    금액    데이터 공개일자    ATC코드  \n",
       "0  111001ATE     1.0      1     30  77.0  2310  2022-08-11  B01AC06  \n",
       "1  111001ATE     1.0      1     30  77.0  2310  2022-08-11  B01AC06  \n",
       "2  111001ATE     1.0      1     30  77.0  2310  2022-08-11  B01AC06  \n",
       "3  111001ATE     1.0      1     30  77.0  2310  2022-08-11  B01AC06  \n",
       "4  111001ATE     1.0      1     30  77.0  2310  2022-08-11  B01AC06  "
      ]
     },
     "execution_count": 4,
     "metadata": {},
     "output_type": "execute_result"
    }
   ],
   "source": [
    "# 데이터의 첫 다섯 줄을 출력합니다.\n",
    "print(data_senior.shape)\n",
    "data_senior.head()"
   ]
  },
  {
   "cell_type": "markdown",
   "metadata": {},
   "source": [
    "---"
   ]
  },
  {
   "cell_type": "code",
   "execution_count": 5,
   "metadata": {},
   "outputs": [],
   "source": [
    "# 컬럼 이름들을 영문으로 바꿔줍니다\n",
    "cols_rename = {\n",
    "    '기준년도': 'year',\n",
    "    '가입자일련번호': 'user_id',\n",
    "    '처방내역일련번호': 'pres_id',\n",
    "    '일련번호': 'med_id',\n",
    "    '성별코드': 'gender',\n",
    "    '연령대코드(5세단위)': 'age_group',\n",
    "    '시도코드': 'region',\n",
    "    '요양개시일자': 'start_date',\n",
    "    '약품일반성분명코드': 'mi_code',\n",
    "    '1회 투약량': 'dose_per_time',\n",
    "    '1일투약량': 'dose_per_day',\n",
    "    '총투여일수': 'total_days',\n",
    "    '단가': 'unit_price',\n",
    "    '금액': 'total_price',\n",
    "    '데이터 공개일자': 'data_release_date',\n",
    "    'ATC코드': 'ATC_code'\n",
    "}\n",
    "\n",
    "df_senior = data_senior.rename(columns=cols_rename)"
   ]
  },
  {
   "cell_type": "code",
   "execution_count": 6,
   "metadata": {},
   "outputs": [
    {
     "name": "stdout",
     "output_type": "stream",
     "text": [
      "고려되는 총 환자 수: 12164\n"
     ]
    },
    {
     "data": {
      "text/plain": [
       "count    12164.000000\n",
       "mean        16.572920\n",
       "std         15.689849\n",
       "min          1.000000\n",
       "25%          5.000000\n",
       "50%         12.000000\n",
       "75%         23.000000\n",
       "max        175.000000\n",
       "Name: pres_id, dtype: float64"
      ]
     },
     "execution_count": 6,
     "metadata": {},
     "output_type": "execute_result"
    }
   ],
   "source": [
    "# 한 환자당 처방전의 개수를 세어봅니다.\n",
    "print(f\"고려되는 총 환자 수: {df_senior['user_id'].nunique()}\")\n",
    "df_senior.groupby('user_id')['pres_id'].count().describe()"
   ]
  },
  {
   "cell_type": "markdown",
   "metadata": {},
   "source": [
    "### 65세 이상 그래프 생성"
   ]
  },
  {
   "cell_type": "code",
   "execution_count": 7,
   "metadata": {},
   "outputs": [],
   "source": [
    "# 그래프를 생성하는 함수를 만듭니다.\n",
    "def create_graph(data):\n",
    "    G = nx.Graph()\n",
    "    \n",
    "    # 노드를 추가합니다.\n",
    "    for atc_code in data['ATC_code'].unique():\n",
    "        G.add_node(atc_code)\n",
    "        \n",
    "    # user_id와 pres_id로 그룹화하여 동시 발생을 찾습니다.\n",
    "    user_cooccurrences = {}\n",
    "    for user_id, user_group in data.groupby('user_id'):\n",
    "        # 각 user_id에 대해 co-occurrence를 집합으로 저장합니다.\n",
    "        cooccurrences = set()\n",
    "        for pres_id, pres_group in user_group.groupby('pres_id'):\n",
    "            atc_codes = pres_group['ATC_code'].unique()\n",
    "            for i in range(len(atc_codes)):\n",
    "                for j in range(i + 1, len(atc_codes)):\n",
    "                    cooccurrence = tuple(sorted((atc_codes[i], atc_codes[j])))\n",
    "                    cooccurrences.add(cooccurrence)\n",
    "        user_cooccurrences[user_id] = cooccurrences\n",
    "\n",
    "    # co-occurrence를 그래프에 추가합니다.\n",
    "    for cooccurrences in user_cooccurrences.values():\n",
    "        for atc_code1, atc_code2 in cooccurrences:\n",
    "            if G.has_edge(atc_code1, atc_code2):\n",
    "                G[atc_code1][atc_code2]['weight'] += 1\n",
    "            else:\n",
    "                G.add_edge(atc_code1, atc_code2, weight=1)\n",
    "\n",
    "    return G"
   ]
  },
  {
   "cell_type": "code",
   "execution_count": 8,
   "metadata": {},
   "outputs": [
    {
     "name": "stdout",
     "output_type": "stream",
     "text": [
      "Number of nodes: 197\n",
      "Number of edges: 4672\n"
     ]
    }
   ],
   "source": [
    "# 그래프를 생성합니다.\n",
    "G_senior = create_graph(df_senior)\n",
    "\n",
    "# 그래프의 노드와 엣지 수를 출력합니다.\n",
    "print(f\"Number of nodes: {G_senior.number_of_nodes()}\")\n",
    "print(f\"Number of edges: {G_senior.number_of_edges()}\")"
   ]
  },
  {
   "cell_type": "code",
   "execution_count": 9,
   "metadata": {},
   "outputs": [],
   "source": [
    "# ATC 코드를 약품명으로 바꿔줍니다.\n",
    "atc_to_name = comor_mapping.set_index('ATC코드')['주성분명'].to_dict()\n",
    "\n",
    "# 만성질환 질병 종류를 구분해줍니다.\n",
    "class_map = comor_mapping[['ATC코드', 'comorbidity_class']].drop_duplicates(subset=['ATC코드'], keep='first')\n",
    "atc_to_class = class_map.set_index('ATC코드')['comorbidity_class'].to_dict()\n",
    "\n",
    "# 그래프에 label을 추가합니다.\n",
    "for node in G_senior.nodes:\n",
    "    G_senior.nodes[node]['label'] = atc_to_name[node]\n",
    "    G_senior.nodes[node]['comorbidity'] = atc_to_class[node]"
   ]
  },
  {
   "cell_type": "code",
   "execution_count": 10,
   "metadata": {},
   "outputs": [],
   "source": [
    "# Gephi로 시각화를 위해 그래프를 저장합니다.\n",
    "nx.write_gexf(G_senior, './data/gephi/no_depression_65_prescription_network.gexf')"
   ]
  },
  {
   "cell_type": "markdown",
   "metadata": {},
   "source": [
    "---\n",
    "## 10대 항우울제 미처방 환자 약물 네트워크 분석"
   ]
  },
  {
   "cell_type": "code",
   "execution_count": 11,
   "metadata": {},
   "outputs": [],
   "source": [
    "# 데이터를 불러옵니다.\n",
    "data_teens = pd.read_csv('./data/prescription_teens_comor_sample_2021.csv')"
   ]
  },
  {
   "cell_type": "code",
   "execution_count": 12,
   "metadata": {},
   "outputs": [
    {
     "name": "stdout",
     "output_type": "stream",
     "text": [
      "(680, 16)\n"
     ]
    },
    {
     "data": {
      "text/html": [
       "<div>\n",
       "<style scoped>\n",
       "    .dataframe tbody tr th:only-of-type {\n",
       "        vertical-align: middle;\n",
       "    }\n",
       "\n",
       "    .dataframe tbody tr th {\n",
       "        vertical-align: top;\n",
       "    }\n",
       "\n",
       "    .dataframe thead th {\n",
       "        text-align: right;\n",
       "    }\n",
       "</style>\n",
       "<table border=\"1\" class=\"dataframe\">\n",
       "  <thead>\n",
       "    <tr style=\"text-align: right;\">\n",
       "      <th></th>\n",
       "      <th>기준년도</th>\n",
       "      <th>가입자일련번호</th>\n",
       "      <th>처방내역일련번호</th>\n",
       "      <th>일련번호</th>\n",
       "      <th>성별코드</th>\n",
       "      <th>연령대코드(5세단위)</th>\n",
       "      <th>시도코드</th>\n",
       "      <th>요양개시일자</th>\n",
       "      <th>약품일반성분명코드</th>\n",
       "      <th>1회 투약량</th>\n",
       "      <th>1일투약량</th>\n",
       "      <th>총투여일수</th>\n",
       "      <th>단가</th>\n",
       "      <th>금액</th>\n",
       "      <th>데이터 공개일자</th>\n",
       "      <th>ATC코드</th>\n",
       "    </tr>\n",
       "  </thead>\n",
       "  <tbody>\n",
       "    <tr>\n",
       "      <th>0</th>\n",
       "      <td>2021</td>\n",
       "      <td>622439</td>\n",
       "      <td>2382371</td>\n",
       "      <td>1</td>\n",
       "      <td>2</td>\n",
       "      <td>4</td>\n",
       "      <td>41</td>\n",
       "      <td>2021-03-12</td>\n",
       "      <td>117903ATB</td>\n",
       "      <td>1.0</td>\n",
       "      <td>1</td>\n",
       "      <td>10</td>\n",
       "      <td>132.0</td>\n",
       "      <td>1320</td>\n",
       "      <td>2022-08-11</td>\n",
       "      <td>C07AB07</td>\n",
       "    </tr>\n",
       "    <tr>\n",
       "      <th>1</th>\n",
       "      <td>2021</td>\n",
       "      <td>622439</td>\n",
       "      <td>582385</td>\n",
       "      <td>1</td>\n",
       "      <td>2</td>\n",
       "      <td>4</td>\n",
       "      <td>41</td>\n",
       "      <td>2021-10-15</td>\n",
       "      <td>117902ATB</td>\n",
       "      <td>1.0</td>\n",
       "      <td>1</td>\n",
       "      <td>30</td>\n",
       "      <td>222.0</td>\n",
       "      <td>6660</td>\n",
       "      <td>2022-08-11</td>\n",
       "      <td>C07AB07</td>\n",
       "    </tr>\n",
       "    <tr>\n",
       "      <th>2</th>\n",
       "      <td>2021</td>\n",
       "      <td>70276</td>\n",
       "      <td>1471269</td>\n",
       "      <td>1</td>\n",
       "      <td>1</td>\n",
       "      <td>3</td>\n",
       "      <td>41</td>\n",
       "      <td>2021-11-29</td>\n",
       "      <td>374601ATB</td>\n",
       "      <td>1.0</td>\n",
       "      <td>1</td>\n",
       "      <td>3</td>\n",
       "      <td>774.0</td>\n",
       "      <td>2322</td>\n",
       "      <td>2022-08-11</td>\n",
       "      <td>R03DC03</td>\n",
       "    </tr>\n",
       "    <tr>\n",
       "      <th>3</th>\n",
       "      <td>2021</td>\n",
       "      <td>70276</td>\n",
       "      <td>1473024</td>\n",
       "      <td>1</td>\n",
       "      <td>1</td>\n",
       "      <td>3</td>\n",
       "      <td>41</td>\n",
       "      <td>2021-11-26</td>\n",
       "      <td>374601ATB</td>\n",
       "      <td>1.0</td>\n",
       "      <td>1</td>\n",
       "      <td>3</td>\n",
       "      <td>774.0</td>\n",
       "      <td>2322</td>\n",
       "      <td>2022-08-11</td>\n",
       "      <td>R03DC03</td>\n",
       "    </tr>\n",
       "    <tr>\n",
       "      <th>4</th>\n",
       "      <td>2021</td>\n",
       "      <td>293925</td>\n",
       "      <td>2458457</td>\n",
       "      <td>1</td>\n",
       "      <td>2</td>\n",
       "      <td>4</td>\n",
       "      <td>41</td>\n",
       "      <td>2021-06-09</td>\n",
       "      <td>636700CSI</td>\n",
       "      <td>1.0</td>\n",
       "      <td>1</td>\n",
       "      <td>1</td>\n",
       "      <td>31915.0</td>\n",
       "      <td>31915</td>\n",
       "      <td>2022-08-11</td>\n",
       "      <td>R03AK10</td>\n",
       "    </tr>\n",
       "  </tbody>\n",
       "</table>\n",
       "</div>"
      ],
      "text/plain": [
       "   기준년도  가입자일련번호  처방내역일련번호  일련번호  성별코드  연령대코드(5세단위)  시도코드      요양개시일자  \\\n",
       "0  2021   622439   2382371     1     2            4    41  2021-03-12   \n",
       "1  2021   622439    582385     1     2            4    41  2021-10-15   \n",
       "2  2021    70276   1471269     1     1            3    41  2021-11-29   \n",
       "3  2021    70276   1473024     1     1            3    41  2021-11-26   \n",
       "4  2021   293925   2458457     1     2            4    41  2021-06-09   \n",
       "\n",
       "   약품일반성분명코드  1회 투약량  1일투약량  총투여일수       단가     금액    데이터 공개일자    ATC코드  \n",
       "0  117903ATB     1.0      1     10    132.0   1320  2022-08-11  C07AB07  \n",
       "1  117902ATB     1.0      1     30    222.0   6660  2022-08-11  C07AB07  \n",
       "2  374601ATB     1.0      1      3    774.0   2322  2022-08-11  R03DC03  \n",
       "3  374601ATB     1.0      1      3    774.0   2322  2022-08-11  R03DC03  \n",
       "4  636700CSI     1.0      1      1  31915.0  31915  2022-08-11  R03AK10  "
      ]
     },
     "execution_count": 12,
     "metadata": {},
     "output_type": "execute_result"
    }
   ],
   "source": [
    "# 데이터의 첫 다섯 줄을 출력합니다.\n",
    "print(data_teens.shape)\n",
    "data_teens.head()"
   ]
  },
  {
   "cell_type": "code",
   "execution_count": 13,
   "metadata": {},
   "outputs": [],
   "source": [
    "# 컬럼 이름들을 영문으로 바꿔줍니다\n",
    "df_teens = data_teens.rename(columns=cols_rename)"
   ]
  },
  {
   "cell_type": "code",
   "execution_count": 14,
   "metadata": {},
   "outputs": [
    {
     "name": "stdout",
     "output_type": "stream",
     "text": [
      "고려되는 총 환자 수: 246\n"
     ]
    },
    {
     "data": {
      "text/plain": [
       "count    246.000000\n",
       "mean       2.764228\n",
       "std        2.762966\n",
       "min        1.000000\n",
       "25%        1.000000\n",
       "50%        2.000000\n",
       "75%        3.750000\n",
       "max       17.000000\n",
       "Name: pres_id, dtype: float64"
      ]
     },
     "execution_count": 14,
     "metadata": {},
     "output_type": "execute_result"
    }
   ],
   "source": [
    "# 한 환자당 처방전의 개수를 세어봅니다.\n",
    "print(f\"고려되는 총 환자 수: {df_teens['user_id'].nunique()}\")\n",
    "df_teens.groupby('user_id')['pres_id'].count().describe()"
   ]
  },
  {
   "cell_type": "markdown",
   "metadata": {},
   "source": [
    "---\n",
    "### 십대 그래프 생성"
   ]
  },
  {
   "cell_type": "code",
   "execution_count": 15,
   "metadata": {},
   "outputs": [
    {
     "name": "stdout",
     "output_type": "stream",
     "text": [
      "Number of nodes: 28\n",
      "Number of edges: 35\n"
     ]
    }
   ],
   "source": [
    "# 그래프를 생성합니다.\n",
    "G_teens = create_graph(df_teens)\n",
    "\n",
    "# 그래프의 노드와 엣지 수를 출력합니다.\n",
    "print(f\"Number of nodes: {G_teens.number_of_nodes()}\")\n",
    "print(f\"Number of edges: {G_teens.number_of_edges()}\")"
   ]
  },
  {
   "cell_type": "code",
   "execution_count": 16,
   "metadata": {},
   "outputs": [],
   "source": [
    "# 그래프에 label을 추가합니다.\n",
    "for node in G_teens.nodes:\n",
    "    G_teens.nodes[node]['label'] = atc_to_name[node]\n",
    "    G_teens.nodes[node]['comorbidity'] = atc_to_class[node]\n",
    "\n",
    "# Gephi로 시각화를 위해 그래프를 저장합니다.\n",
    "nx.write_gexf(G_teens, './data/gephi/no_depression_teens_prescription_network.gexf')"
   ]
  },
  {
   "cell_type": "markdown",
   "metadata": {},
   "source": [
    "---\n",
    "## 중년 항우울제 미처방 환자 약물 네트워크 분석"
   ]
  },
  {
   "cell_type": "code",
   "execution_count": 17,
   "metadata": {},
   "outputs": [],
   "source": [
    "# 데이터를 불러옵니다.\n",
    "data_middle_aged = pd.read_csv('./data/prescription_middle_aged_comor_sample_2021.csv')"
   ]
  },
  {
   "cell_type": "code",
   "execution_count": 18,
   "metadata": {},
   "outputs": [
    {
     "name": "stdout",
     "output_type": "stream",
     "text": [
      "(157062, 16)\n"
     ]
    },
    {
     "data": {
      "text/html": [
       "<div>\n",
       "<style scoped>\n",
       "    .dataframe tbody tr th:only-of-type {\n",
       "        vertical-align: middle;\n",
       "    }\n",
       "\n",
       "    .dataframe tbody tr th {\n",
       "        vertical-align: top;\n",
       "    }\n",
       "\n",
       "    .dataframe thead th {\n",
       "        text-align: right;\n",
       "    }\n",
       "</style>\n",
       "<table border=\"1\" class=\"dataframe\">\n",
       "  <thead>\n",
       "    <tr style=\"text-align: right;\">\n",
       "      <th></th>\n",
       "      <th>기준년도</th>\n",
       "      <th>가입자일련번호</th>\n",
       "      <th>처방내역일련번호</th>\n",
       "      <th>일련번호</th>\n",
       "      <th>성별코드</th>\n",
       "      <th>연령대코드(5세단위)</th>\n",
       "      <th>시도코드</th>\n",
       "      <th>요양개시일자</th>\n",
       "      <th>약품일반성분명코드</th>\n",
       "      <th>1회 투약량</th>\n",
       "      <th>1일투약량</th>\n",
       "      <th>총투여일수</th>\n",
       "      <th>단가</th>\n",
       "      <th>금액</th>\n",
       "      <th>데이터 공개일자</th>\n",
       "      <th>ATC코드</th>\n",
       "    </tr>\n",
       "  </thead>\n",
       "  <tbody>\n",
       "    <tr>\n",
       "      <th>0</th>\n",
       "      <td>2021</td>\n",
       "      <td>182436</td>\n",
       "      <td>516227</td>\n",
       "      <td>1</td>\n",
       "      <td>1</td>\n",
       "      <td>12</td>\n",
       "      <td>41</td>\n",
       "      <td>2021-03-13</td>\n",
       "      <td>111001ATE</td>\n",
       "      <td>1.0</td>\n",
       "      <td>1</td>\n",
       "      <td>30</td>\n",
       "      <td>77.0</td>\n",
       "      <td>2310</td>\n",
       "      <td>2022-08-11</td>\n",
       "      <td>B01AC06</td>\n",
       "    </tr>\n",
       "    <tr>\n",
       "      <th>1</th>\n",
       "      <td>2021</td>\n",
       "      <td>182436</td>\n",
       "      <td>627161</td>\n",
       "      <td>1</td>\n",
       "      <td>1</td>\n",
       "      <td>12</td>\n",
       "      <td>41</td>\n",
       "      <td>2021-06-14</td>\n",
       "      <td>111001ATE</td>\n",
       "      <td>1.0</td>\n",
       "      <td>1</td>\n",
       "      <td>30</td>\n",
       "      <td>77.0</td>\n",
       "      <td>2310</td>\n",
       "      <td>2022-08-11</td>\n",
       "      <td>B01AC06</td>\n",
       "    </tr>\n",
       "    <tr>\n",
       "      <th>2</th>\n",
       "      <td>2021</td>\n",
       "      <td>182436</td>\n",
       "      <td>1961801</td>\n",
       "      <td>1</td>\n",
       "      <td>1</td>\n",
       "      <td>12</td>\n",
       "      <td>41</td>\n",
       "      <td>2021-04-12</td>\n",
       "      <td>111001ATE</td>\n",
       "      <td>1.0</td>\n",
       "      <td>1</td>\n",
       "      <td>30</td>\n",
       "      <td>77.0</td>\n",
       "      <td>2310</td>\n",
       "      <td>2022-08-11</td>\n",
       "      <td>B01AC06</td>\n",
       "    </tr>\n",
       "    <tr>\n",
       "      <th>3</th>\n",
       "      <td>2021</td>\n",
       "      <td>182436</td>\n",
       "      <td>3443548</td>\n",
       "      <td>1</td>\n",
       "      <td>1</td>\n",
       "      <td>12</td>\n",
       "      <td>41</td>\n",
       "      <td>2021-02-09</td>\n",
       "      <td>111001ATE</td>\n",
       "      <td>1.0</td>\n",
       "      <td>1</td>\n",
       "      <td>30</td>\n",
       "      <td>77.0</td>\n",
       "      <td>2310</td>\n",
       "      <td>2022-08-11</td>\n",
       "      <td>B01AC06</td>\n",
       "    </tr>\n",
       "    <tr>\n",
       "      <th>4</th>\n",
       "      <td>2021</td>\n",
       "      <td>733801</td>\n",
       "      <td>412966</td>\n",
       "      <td>1</td>\n",
       "      <td>1</td>\n",
       "      <td>11</td>\n",
       "      <td>41</td>\n",
       "      <td>2021-11-17</td>\n",
       "      <td>111001ATE</td>\n",
       "      <td>1.0</td>\n",
       "      <td>1</td>\n",
       "      <td>30</td>\n",
       "      <td>77.0</td>\n",
       "      <td>2310</td>\n",
       "      <td>2022-08-11</td>\n",
       "      <td>B01AC06</td>\n",
       "    </tr>\n",
       "  </tbody>\n",
       "</table>\n",
       "</div>"
      ],
      "text/plain": [
       "   기준년도  가입자일련번호  처방내역일련번호  일련번호  성별코드  연령대코드(5세단위)  시도코드      요양개시일자  \\\n",
       "0  2021   182436    516227     1     1           12    41  2021-03-13   \n",
       "1  2021   182436    627161     1     1           12    41  2021-06-14   \n",
       "2  2021   182436   1961801     1     1           12    41  2021-04-12   \n",
       "3  2021   182436   3443548     1     1           12    41  2021-02-09   \n",
       "4  2021   733801    412966     1     1           11    41  2021-11-17   \n",
       "\n",
       "   약품일반성분명코드  1회 투약량  1일투약량  총투여일수    단가    금액    데이터 공개일자    ATC코드  \n",
       "0  111001ATE     1.0      1     30  77.0  2310  2022-08-11  B01AC06  \n",
       "1  111001ATE     1.0      1     30  77.0  2310  2022-08-11  B01AC06  \n",
       "2  111001ATE     1.0      1     30  77.0  2310  2022-08-11  B01AC06  \n",
       "3  111001ATE     1.0      1     30  77.0  2310  2022-08-11  B01AC06  \n",
       "4  111001ATE     1.0      1     30  77.0  2310  2022-08-11  B01AC06  "
      ]
     },
     "execution_count": 18,
     "metadata": {},
     "output_type": "execute_result"
    }
   ],
   "source": [
    "# 데이터의 첫 다섯 줄을 출력합니다.\n",
    "print(data_middle_aged.shape)\n",
    "data_middle_aged.head()"
   ]
  },
  {
   "cell_type": "code",
   "execution_count": 19,
   "metadata": {},
   "outputs": [],
   "source": [
    "# 컬럼 이름들을 영문으로 바꿔줍니다\n",
    "df_middle_aged = data_middle_aged.rename(columns=cols_rename)"
   ]
  },
  {
   "cell_type": "code",
   "execution_count": 20,
   "metadata": {},
   "outputs": [
    {
     "name": "stdout",
     "output_type": "stream",
     "text": [
      "고려되는 총 환자 수: 21110\n"
     ]
    },
    {
     "data": {
      "text/plain": [
       "count    21110.000000\n",
       "mean         7.440171\n",
       "std          9.542537\n",
       "min          1.000000\n",
       "25%          2.000000\n",
       "50%          4.000000\n",
       "75%         10.000000\n",
       "max        133.000000\n",
       "Name: pres_id, dtype: float64"
      ]
     },
     "execution_count": 20,
     "metadata": {},
     "output_type": "execute_result"
    }
   ],
   "source": [
    "# 한 환자당 처방전의 개수를 세어봅니다.\n",
    "print(f\"고려되는 총 환자 수: {df_middle_aged['user_id'].nunique()}\")\n",
    "df_middle_aged.groupby('user_id')['pres_id'].count().describe()"
   ]
  },
  {
   "cell_type": "markdown",
   "metadata": {},
   "source": [
    "### 중년층 그래프 생성"
   ]
  },
  {
   "cell_type": "code",
   "execution_count": 21,
   "metadata": {},
   "outputs": [
    {
     "name": "stdout",
     "output_type": "stream",
     "text": [
      "Number of nodes: 190\n",
      "Number of edges: 3116\n"
     ]
    }
   ],
   "source": [
    "# 그래프를 생성합니다.\n",
    "G_middle_aged = create_graph(df_middle_aged)\n",
    "\n",
    "# 그래프의 노드와 엣지 수를 출력합니다.\n",
    "print(f\"Number of nodes: {G_middle_aged.number_of_nodes()}\")\n",
    "print(f\"Number of edges: {G_middle_aged.number_of_edges()}\")"
   ]
  },
  {
   "cell_type": "code",
   "execution_count": 22,
   "metadata": {},
   "outputs": [],
   "source": [
    "# 그래프에 label을 추가합니다.\n",
    "for node in G_middle_aged.nodes:\n",
    "    G_middle_aged.nodes[node]['label'] = atc_to_name[node]\n",
    "    G_middle_aged.nodes[node]['comorbidity'] = atc_to_class[node]\n",
    "\n",
    "# Gephi로 시각화를 위해 그래프를 저장합니다.\n",
    "nx.write_gexf(G_middle_aged, './data/gephi/no_depression_middle_aged_prescription_network.gexf')"
   ]
  },
  {
   "cell_type": "markdown",
   "metadata": {},
   "source": [
    "---\n",
    "## 20~30대 항우울제 미처방 환자 약물 네트워크 분석"
   ]
  },
  {
   "cell_type": "code",
   "execution_count": 28,
   "metadata": {},
   "outputs": [
    {
     "ename": "FileNotFoundError",
     "evalue": "[Errno 2] No such file or directory: './data/prescription_young_adult_comor_sample_2021.csv'",
     "output_type": "error",
     "traceback": [
      "\u001b[1;31m---------------------------------------------------------------------------\u001b[0m",
      "\u001b[1;31mFileNotFoundError\u001b[0m                         Traceback (most recent call last)",
      "Cell \u001b[1;32mIn[28], line 2\u001b[0m\n\u001b[0;32m      1\u001b[0m \u001b[38;5;66;03m# 데이터를 불러옵니다.\u001b[39;00m\n\u001b[1;32m----> 2\u001b[0m data_young_adult \u001b[38;5;241m=\u001b[39m pd\u001b[38;5;241m.\u001b[39mread_csv(\u001b[38;5;124m'\u001b[39m\u001b[38;5;124m./data/prescription_young_adult_comor_sample_2021.csv\u001b[39m\u001b[38;5;124m'\u001b[39m)\n",
      "File \u001b[1;32mc:\\Users\\YuHan\\anaconda3\\Lib\\site-packages\\pandas\\io\\parsers\\readers.py:948\u001b[0m, in \u001b[0;36mread_csv\u001b[1;34m(filepath_or_buffer, sep, delimiter, header, names, index_col, usecols, dtype, engine, converters, true_values, false_values, skipinitialspace, skiprows, skipfooter, nrows, na_values, keep_default_na, na_filter, verbose, skip_blank_lines, parse_dates, infer_datetime_format, keep_date_col, date_parser, date_format, dayfirst, cache_dates, iterator, chunksize, compression, thousands, decimal, lineterminator, quotechar, quoting, doublequote, escapechar, comment, encoding, encoding_errors, dialect, on_bad_lines, delim_whitespace, low_memory, memory_map, float_precision, storage_options, dtype_backend)\u001b[0m\n\u001b[0;32m    935\u001b[0m kwds_defaults \u001b[38;5;241m=\u001b[39m _refine_defaults_read(\n\u001b[0;32m    936\u001b[0m     dialect,\n\u001b[0;32m    937\u001b[0m     delimiter,\n\u001b[1;32m   (...)\u001b[0m\n\u001b[0;32m    944\u001b[0m     dtype_backend\u001b[38;5;241m=\u001b[39mdtype_backend,\n\u001b[0;32m    945\u001b[0m )\n\u001b[0;32m    946\u001b[0m kwds\u001b[38;5;241m.\u001b[39mupdate(kwds_defaults)\n\u001b[1;32m--> 948\u001b[0m \u001b[38;5;28;01mreturn\u001b[39;00m _read(filepath_or_buffer, kwds)\n",
      "File \u001b[1;32mc:\\Users\\YuHan\\anaconda3\\Lib\\site-packages\\pandas\\io\\parsers\\readers.py:611\u001b[0m, in \u001b[0;36m_read\u001b[1;34m(filepath_or_buffer, kwds)\u001b[0m\n\u001b[0;32m    608\u001b[0m _validate_names(kwds\u001b[38;5;241m.\u001b[39mget(\u001b[38;5;124m\"\u001b[39m\u001b[38;5;124mnames\u001b[39m\u001b[38;5;124m\"\u001b[39m, \u001b[38;5;28;01mNone\u001b[39;00m))\n\u001b[0;32m    610\u001b[0m \u001b[38;5;66;03m# Create the parser.\u001b[39;00m\n\u001b[1;32m--> 611\u001b[0m parser \u001b[38;5;241m=\u001b[39m TextFileReader(filepath_or_buffer, \u001b[38;5;241m*\u001b[39m\u001b[38;5;241m*\u001b[39mkwds)\n\u001b[0;32m    613\u001b[0m \u001b[38;5;28;01mif\u001b[39;00m chunksize \u001b[38;5;129;01mor\u001b[39;00m iterator:\n\u001b[0;32m    614\u001b[0m     \u001b[38;5;28;01mreturn\u001b[39;00m parser\n",
      "File \u001b[1;32mc:\\Users\\YuHan\\anaconda3\\Lib\\site-packages\\pandas\\io\\parsers\\readers.py:1448\u001b[0m, in \u001b[0;36mTextFileReader.__init__\u001b[1;34m(self, f, engine, **kwds)\u001b[0m\n\u001b[0;32m   1445\u001b[0m     \u001b[38;5;28mself\u001b[39m\u001b[38;5;241m.\u001b[39moptions[\u001b[38;5;124m\"\u001b[39m\u001b[38;5;124mhas_index_names\u001b[39m\u001b[38;5;124m\"\u001b[39m] \u001b[38;5;241m=\u001b[39m kwds[\u001b[38;5;124m\"\u001b[39m\u001b[38;5;124mhas_index_names\u001b[39m\u001b[38;5;124m\"\u001b[39m]\n\u001b[0;32m   1447\u001b[0m \u001b[38;5;28mself\u001b[39m\u001b[38;5;241m.\u001b[39mhandles: IOHandles \u001b[38;5;241m|\u001b[39m \u001b[38;5;28;01mNone\u001b[39;00m \u001b[38;5;241m=\u001b[39m \u001b[38;5;28;01mNone\u001b[39;00m\n\u001b[1;32m-> 1448\u001b[0m \u001b[38;5;28mself\u001b[39m\u001b[38;5;241m.\u001b[39m_engine \u001b[38;5;241m=\u001b[39m \u001b[38;5;28mself\u001b[39m\u001b[38;5;241m.\u001b[39m_make_engine(f, \u001b[38;5;28mself\u001b[39m\u001b[38;5;241m.\u001b[39mengine)\n",
      "File \u001b[1;32mc:\\Users\\YuHan\\anaconda3\\Lib\\site-packages\\pandas\\io\\parsers\\readers.py:1705\u001b[0m, in \u001b[0;36mTextFileReader._make_engine\u001b[1;34m(self, f, engine)\u001b[0m\n\u001b[0;32m   1703\u001b[0m     \u001b[38;5;28;01mif\u001b[39;00m \u001b[38;5;124m\"\u001b[39m\u001b[38;5;124mb\u001b[39m\u001b[38;5;124m\"\u001b[39m \u001b[38;5;129;01mnot\u001b[39;00m \u001b[38;5;129;01min\u001b[39;00m mode:\n\u001b[0;32m   1704\u001b[0m         mode \u001b[38;5;241m+\u001b[39m\u001b[38;5;241m=\u001b[39m \u001b[38;5;124m\"\u001b[39m\u001b[38;5;124mb\u001b[39m\u001b[38;5;124m\"\u001b[39m\n\u001b[1;32m-> 1705\u001b[0m \u001b[38;5;28mself\u001b[39m\u001b[38;5;241m.\u001b[39mhandles \u001b[38;5;241m=\u001b[39m get_handle(\n\u001b[0;32m   1706\u001b[0m     f,\n\u001b[0;32m   1707\u001b[0m     mode,\n\u001b[0;32m   1708\u001b[0m     encoding\u001b[38;5;241m=\u001b[39m\u001b[38;5;28mself\u001b[39m\u001b[38;5;241m.\u001b[39moptions\u001b[38;5;241m.\u001b[39mget(\u001b[38;5;124m\"\u001b[39m\u001b[38;5;124mencoding\u001b[39m\u001b[38;5;124m\"\u001b[39m, \u001b[38;5;28;01mNone\u001b[39;00m),\n\u001b[0;32m   1709\u001b[0m     compression\u001b[38;5;241m=\u001b[39m\u001b[38;5;28mself\u001b[39m\u001b[38;5;241m.\u001b[39moptions\u001b[38;5;241m.\u001b[39mget(\u001b[38;5;124m\"\u001b[39m\u001b[38;5;124mcompression\u001b[39m\u001b[38;5;124m\"\u001b[39m, \u001b[38;5;28;01mNone\u001b[39;00m),\n\u001b[0;32m   1710\u001b[0m     memory_map\u001b[38;5;241m=\u001b[39m\u001b[38;5;28mself\u001b[39m\u001b[38;5;241m.\u001b[39moptions\u001b[38;5;241m.\u001b[39mget(\u001b[38;5;124m\"\u001b[39m\u001b[38;5;124mmemory_map\u001b[39m\u001b[38;5;124m\"\u001b[39m, \u001b[38;5;28;01mFalse\u001b[39;00m),\n\u001b[0;32m   1711\u001b[0m     is_text\u001b[38;5;241m=\u001b[39mis_text,\n\u001b[0;32m   1712\u001b[0m     errors\u001b[38;5;241m=\u001b[39m\u001b[38;5;28mself\u001b[39m\u001b[38;5;241m.\u001b[39moptions\u001b[38;5;241m.\u001b[39mget(\u001b[38;5;124m\"\u001b[39m\u001b[38;5;124mencoding_errors\u001b[39m\u001b[38;5;124m\"\u001b[39m, \u001b[38;5;124m\"\u001b[39m\u001b[38;5;124mstrict\u001b[39m\u001b[38;5;124m\"\u001b[39m),\n\u001b[0;32m   1713\u001b[0m     storage_options\u001b[38;5;241m=\u001b[39m\u001b[38;5;28mself\u001b[39m\u001b[38;5;241m.\u001b[39moptions\u001b[38;5;241m.\u001b[39mget(\u001b[38;5;124m\"\u001b[39m\u001b[38;5;124mstorage_options\u001b[39m\u001b[38;5;124m\"\u001b[39m, \u001b[38;5;28;01mNone\u001b[39;00m),\n\u001b[0;32m   1714\u001b[0m )\n\u001b[0;32m   1715\u001b[0m \u001b[38;5;28;01massert\u001b[39;00m \u001b[38;5;28mself\u001b[39m\u001b[38;5;241m.\u001b[39mhandles \u001b[38;5;129;01mis\u001b[39;00m \u001b[38;5;129;01mnot\u001b[39;00m \u001b[38;5;28;01mNone\u001b[39;00m\n\u001b[0;32m   1716\u001b[0m f \u001b[38;5;241m=\u001b[39m \u001b[38;5;28mself\u001b[39m\u001b[38;5;241m.\u001b[39mhandles\u001b[38;5;241m.\u001b[39mhandle\n",
      "File \u001b[1;32mc:\\Users\\YuHan\\anaconda3\\Lib\\site-packages\\pandas\\io\\common.py:863\u001b[0m, in \u001b[0;36mget_handle\u001b[1;34m(path_or_buf, mode, encoding, compression, memory_map, is_text, errors, storage_options)\u001b[0m\n\u001b[0;32m    858\u001b[0m \u001b[38;5;28;01melif\u001b[39;00m \u001b[38;5;28misinstance\u001b[39m(handle, \u001b[38;5;28mstr\u001b[39m):\n\u001b[0;32m    859\u001b[0m     \u001b[38;5;66;03m# Check whether the filename is to be opened in binary mode.\u001b[39;00m\n\u001b[0;32m    860\u001b[0m     \u001b[38;5;66;03m# Binary mode does not support 'encoding' and 'newline'.\u001b[39;00m\n\u001b[0;32m    861\u001b[0m     \u001b[38;5;28;01mif\u001b[39;00m ioargs\u001b[38;5;241m.\u001b[39mencoding \u001b[38;5;129;01mand\u001b[39;00m \u001b[38;5;124m\"\u001b[39m\u001b[38;5;124mb\u001b[39m\u001b[38;5;124m\"\u001b[39m \u001b[38;5;129;01mnot\u001b[39;00m \u001b[38;5;129;01min\u001b[39;00m ioargs\u001b[38;5;241m.\u001b[39mmode:\n\u001b[0;32m    862\u001b[0m         \u001b[38;5;66;03m# Encoding\u001b[39;00m\n\u001b[1;32m--> 863\u001b[0m         handle \u001b[38;5;241m=\u001b[39m \u001b[38;5;28mopen\u001b[39m(\n\u001b[0;32m    864\u001b[0m             handle,\n\u001b[0;32m    865\u001b[0m             ioargs\u001b[38;5;241m.\u001b[39mmode,\n\u001b[0;32m    866\u001b[0m             encoding\u001b[38;5;241m=\u001b[39mioargs\u001b[38;5;241m.\u001b[39mencoding,\n\u001b[0;32m    867\u001b[0m             errors\u001b[38;5;241m=\u001b[39merrors,\n\u001b[0;32m    868\u001b[0m             newline\u001b[38;5;241m=\u001b[39m\u001b[38;5;124m\"\u001b[39m\u001b[38;5;124m\"\u001b[39m,\n\u001b[0;32m    869\u001b[0m         )\n\u001b[0;32m    870\u001b[0m     \u001b[38;5;28;01melse\u001b[39;00m:\n\u001b[0;32m    871\u001b[0m         \u001b[38;5;66;03m# Binary mode\u001b[39;00m\n\u001b[0;32m    872\u001b[0m         handle \u001b[38;5;241m=\u001b[39m \u001b[38;5;28mopen\u001b[39m(handle, ioargs\u001b[38;5;241m.\u001b[39mmode)\n",
      "\u001b[1;31mFileNotFoundError\u001b[0m: [Errno 2] No such file or directory: './data/prescription_young_adult_comor_sample_2021.csv'"
     ]
    }
   ],
   "source": [
    "# 데이터를 불러옵니다.\n",
    "data_young_adult = pd.read_csv('./data/prescription_young_adult_comor_sample_2021.csv')"
   ]
  },
  {
   "cell_type": "code",
   "execution_count": 24,
   "metadata": {},
   "outputs": [
    {
     "name": "stdout",
     "output_type": "stream",
     "text": [
      "(157062, 16)\n"
     ]
    },
    {
     "data": {
      "text/html": [
       "<div>\n",
       "<style scoped>\n",
       "    .dataframe tbody tr th:only-of-type {\n",
       "        vertical-align: middle;\n",
       "    }\n",
       "\n",
       "    .dataframe tbody tr th {\n",
       "        vertical-align: top;\n",
       "    }\n",
       "\n",
       "    .dataframe thead th {\n",
       "        text-align: right;\n",
       "    }\n",
       "</style>\n",
       "<table border=\"1\" class=\"dataframe\">\n",
       "  <thead>\n",
       "    <tr style=\"text-align: right;\">\n",
       "      <th></th>\n",
       "      <th>기준년도</th>\n",
       "      <th>가입자일련번호</th>\n",
       "      <th>처방내역일련번호</th>\n",
       "      <th>일련번호</th>\n",
       "      <th>성별코드</th>\n",
       "      <th>연령대코드(5세단위)</th>\n",
       "      <th>시도코드</th>\n",
       "      <th>요양개시일자</th>\n",
       "      <th>약품일반성분명코드</th>\n",
       "      <th>1회 투약량</th>\n",
       "      <th>1일투약량</th>\n",
       "      <th>총투여일수</th>\n",
       "      <th>단가</th>\n",
       "      <th>금액</th>\n",
       "      <th>데이터 공개일자</th>\n",
       "      <th>ATC코드</th>\n",
       "    </tr>\n",
       "  </thead>\n",
       "  <tbody>\n",
       "    <tr>\n",
       "      <th>0</th>\n",
       "      <td>2021</td>\n",
       "      <td>182436</td>\n",
       "      <td>516227</td>\n",
       "      <td>1</td>\n",
       "      <td>1</td>\n",
       "      <td>12</td>\n",
       "      <td>41</td>\n",
       "      <td>2021-03-13</td>\n",
       "      <td>111001ATE</td>\n",
       "      <td>1.0</td>\n",
       "      <td>1</td>\n",
       "      <td>30</td>\n",
       "      <td>77.0</td>\n",
       "      <td>2310</td>\n",
       "      <td>2022-08-11</td>\n",
       "      <td>B01AC06</td>\n",
       "    </tr>\n",
       "    <tr>\n",
       "      <th>1</th>\n",
       "      <td>2021</td>\n",
       "      <td>182436</td>\n",
       "      <td>627161</td>\n",
       "      <td>1</td>\n",
       "      <td>1</td>\n",
       "      <td>12</td>\n",
       "      <td>41</td>\n",
       "      <td>2021-06-14</td>\n",
       "      <td>111001ATE</td>\n",
       "      <td>1.0</td>\n",
       "      <td>1</td>\n",
       "      <td>30</td>\n",
       "      <td>77.0</td>\n",
       "      <td>2310</td>\n",
       "      <td>2022-08-11</td>\n",
       "      <td>B01AC06</td>\n",
       "    </tr>\n",
       "    <tr>\n",
       "      <th>2</th>\n",
       "      <td>2021</td>\n",
       "      <td>182436</td>\n",
       "      <td>1961801</td>\n",
       "      <td>1</td>\n",
       "      <td>1</td>\n",
       "      <td>12</td>\n",
       "      <td>41</td>\n",
       "      <td>2021-04-12</td>\n",
       "      <td>111001ATE</td>\n",
       "      <td>1.0</td>\n",
       "      <td>1</td>\n",
       "      <td>30</td>\n",
       "      <td>77.0</td>\n",
       "      <td>2310</td>\n",
       "      <td>2022-08-11</td>\n",
       "      <td>B01AC06</td>\n",
       "    </tr>\n",
       "    <tr>\n",
       "      <th>3</th>\n",
       "      <td>2021</td>\n",
       "      <td>182436</td>\n",
       "      <td>3443548</td>\n",
       "      <td>1</td>\n",
       "      <td>1</td>\n",
       "      <td>12</td>\n",
       "      <td>41</td>\n",
       "      <td>2021-02-09</td>\n",
       "      <td>111001ATE</td>\n",
       "      <td>1.0</td>\n",
       "      <td>1</td>\n",
       "      <td>30</td>\n",
       "      <td>77.0</td>\n",
       "      <td>2310</td>\n",
       "      <td>2022-08-11</td>\n",
       "      <td>B01AC06</td>\n",
       "    </tr>\n",
       "    <tr>\n",
       "      <th>4</th>\n",
       "      <td>2021</td>\n",
       "      <td>733801</td>\n",
       "      <td>412966</td>\n",
       "      <td>1</td>\n",
       "      <td>1</td>\n",
       "      <td>11</td>\n",
       "      <td>41</td>\n",
       "      <td>2021-11-17</td>\n",
       "      <td>111001ATE</td>\n",
       "      <td>1.0</td>\n",
       "      <td>1</td>\n",
       "      <td>30</td>\n",
       "      <td>77.0</td>\n",
       "      <td>2310</td>\n",
       "      <td>2022-08-11</td>\n",
       "      <td>B01AC06</td>\n",
       "    </tr>\n",
       "  </tbody>\n",
       "</table>\n",
       "</div>"
      ],
      "text/plain": [
       "   기준년도  가입자일련번호  처방내역일련번호  일련번호  성별코드  연령대코드(5세단위)  시도코드      요양개시일자  \\\n",
       "0  2021   182436    516227     1     1           12    41  2021-03-13   \n",
       "1  2021   182436    627161     1     1           12    41  2021-06-14   \n",
       "2  2021   182436   1961801     1     1           12    41  2021-04-12   \n",
       "3  2021   182436   3443548     1     1           12    41  2021-02-09   \n",
       "4  2021   733801    412966     1     1           11    41  2021-11-17   \n",
       "\n",
       "   약품일반성분명코드  1회 투약량  1일투약량  총투여일수    단가    금액    데이터 공개일자    ATC코드  \n",
       "0  111001ATE     1.0      1     30  77.0  2310  2022-08-11  B01AC06  \n",
       "1  111001ATE     1.0      1     30  77.0  2310  2022-08-11  B01AC06  \n",
       "2  111001ATE     1.0      1     30  77.0  2310  2022-08-11  B01AC06  \n",
       "3  111001ATE     1.0      1     30  77.0  2310  2022-08-11  B01AC06  \n",
       "4  111001ATE     1.0      1     30  77.0  2310  2022-08-11  B01AC06  "
      ]
     },
     "execution_count": 24,
     "metadata": {},
     "output_type": "execute_result"
    }
   ],
   "source": [
    "# 데이터의 첫 다섯 줄을 출력합니다.\n",
    "print(data_middle_aged.shape)\n",
    "data_middle_aged.head()"
   ]
  },
  {
   "cell_type": "code",
   "execution_count": 25,
   "metadata": {},
   "outputs": [],
   "source": [
    "# 컬럼 이름들을 영문으로 바꿔줍니다\n",
    "df_middle_aged = data_middle_aged.rename(columns={\n",
    "    '기준년도': 'year',\n",
    "    '가입자일련번호': 'user_id',\n",
    "    '처방내역일련번호': 'pres_id',\n",
    "    '일련번호': 'med_id',\n",
    "    '성별코드': 'gender',\n",
    "    '연령대코드(5세단위)': 'age_group',\n",
    "    '시도코드': 'region',\n",
    "    '요양개시일자': 'start_date',\n",
    "    '약품일반성분명코드': 'mi_code',\n",
    "    '1회 투약량': 'dose_per_time',\n",
    "    '1일투약량': 'dose_per_day',\n",
    "    '총투여일수': 'total_days',\n",
    "    '단가': 'unit_price',\n",
    "    '금액': 'total_price',\n",
    "    '데이터 공개일자': 'data_release_date',\n",
    "    'ATC코드': 'ATC_code'\n",
    "})"
   ]
  },
  {
   "cell_type": "code",
   "execution_count": 26,
   "metadata": {},
   "outputs": [
    {
     "name": "stdout",
     "output_type": "stream",
     "text": [
      "고려되는 총 환자 수: 21110\n"
     ]
    },
    {
     "data": {
      "text/plain": [
       "count    21110.000000\n",
       "mean         7.440171\n",
       "std          9.542537\n",
       "min          1.000000\n",
       "25%          2.000000\n",
       "50%          4.000000\n",
       "75%         10.000000\n",
       "max        133.000000\n",
       "Name: pres_id, dtype: float64"
      ]
     },
     "execution_count": 26,
     "metadata": {},
     "output_type": "execute_result"
    }
   ],
   "source": [
    "# 한 환자당 처방전의 개수를 세어봅니다.\n",
    "print(f\"고려되는 총 환자 수: {df_middle_aged['user_id'].nunique()}\")\n",
    "df_middle_aged.groupby('user_id')['pres_id'].count().describe()"
   ]
  },
  {
   "cell_type": "markdown",
   "metadata": {},
   "source": [
    "### 중년층 그래프 생성"
   ]
  },
  {
   "cell_type": "code",
   "execution_count": 27,
   "metadata": {},
   "outputs": [
    {
     "ename": "KeyboardInterrupt",
     "evalue": "",
     "output_type": "error",
     "traceback": [
      "\u001b[1;31m---------------------------------------------------------------------------\u001b[0m",
      "\u001b[1;31mKeyboardInterrupt\u001b[0m                         Traceback (most recent call last)",
      "Cell \u001b[1;32mIn[27], line 2\u001b[0m\n\u001b[0;32m      1\u001b[0m \u001b[38;5;66;03m# 그래프를 생성합니다.\u001b[39;00m\n\u001b[1;32m----> 2\u001b[0m G_middle_aged \u001b[38;5;241m=\u001b[39m create_graph(df_middle_aged)\n\u001b[0;32m      4\u001b[0m \u001b[38;5;66;03m# 그래프의 노드와 엣지 수를 출력합니다.\u001b[39;00m\n\u001b[0;32m      5\u001b[0m \u001b[38;5;28mprint\u001b[39m(\u001b[38;5;124mf\u001b[39m\u001b[38;5;124m\"\u001b[39m\u001b[38;5;124mNumber of nodes: \u001b[39m\u001b[38;5;132;01m{\u001b[39;00mG_middle_aged\u001b[38;5;241m.\u001b[39mnumber_of_nodes()\u001b[38;5;132;01m}\u001b[39;00m\u001b[38;5;124m\"\u001b[39m)\n",
      "Cell \u001b[1;32mIn[7], line 15\u001b[0m, in \u001b[0;36mcreate_graph\u001b[1;34m(data)\u001b[0m\n\u001b[0;32m     13\u001b[0m cooccurrences \u001b[38;5;241m=\u001b[39m \u001b[38;5;28mset\u001b[39m()\n\u001b[0;32m     14\u001b[0m \u001b[38;5;28;01mfor\u001b[39;00m pres_id, pres_group \u001b[38;5;129;01min\u001b[39;00m user_group\u001b[38;5;241m.\u001b[39mgroupby(\u001b[38;5;124m'\u001b[39m\u001b[38;5;124mpres_id\u001b[39m\u001b[38;5;124m'\u001b[39m):\n\u001b[1;32m---> 15\u001b[0m     atc_codes \u001b[38;5;241m=\u001b[39m pres_group[\u001b[38;5;124m'\u001b[39m\u001b[38;5;124mATC_code\u001b[39m\u001b[38;5;124m'\u001b[39m]\u001b[38;5;241m.\u001b[39munique()\n\u001b[0;32m     16\u001b[0m     \u001b[38;5;28;01mfor\u001b[39;00m i \u001b[38;5;129;01min\u001b[39;00m \u001b[38;5;28mrange\u001b[39m(\u001b[38;5;28mlen\u001b[39m(atc_codes)):\n\u001b[0;32m     17\u001b[0m         \u001b[38;5;28;01mfor\u001b[39;00m j \u001b[38;5;129;01min\u001b[39;00m \u001b[38;5;28mrange\u001b[39m(i \u001b[38;5;241m+\u001b[39m \u001b[38;5;241m1\u001b[39m, \u001b[38;5;28mlen\u001b[39m(atc_codes)):\n",
      "File \u001b[1;32mc:\\Users\\YuHan\\anaconda3\\Lib\\site-packages\\pandas\\core\\series.py:2291\u001b[0m, in \u001b[0;36mSeries.unique\u001b[1;34m(self)\u001b[0m\n\u001b[0;32m   2228\u001b[0m \u001b[38;5;28;01mdef\u001b[39;00m \u001b[38;5;21munique\u001b[39m(\u001b[38;5;28mself\u001b[39m) \u001b[38;5;241m-\u001b[39m\u001b[38;5;241m>\u001b[39m ArrayLike:  \u001b[38;5;66;03m# pylint: disable=useless-parent-delegation\u001b[39;00m\n\u001b[0;32m   2229\u001b[0m \u001b[38;5;250m    \u001b[39m\u001b[38;5;124;03m\"\"\"\u001b[39;00m\n\u001b[0;32m   2230\u001b[0m \u001b[38;5;124;03m    Return unique values of Series object.\u001b[39;00m\n\u001b[0;32m   2231\u001b[0m \n\u001b[1;32m   (...)\u001b[0m\n\u001b[0;32m   2289\u001b[0m \u001b[38;5;124;03m    Categories (3, object): ['a' < 'b' < 'c']\u001b[39;00m\n\u001b[0;32m   2290\u001b[0m \u001b[38;5;124;03m    \"\"\"\u001b[39;00m\n\u001b[1;32m-> 2291\u001b[0m     \u001b[38;5;28;01mreturn\u001b[39;00m \u001b[38;5;28msuper\u001b[39m()\u001b[38;5;241m.\u001b[39munique()\n",
      "File \u001b[1;32mc:\\Users\\YuHan\\anaconda3\\Lib\\site-packages\\pandas\\core\\base.py:1025\u001b[0m, in \u001b[0;36mIndexOpsMixin.unique\u001b[1;34m(self)\u001b[0m\n\u001b[0;32m   1023\u001b[0m     result \u001b[38;5;241m=\u001b[39m values\u001b[38;5;241m.\u001b[39munique()\n\u001b[0;32m   1024\u001b[0m \u001b[38;5;28;01melse\u001b[39;00m:\n\u001b[1;32m-> 1025\u001b[0m     result \u001b[38;5;241m=\u001b[39m algorithms\u001b[38;5;241m.\u001b[39munique1d(values)\n\u001b[0;32m   1026\u001b[0m \u001b[38;5;28;01mreturn\u001b[39;00m result\n",
      "File \u001b[1;32mc:\\Users\\YuHan\\anaconda3\\Lib\\site-packages\\pandas\\core\\algorithms.py:401\u001b[0m, in \u001b[0;36munique\u001b[1;34m(values)\u001b[0m\n\u001b[0;32m    307\u001b[0m \u001b[38;5;28;01mdef\u001b[39;00m \u001b[38;5;21munique\u001b[39m(values):\n\u001b[0;32m    308\u001b[0m \u001b[38;5;250m    \u001b[39m\u001b[38;5;124;03m\"\"\"\u001b[39;00m\n\u001b[0;32m    309\u001b[0m \u001b[38;5;124;03m    Return unique values based on a hash table.\u001b[39;00m\n\u001b[0;32m    310\u001b[0m \n\u001b[1;32m   (...)\u001b[0m\n\u001b[0;32m    399\u001b[0m \u001b[38;5;124;03m    array([('a', 'b'), ('b', 'a'), ('a', 'c')], dtype=object)\u001b[39;00m\n\u001b[0;32m    400\u001b[0m \u001b[38;5;124;03m    \"\"\"\u001b[39;00m\n\u001b[1;32m--> 401\u001b[0m     \u001b[38;5;28;01mreturn\u001b[39;00m unique_with_mask(values)\n",
      "File \u001b[1;32mc:\\Users\\YuHan\\anaconda3\\Lib\\site-packages\\pandas\\core\\algorithms.py:438\u001b[0m, in \u001b[0;36munique_with_mask\u001b[1;34m(values, mask)\u001b[0m\n\u001b[0;32m    435\u001b[0m original \u001b[38;5;241m=\u001b[39m values\n\u001b[0;32m    436\u001b[0m hashtable, values \u001b[38;5;241m=\u001b[39m _get_hashtable_algo(values)\n\u001b[1;32m--> 438\u001b[0m table \u001b[38;5;241m=\u001b[39m hashtable(\u001b[38;5;28mlen\u001b[39m(values))\n\u001b[0;32m    439\u001b[0m \u001b[38;5;28;01mif\u001b[39;00m mask \u001b[38;5;129;01mis\u001b[39;00m \u001b[38;5;28;01mNone\u001b[39;00m:\n\u001b[0;32m    440\u001b[0m     uniques \u001b[38;5;241m=\u001b[39m table\u001b[38;5;241m.\u001b[39munique(values)\n",
      "\u001b[1;31mKeyboardInterrupt\u001b[0m: "
     ]
    }
   ],
   "source": [
    "# 그래프를 생성합니다.\n",
    "G_middle_aged = create_graph(df_middle_aged)\n",
    "\n",
    "# 그래프의 노드와 엣지 수를 출력합니다.\n",
    "print(f\"Number of nodes: {G_middle_aged.number_of_nodes()}\")\n",
    "print(f\"Number of edges: {G_middle_aged.number_of_edges()}\")"
   ]
  },
  {
   "cell_type": "code",
   "execution_count": null,
   "metadata": {},
   "outputs": [],
   "source": [
    "# ATC 코드를 약품명으로 바꿔줍니다.\n",
    "atc_to_name = comor_mapping.set_index('ATC코드')['주성분명'].to_dict()\n",
    "\n",
    "# 만성질환 질병 종류를 구분해줍니다.\n",
    "class_map = comor_mapping[['ATC코드', 'comorbidity_class']].drop_duplicates(subset=['ATC코드'], keep='first')\n",
    "atc_to_class = class_map.set_index('ATC코드')['comorbidity_class'].to_dict()\n",
    "\n",
    "# 그래프에 label을 추가합니다.\n",
    "for node in G_middle_aged.nodes:\n",
    "    G_middle_aged.nodes[node]['label'] = atc_to_name[node]\n",
    "    G_middle_aged.nodes[node]['comorbidity'] = atc_to_class[node]"
   ]
  },
  {
   "cell_type": "code",
   "execution_count": null,
   "metadata": {},
   "outputs": [],
   "source": [
    "# Gephi로 시각화를 위해 그래프를 저장합니다.\n",
    "nx.write_gexf(G_middle_aged, './data/gephi/no_depression_middle_aged_prescription_network.gexf')"
   ]
  }
 ],
 "metadata": {
  "kernelspec": {
   "display_name": "base",
   "language": "python",
   "name": "python3"
  },
  "language_info": {
   "codemirror_mode": {
    "name": "ipython",
    "version": 3
   },
   "file_extension": ".py",
   "mimetype": "text/x-python",
   "name": "python",
   "nbconvert_exporter": "python",
   "pygments_lexer": "ipython3",
   "version": "3.11.7"
  }
 },
 "nbformat": 4,
 "nbformat_minor": 2
}
