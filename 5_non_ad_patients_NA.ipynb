{
 "cells": [
  {
   "cell_type": "code",
   "execution_count": 1,
   "metadata": {},
   "outputs": [],
   "source": [
    "# 라이브러리를 불러옵니다.\n",
    "import numpy as np\n",
    "import pandas as pd\n",
    "\n",
    "import matplotlib.pyplot as plt\n",
    "import matplotlib.font_manager as fm\n",
    "from matplotlib.colors import LogNorm\n",
    "from matplotlib import rc\n",
    "import seaborn as sns\n",
    "\n",
    "import networkx as nx"
   ]
  },
  {
   "cell_type": "code",
   "execution_count": 2,
   "metadata": {},
   "outputs": [],
   "source": [
    "# 한글 폰트 설정\n",
    "font_path = '/usr/share/fonts/truetype/nanum/MalgunGothic.ttf'\n",
    "fontprop = fm.FontProperties(fname=font_path, size=18)\n",
    "rc('font', family='Malgun Gothic')"
   ]
  },
  {
   "cell_type": "markdown",
   "metadata": {},
   "source": [
    "## 65세 이상 항우울제 미처방 환자 약물 네트워크 분석"
   ]
  },
  {
   "cell_type": "code",
   "execution_count": 19,
   "metadata": {},
   "outputs": [],
   "source": [
    "# 데이터를 불러옵니다.\n",
    "data_senior = pd.read_csv('./data/prescription_over_65_comor_sample_2021.csv')\n",
    "\n",
    "comor_mapping = pd.read_csv('data/mapping/comorbidities_mapping.csv', encoding='utf-8')"
   ]
  },
  {
   "cell_type": "code",
   "execution_count": 20,
   "metadata": {},
   "outputs": [
    {
     "name": "stdout",
     "output_type": "stream",
     "text": [
      "(201593, 16)\n"
     ]
    },
    {
     "data": {
      "text/html": [
       "<div>\n",
       "<style scoped>\n",
       "    .dataframe tbody tr th:only-of-type {\n",
       "        vertical-align: middle;\n",
       "    }\n",
       "\n",
       "    .dataframe tbody tr th {\n",
       "        vertical-align: top;\n",
       "    }\n",
       "\n",
       "    .dataframe thead th {\n",
       "        text-align: right;\n",
       "    }\n",
       "</style>\n",
       "<table border=\"1\" class=\"dataframe\">\n",
       "  <thead>\n",
       "    <tr style=\"text-align: right;\">\n",
       "      <th></th>\n",
       "      <th>기준년도</th>\n",
       "      <th>가입자일련번호</th>\n",
       "      <th>처방내역일련번호</th>\n",
       "      <th>일련번호</th>\n",
       "      <th>성별코드</th>\n",
       "      <th>연령대코드(5세단위)</th>\n",
       "      <th>시도코드</th>\n",
       "      <th>요양개시일자</th>\n",
       "      <th>약품일반성분명코드</th>\n",
       "      <th>1회 투약량</th>\n",
       "      <th>1일투약량</th>\n",
       "      <th>총투여일수</th>\n",
       "      <th>단가</th>\n",
       "      <th>금액</th>\n",
       "      <th>데이터 공개일자</th>\n",
       "      <th>ATC코드</th>\n",
       "    </tr>\n",
       "  </thead>\n",
       "  <tbody>\n",
       "    <tr>\n",
       "      <th>0</th>\n",
       "      <td>2021</td>\n",
       "      <td>403017</td>\n",
       "      <td>154510</td>\n",
       "      <td>1</td>\n",
       "      <td>2</td>\n",
       "      <td>14</td>\n",
       "      <td>41</td>\n",
       "      <td>2021-12-21</td>\n",
       "      <td>111001ATE</td>\n",
       "      <td>1.0</td>\n",
       "      <td>1</td>\n",
       "      <td>30</td>\n",
       "      <td>77.0</td>\n",
       "      <td>2310</td>\n",
       "      <td>2022-08-11</td>\n",
       "      <td>B01AC06</td>\n",
       "    </tr>\n",
       "    <tr>\n",
       "      <th>1</th>\n",
       "      <td>2021</td>\n",
       "      <td>547179</td>\n",
       "      <td>238048</td>\n",
       "      <td>1</td>\n",
       "      <td>2</td>\n",
       "      <td>16</td>\n",
       "      <td>41</td>\n",
       "      <td>2021-05-26</td>\n",
       "      <td>111001ATE</td>\n",
       "      <td>1.0</td>\n",
       "      <td>1</td>\n",
       "      <td>30</td>\n",
       "      <td>77.0</td>\n",
       "      <td>2310</td>\n",
       "      <td>2022-08-11</td>\n",
       "      <td>B01AC06</td>\n",
       "    </tr>\n",
       "    <tr>\n",
       "      <th>2</th>\n",
       "      <td>2021</td>\n",
       "      <td>287268</td>\n",
       "      <td>320180</td>\n",
       "      <td>1</td>\n",
       "      <td>1</td>\n",
       "      <td>15</td>\n",
       "      <td>41</td>\n",
       "      <td>2021-11-12</td>\n",
       "      <td>111001ATE</td>\n",
       "      <td>1.0</td>\n",
       "      <td>1</td>\n",
       "      <td>30</td>\n",
       "      <td>77.0</td>\n",
       "      <td>2310</td>\n",
       "      <td>2022-08-11</td>\n",
       "      <td>B01AC06</td>\n",
       "    </tr>\n",
       "    <tr>\n",
       "      <th>3</th>\n",
       "      <td>2021</td>\n",
       "      <td>403017</td>\n",
       "      <td>320961</td>\n",
       "      <td>1</td>\n",
       "      <td>2</td>\n",
       "      <td>14</td>\n",
       "      <td>41</td>\n",
       "      <td>2021-05-21</td>\n",
       "      <td>111001ATE</td>\n",
       "      <td>1.0</td>\n",
       "      <td>1</td>\n",
       "      <td>30</td>\n",
       "      <td>77.0</td>\n",
       "      <td>2310</td>\n",
       "      <td>2022-08-11</td>\n",
       "      <td>B01AC06</td>\n",
       "    </tr>\n",
       "    <tr>\n",
       "      <th>4</th>\n",
       "      <td>2021</td>\n",
       "      <td>547179</td>\n",
       "      <td>461888</td>\n",
       "      <td>1</td>\n",
       "      <td>2</td>\n",
       "      <td>16</td>\n",
       "      <td>41</td>\n",
       "      <td>2021-10-26</td>\n",
       "      <td>111001ATE</td>\n",
       "      <td>1.0</td>\n",
       "      <td>1</td>\n",
       "      <td>30</td>\n",
       "      <td>77.0</td>\n",
       "      <td>2310</td>\n",
       "      <td>2022-08-11</td>\n",
       "      <td>B01AC06</td>\n",
       "    </tr>\n",
       "  </tbody>\n",
       "</table>\n",
       "</div>"
      ],
      "text/plain": [
       "   기준년도  가입자일련번호  처방내역일련번호  일련번호  성별코드  연령대코드(5세단위)  시도코드      요양개시일자  \\\n",
       "0  2021   403017    154510     1     2           14    41  2021-12-21   \n",
       "1  2021   547179    238048     1     2           16    41  2021-05-26   \n",
       "2  2021   287268    320180     1     1           15    41  2021-11-12   \n",
       "3  2021   403017    320961     1     2           14    41  2021-05-21   \n",
       "4  2021   547179    461888     1     2           16    41  2021-10-26   \n",
       "\n",
       "   약품일반성분명코드  1회 투약량  1일투약량  총투여일수    단가    금액    데이터 공개일자    ATC코드  \n",
       "0  111001ATE     1.0      1     30  77.0  2310  2022-08-11  B01AC06  \n",
       "1  111001ATE     1.0      1     30  77.0  2310  2022-08-11  B01AC06  \n",
       "2  111001ATE     1.0      1     30  77.0  2310  2022-08-11  B01AC06  \n",
       "3  111001ATE     1.0      1     30  77.0  2310  2022-08-11  B01AC06  \n",
       "4  111001ATE     1.0      1     30  77.0  2310  2022-08-11  B01AC06  "
      ]
     },
     "execution_count": 20,
     "metadata": {},
     "output_type": "execute_result"
    }
   ],
   "source": [
    "# 데이터의 첫 다섯 줄을 출력합니다.\n",
    "print(data_senior.shape)\n",
    "data_senior.head()"
   ]
  },
  {
   "cell_type": "markdown",
   "metadata": {},
   "source": [
    "---"
   ]
  },
  {
   "cell_type": "code",
   "execution_count": 21,
   "metadata": {},
   "outputs": [],
   "source": [
    "# 컬럼 이름들을 영문으로 바꿔줍니다\n",
    "df_senior = data_senior.rename(columns={\n",
    "    '기준년도': 'year',\n",
    "    '가입자일련번호': 'user_id',\n",
    "    '처방내역일련번호': 'pres_id',\n",
    "    '일련번호': 'med_id',\n",
    "    '성별코드': 'gender',\n",
    "    '연령대코드(5세단위)': 'age_group',\n",
    "    '시도코드': 'region',\n",
    "    '요양개시일자': 'start_date',\n",
    "    '약품일반성분명코드': 'mi_code',\n",
    "    '1회 투약량': 'dose_per_time',\n",
    "    '1일투약량': 'dose_per_day',\n",
    "    '총투여일수': 'total_days',\n",
    "    '단가': 'unit_price',\n",
    "    '금액': 'total_price',\n",
    "    '데이터 공개일자': 'data_release_date',\n",
    "    'ATC코드': 'ATC_code'\n",
    "})"
   ]
  },
  {
   "cell_type": "code",
   "execution_count": 22,
   "metadata": {},
   "outputs": [
    {
     "name": "stdout",
     "output_type": "stream",
     "text": [
      "고려되는 총 환자 수: 12164\n"
     ]
    },
    {
     "data": {
      "text/plain": [
       "count    12164.000000\n",
       "mean        16.572920\n",
       "std         15.689849\n",
       "min          1.000000\n",
       "25%          5.000000\n",
       "50%         12.000000\n",
       "75%         23.000000\n",
       "max        175.000000\n",
       "Name: pres_id, dtype: float64"
      ]
     },
     "execution_count": 22,
     "metadata": {},
     "output_type": "execute_result"
    }
   ],
   "source": [
    "# 한 환자당 처방전의 개수를 세어봅니다.\n",
    "print(f\"고려되는 총 환자 수: {df_senior['user_id'].nunique()}\")\n",
    "df_senior.groupby('user_id')['pres_id'].count().describe()"
   ]
  },
  {
   "cell_type": "markdown",
   "metadata": {},
   "source": [
    "#### 각 나이대별 처방전은 몇개의 약물을 포함하고 있을까?"
   ]
  },
  {
   "cell_type": "code",
   "execution_count": 23,
   "metadata": {},
   "outputs": [
    {
     "data": {
      "image/png": "[encoded data removed]",
      "text/plain": [
       "<Figure size 1200x800 with 2 Axes>"
      ]
     },
     "metadata": {},
     "output_type": "display_data"
    }
   ],
   "source": [
    "# Step 1: Calculate the number of medications per prescription for each age group\n",
    "grouped = df_senior.groupby(['age_group', 'pres_id'])['ATC_code'].count().reset_index()\n",
    "grouped.rename(columns={'ATC_code': 'cnt_med'}, inplace=True)\n",
    "\n",
    "# Step 2: Count the number of prescriptions for each age group and medication count\n",
    "counts = grouped.groupby(['age_group', 'cnt_med']).size().reset_index(name='cnt_pres')\n",
    "\n",
    "# Step 3: Pivot the data to create a matrix suitable for a heatmap\n",
    "pivot_table = counts.pivot(index='age_group', columns='cnt_med', values='cnt_pres').fillna(0)\n",
    "\n",
    "# Step 4: Plot the heatmap\n",
    "plt.figure(figsize=(12, 8))\n",
    "sns.heatmap(pivot_table, norm=LogNorm(), cmap='viridis', cbar_kws={'label': 'Number of Prescriptions'})\n",
    "plt.xlabel('Number of Medications per Prescription')\n",
    "plt.ylabel('Age Group')\n",
    "plt.title('Number of Prescriptions by Age Group and Medication Count (Log Scale)')\n",
    "plt.show()"
   ]
  },
  {
   "cell_type": "markdown",
   "metadata": {},
   "source": [
    "처방전 별 평균 약품 수는 연령대 그룹이 올라갈수록 높아지는 트렌드를 보여주고 있습니다.\n",
    "\n",
    "그러나 많은 처방전들이 1~4 사이의 약품을 처방한다는 것을 확인할 수 있습니다."
   ]
  },
  {
   "cell_type": "markdown",
   "metadata": {},
   "source": [
    "한 사람당 여러번의 처방전이 발부될 수 있고 (max 30개), 그 처방전들 중 같은 약을 포함하기도하고 다른 약을 포함하기도 한다는 것을 볼 수 있습니다.\n",
    "\n",
    "두 종류의 약물이 같이 처방된 빈도 수를 계산할 때, 같은 사람에게 여러번 처방된 케이스는 같이 처방된 횟수로 나누어야 한다고 판단했습니다.\n",
    "\n",
    "그렇지 않으면 한사람에게 여러번 처방된 약들이 weight에 불평등한 영향을 미칠 것으로 예상됩니다.\n",
    "\n",
    "---"
   ]
  },
  {
   "cell_type": "markdown",
   "metadata": {},
   "source": [
    "### 65세 이상 그래프 생성"
   ]
  },
  {
   "cell_type": "code",
   "execution_count": 24,
   "metadata": {},
   "outputs": [],
   "source": [
    "# 그래프를 생성하는 함수를 만듭니다.\n",
    "def create_graph(data):\n",
    "    G = nx.Graph()\n",
    "    \n",
    "    # 노드를 추가합니다.\n",
    "    for atc_code in data['ATC_code'].unique():\n",
    "        G.add_node(atc_code)\n",
    "        \n",
    "    # user_id와 pres_id로 그룹화하여 동시 발생을 찾습니다.\n",
    "    user_cooccurrences = {}\n",
    "    for user_id, user_group in data.groupby('user_id'):\n",
    "        # 각 user_id에 대해 co-occurrence를 집합으로 저장합니다.\n",
    "        cooccurrences = set()\n",
    "        for pres_id, pres_group in user_group.groupby('pres_id'):\n",
    "            atc_codes = pres_group['ATC_code'].unique()\n",
    "            for i in range(len(atc_codes)):\n",
    "                for j in range(i + 1, len(atc_codes)):\n",
    "                    cooccurrence = tuple(sorted((atc_codes[i], atc_codes[j])))\n",
    "                    cooccurrences.add(cooccurrence)\n",
    "        user_cooccurrences[user_id] = cooccurrences\n",
    "\n",
    "    # co-occurrence를 그래프에 추가합니다.\n",
    "    for cooccurrences in user_cooccurrences.values():\n",
    "        for atc_code1, atc_code2 in cooccurrences:\n",
    "            if G.has_edge(atc_code1, atc_code2):\n",
    "                G[atc_code1][atc_code2]['weight'] += 1\n",
    "            else:\n",
    "                G.add_edge(atc_code1, atc_code2, weight=1)\n",
    "\n",
    "    return G"
   ]
  },
  {
   "cell_type": "code",
   "execution_count": 25,
   "metadata": {},
   "outputs": [
    {
     "name": "stdout",
     "output_type": "stream",
     "text": [
      "Number of nodes: 197\n",
      "Number of edges: 4672\n"
     ]
    }
   ],
   "source": [
    "# 그래프를 생성합니다.\n",
    "G_senior = create_graph(df_senior)\n",
    "\n",
    "# 그래프의 노드와 엣지 수를 출력합니다.\n",
    "print(f\"Number of nodes: {G_senior.number_of_nodes()}\")\n",
    "print(f\"Number of edges: {G_senior.number_of_edges()}\")"
   ]
  },
  {
   "cell_type": "code",
   "execution_count": 27,
   "metadata": {},
   "outputs": [],
   "source": [
    "# ATC 코드를 약품명으로 바꿔줍니다.\n",
    "atc_to_name = comor_mapping.set_index('ATC코드')['주성분명'].to_dict()\n",
    "\n",
    "# 만성질환 질병 종류를 구분해줍니다.\n",
    "class_map = comor_mapping[['ATC코드', 'comorbidity_class']].drop_duplicates(subset=['ATC코드'], keep='first')\n",
    "atc_to_class = class_map.set_index('ATC코드')['comorbidity_class'].to_dict()\n",
    "\n",
    "# 그래프에 label을 추가합니다.\n",
    "for node in G_senior.nodes:\n",
    "    G_senior.nodes[node]['label'] = atc_to_name[node]\n",
    "    G_senior.nodes[node]['comorbidity'] = atc_to_class[node]"
   ]
  },
  {
   "cell_type": "code",
   "execution_count": 28,
   "metadata": {},
   "outputs": [],
   "source": [
    "# Gephi로 시각화를 위해 그래프를 저장합니다.\n",
    "nx.write_gexf(G_senior, './data/gephi/no_depression_65_prescription_network.gexf')"
   ]
  },
  {
   "cell_type": "markdown",
   "metadata": {},
   "source": [
    "---\n",
    "## 10대 항우울제 미처방 환자 약물 네트워크 분석"
   ]
  },
  {
   "cell_type": "code",
   "execution_count": 37,
   "metadata": {},
   "outputs": [],
   "source": [
    "# 데이터를 불러옵니다.\n",
    "data_teens = pd.read_csv('./data/prescription_teens_comor_sample_2021.csv')"
   ]
  },
  {
   "cell_type": "code",
   "execution_count": 39,
   "metadata": {},
   "outputs": [
    {
     "name": "stdout",
     "output_type": "stream",
     "text": [
      "(737, 16)\n"
     ]
    },
    {
     "data": {
      "text/html": [
       "<div>\n",
       "<style scoped>\n",
       "    .dataframe tbody tr th:only-of-type {\n",
       "        vertical-align: middle;\n",
       "    }\n",
       "\n",
       "    .dataframe tbody tr th {\n",
       "        vertical-align: top;\n",
       "    }\n",
       "\n",
       "    .dataframe thead th {\n",
       "        text-align: right;\n",
       "    }\n",
       "</style>\n",
       "<table border=\"1\" class=\"dataframe\">\n",
       "  <thead>\n",
       "    <tr style=\"text-align: right;\">\n",
       "      <th></th>\n",
       "      <th>기준년도</th>\n",
       "      <th>가입자일련번호</th>\n",
       "      <th>처방내역일련번호</th>\n",
       "      <th>일련번호</th>\n",
       "      <th>성별코드</th>\n",
       "      <th>연령대코드(5세단위)</th>\n",
       "      <th>시도코드</th>\n",
       "      <th>요양개시일자</th>\n",
       "      <th>약품일반성분명코드</th>\n",
       "      <th>1회 투약량</th>\n",
       "      <th>1일투약량</th>\n",
       "      <th>총투여일수</th>\n",
       "      <th>단가</th>\n",
       "      <th>금액</th>\n",
       "      <th>데이터 공개일자</th>\n",
       "      <th>ATC코드</th>\n",
       "    </tr>\n",
       "  </thead>\n",
       "  <tbody>\n",
       "    <tr>\n",
       "      <th>0</th>\n",
       "      <td>2021</td>\n",
       "      <td>885620</td>\n",
       "      <td>943972</td>\n",
       "      <td>1</td>\n",
       "      <td>2</td>\n",
       "      <td>3</td>\n",
       "      <td>41</td>\n",
       "      <td>2021-10-19</td>\n",
       "      <td>374601ATB</td>\n",
       "      <td>1.0</td>\n",
       "      <td>1</td>\n",
       "      <td>5</td>\n",
       "      <td>774.0</td>\n",
       "      <td>3870</td>\n",
       "      <td>2022-08-11</td>\n",
       "      <td>R03DC03</td>\n",
       "    </tr>\n",
       "    <tr>\n",
       "      <th>1</th>\n",
       "      <td>2021</td>\n",
       "      <td>975788</td>\n",
       "      <td>1869799</td>\n",
       "      <td>1</td>\n",
       "      <td>1</td>\n",
       "      <td>3</td>\n",
       "      <td>41</td>\n",
       "      <td>2021-09-25</td>\n",
       "      <td>374601ATB</td>\n",
       "      <td>1.0</td>\n",
       "      <td>1</td>\n",
       "      <td>4</td>\n",
       "      <td>774.0</td>\n",
       "      <td>3096</td>\n",
       "      <td>2022-08-11</td>\n",
       "      <td>R03DC03</td>\n",
       "    </tr>\n",
       "    <tr>\n",
       "      <th>2</th>\n",
       "      <td>2021</td>\n",
       "      <td>775551</td>\n",
       "      <td>432248</td>\n",
       "      <td>1</td>\n",
       "      <td>2</td>\n",
       "      <td>4</td>\n",
       "      <td>41</td>\n",
       "      <td>2021-09-12</td>\n",
       "      <td>216408ATB</td>\n",
       "      <td>1.0</td>\n",
       "      <td>1</td>\n",
       "      <td>3</td>\n",
       "      <td>526.0</td>\n",
       "      <td>1578</td>\n",
       "      <td>2022-08-11</td>\n",
       "      <td>R03DC02</td>\n",
       "    </tr>\n",
       "    <tr>\n",
       "      <th>3</th>\n",
       "      <td>2021</td>\n",
       "      <td>987412</td>\n",
       "      <td>482369</td>\n",
       "      <td>1</td>\n",
       "      <td>1</td>\n",
       "      <td>3</td>\n",
       "      <td>41</td>\n",
       "      <td>2021-10-16</td>\n",
       "      <td>670600ATB</td>\n",
       "      <td>1.0</td>\n",
       "      <td>1</td>\n",
       "      <td>4</td>\n",
       "      <td>886.0</td>\n",
       "      <td>3544</td>\n",
       "      <td>2022-08-11</td>\n",
       "      <td>R03DC53</td>\n",
       "    </tr>\n",
       "    <tr>\n",
       "      <th>4</th>\n",
       "      <td>2021</td>\n",
       "      <td>910159</td>\n",
       "      <td>3675831</td>\n",
       "      <td>1</td>\n",
       "      <td>1</td>\n",
       "      <td>3</td>\n",
       "      <td>48</td>\n",
       "      <td>2021-02-24</td>\n",
       "      <td>374601ATB</td>\n",
       "      <td>1.0</td>\n",
       "      <td>1</td>\n",
       "      <td>3</td>\n",
       "      <td>774.0</td>\n",
       "      <td>2322</td>\n",
       "      <td>2022-08-11</td>\n",
       "      <td>R03DC03</td>\n",
       "    </tr>\n",
       "  </tbody>\n",
       "</table>\n",
       "</div>"
      ],
      "text/plain": [
       "   기준년도  가입자일련번호  처방내역일련번호  일련번호  성별코드  연령대코드(5세단위)  시도코드      요양개시일자  \\\n",
       "0  2021   885620    943972     1     2            3    41  2021-10-19   \n",
       "1  2021   975788   1869799     1     1            3    41  2021-09-25   \n",
       "2  2021   775551    432248     1     2            4    41  2021-09-12   \n",
       "3  2021   987412    482369     1     1            3    41  2021-10-16   \n",
       "4  2021   910159   3675831     1     1            3    48  2021-02-24   \n",
       "\n",
       "   약품일반성분명코드  1회 투약량  1일투약량  총투여일수     단가    금액    데이터 공개일자    ATC코드  \n",
       "0  374601ATB     1.0      1      5  774.0  3870  2022-08-11  R03DC03  \n",
       "1  374601ATB     1.0      1      4  774.0  3096  2022-08-11  R03DC03  \n",
       "2  216408ATB     1.0      1      3  526.0  1578  2022-08-11  R03DC02  \n",
       "3  670600ATB     1.0      1      4  886.0  3544  2022-08-11  R03DC53  \n",
       "4  374601ATB     1.0      1      3  774.0  2322  2022-08-11  R03DC03  "
      ]
     },
     "execution_count": 39,
     "metadata": {},
     "output_type": "execute_result"
    }
   ],
   "source": [
    "# 데이터의 첫 다섯 줄을 출력합니다.\n",
    "print(data_teens.shape)\n",
    "data_teens.head()"
   ]
  },
  {
   "cell_type": "code",
   "execution_count": 40,
   "metadata": {},
   "outputs": [],
   "source": [
    "# 컬럼 이름들을 영문으로 바꿔줍니다\n",
    "df_teens = data_teens.rename(columns={\n",
    "    '기준년도': 'year',\n",
    "    '가입자일련번호': 'user_id',\n",
    "    '처방내역일련번호': 'pres_id',\n",
    "    '일련번호': 'med_id',\n",
    "    '성별코드': 'gender',\n",
    "    '연령대코드(5세단위)': 'age_group',\n",
    "    '시도코드': 'region',\n",
    "    '요양개시일자': 'start_date',\n",
    "    '약품일반성분명코드': 'mi_code',\n",
    "    '1회 투약량': 'dose_per_time',\n",
    "    '1일투약량': 'dose_per_day',\n",
    "    '총투여일수': 'total_days',\n",
    "    '단가': 'unit_price',\n",
    "    '금액': 'total_price',\n",
    "    '데이터 공개일자': 'data_release_date',\n",
    "    'ATC코드': 'ATC_code'\n",
    "})"
   ]
  },
  {
   "cell_type": "code",
   "execution_count": 41,
   "metadata": {},
   "outputs": [
    {
     "name": "stdout",
     "output_type": "stream",
     "text": [
      "고려되는 총 환자 수: 246\n"
     ]
    },
    {
     "data": {
      "text/plain": [
       "count    246.000000\n",
       "mean       2.995935\n",
       "std        3.173227\n",
       "min        1.000000\n",
       "25%        1.000000\n",
       "50%        2.000000\n",
       "75%        4.000000\n",
       "max       32.000000\n",
       "Name: pres_id, dtype: float64"
      ]
     },
     "execution_count": 41,
     "metadata": {},
     "output_type": "execute_result"
    }
   ],
   "source": [
    "# 한 환자당 처방전의 개수를 세어봅니다.\n",
    "print(f\"고려되는 총 환자 수: {df_teens['user_id'].nunique()}\")\n",
    "df_teens.groupby('user_id')['pres_id'].count().describe()"
   ]
  },
  {
   "cell_type": "markdown",
   "metadata": {},
   "source": [
    "---\n",
    "### 십대 그래프 생성"
   ]
  },
  {
   "cell_type": "code",
   "execution_count": 42,
   "metadata": {},
   "outputs": [
    {
     "name": "stdout",
     "output_type": "stream",
     "text": [
      "Number of nodes: 24\n",
      "Number of edges: 26\n"
     ]
    }
   ],
   "source": [
    "# 그래프를 생성합니다.\n",
    "G_teens = create_graph(df_teens)\n",
    "\n",
    "# 그래프의 노드와 엣지 수를 출력합니다.\n",
    "print(f\"Number of nodes: {G_teens.number_of_nodes()}\")\n",
    "print(f\"Number of edges: {G_teens.number_of_edges()}\")"
   ]
  },
  {
   "cell_type": "code",
   "execution_count": 43,
   "metadata": {},
   "outputs": [],
   "source": [
    "# ATC 코드를 약품명으로 바꿔줍니다.\n",
    "atc_to_name = comor_mapping.set_index('ATC코드')['주성분명'].to_dict()\n",
    "\n",
    "# 만성질환 질병 종류를 구분해줍니다.\n",
    "class_map = comor_mapping[['ATC코드', 'comorbidity_class']].drop_duplicates(subset=['ATC코드'], keep='first')\n",
    "atc_to_class = class_map.set_index('ATC코드')['comorbidity_class'].to_dict()\n",
    "\n",
    "# 그래프에 label을 추가합니다.\n",
    "for node in G_teens.nodes:\n",
    "    G_teens.nodes[node]['label'] = atc_to_name[node]\n",
    "    G_teens.nodes[node]['comorbidity'] = atc_to_class[node]"
   ]
  },
  {
   "cell_type": "code",
   "execution_count": null,
   "metadata": {},
   "outputs": [],
   "source": [
    "# Gephi로 시각화를 위해 그래프를 저장합니다.\n",
    "nx.write_gexf(G_teens, './data/gephi/no_depression_teens_prescription_network.gexf')"
   ]
  },
  {
   "cell_type": "markdown",
   "metadata": {},
   "source": [
    "---\n",
    "## 중년 항우울제 미처방 환자 약물 네트워크 분석"
   ]
  },
  {
   "cell_type": "code",
   "execution_count": 45,
   "metadata": {},
   "outputs": [],
   "source": [
    "# 데이터를 불러옵니다.\n",
    "data_middle_aged = pd.read_csv('./data/prescription_middle_aged_comor_sample_2021.csv')"
   ]
  },
  {
   "cell_type": "code",
   "execution_count": 46,
   "metadata": {},
   "outputs": [
    {
     "name": "stdout",
     "output_type": "stream",
     "text": [
      "(159273, 16)\n"
     ]
    },
    {
     "data": {
      "text/html": [
       "<div>\n",
       "<style scoped>\n",
       "    .dataframe tbody tr th:only-of-type {\n",
       "        vertical-align: middle;\n",
       "    }\n",
       "\n",
       "    .dataframe tbody tr th {\n",
       "        vertical-align: top;\n",
       "    }\n",
       "\n",
       "    .dataframe thead th {\n",
       "        text-align: right;\n",
       "    }\n",
       "</style>\n",
       "<table border=\"1\" class=\"dataframe\">\n",
       "  <thead>\n",
       "    <tr style=\"text-align: right;\">\n",
       "      <th></th>\n",
       "      <th>기준년도</th>\n",
       "      <th>가입자일련번호</th>\n",
       "      <th>처방내역일련번호</th>\n",
       "      <th>일련번호</th>\n",
       "      <th>성별코드</th>\n",
       "      <th>연령대코드(5세단위)</th>\n",
       "      <th>시도코드</th>\n",
       "      <th>요양개시일자</th>\n",
       "      <th>약품일반성분명코드</th>\n",
       "      <th>1회 투약량</th>\n",
       "      <th>1일투약량</th>\n",
       "      <th>총투여일수</th>\n",
       "      <th>단가</th>\n",
       "      <th>금액</th>\n",
       "      <th>데이터 공개일자</th>\n",
       "      <th>ATC코드</th>\n",
       "    </tr>\n",
       "  </thead>\n",
       "  <tbody>\n",
       "    <tr>\n",
       "      <th>0</th>\n",
       "      <td>2021</td>\n",
       "      <td>274337</td>\n",
       "      <td>81154</td>\n",
       "      <td>1</td>\n",
       "      <td>1</td>\n",
       "      <td>9</td>\n",
       "      <td>41</td>\n",
       "      <td>2021-04-05</td>\n",
       "      <td>111001ATE</td>\n",
       "      <td>1.0</td>\n",
       "      <td>1</td>\n",
       "      <td>30</td>\n",
       "      <td>77.0</td>\n",
       "      <td>2310</td>\n",
       "      <td>2022-08-11</td>\n",
       "      <td>B01AC06</td>\n",
       "    </tr>\n",
       "    <tr>\n",
       "      <th>1</th>\n",
       "      <td>2021</td>\n",
       "      <td>500572</td>\n",
       "      <td>180077</td>\n",
       "      <td>1</td>\n",
       "      <td>1</td>\n",
       "      <td>10</td>\n",
       "      <td>41</td>\n",
       "      <td>2021-09-09</td>\n",
       "      <td>111001ATE</td>\n",
       "      <td>1.0</td>\n",
       "      <td>1</td>\n",
       "      <td>30</td>\n",
       "      <td>77.0</td>\n",
       "      <td>2310</td>\n",
       "      <td>2022-08-11</td>\n",
       "      <td>B01AC06</td>\n",
       "    </tr>\n",
       "    <tr>\n",
       "      <th>2</th>\n",
       "      <td>2021</td>\n",
       "      <td>836410</td>\n",
       "      <td>194111</td>\n",
       "      <td>1</td>\n",
       "      <td>1</td>\n",
       "      <td>12</td>\n",
       "      <td>41</td>\n",
       "      <td>2021-10-19</td>\n",
       "      <td>111001ATE</td>\n",
       "      <td>1.0</td>\n",
       "      <td>1</td>\n",
       "      <td>30</td>\n",
       "      <td>77.0</td>\n",
       "      <td>2310</td>\n",
       "      <td>2022-08-11</td>\n",
       "      <td>B01AC06</td>\n",
       "    </tr>\n",
       "    <tr>\n",
       "      <th>3</th>\n",
       "      <td>2021</td>\n",
       "      <td>500572</td>\n",
       "      <td>343036</td>\n",
       "      <td>1</td>\n",
       "      <td>1</td>\n",
       "      <td>10</td>\n",
       "      <td>41</td>\n",
       "      <td>2021-12-07</td>\n",
       "      <td>111001ATE</td>\n",
       "      <td>1.0</td>\n",
       "      <td>1</td>\n",
       "      <td>30</td>\n",
       "      <td>77.0</td>\n",
       "      <td>2310</td>\n",
       "      <td>2022-08-11</td>\n",
       "      <td>B01AC06</td>\n",
       "    </tr>\n",
       "    <tr>\n",
       "      <th>4</th>\n",
       "      <td>2021</td>\n",
       "      <td>683056</td>\n",
       "      <td>348222</td>\n",
       "      <td>1</td>\n",
       "      <td>1</td>\n",
       "      <td>10</td>\n",
       "      <td>41</td>\n",
       "      <td>2021-07-07</td>\n",
       "      <td>111001ATE</td>\n",
       "      <td>1.0</td>\n",
       "      <td>1</td>\n",
       "      <td>30</td>\n",
       "      <td>77.0</td>\n",
       "      <td>2310</td>\n",
       "      <td>2022-08-11</td>\n",
       "      <td>B01AC06</td>\n",
       "    </tr>\n",
       "  </tbody>\n",
       "</table>\n",
       "</div>"
      ],
      "text/plain": [
       "   기준년도  가입자일련번호  처방내역일련번호  일련번호  성별코드  연령대코드(5세단위)  시도코드      요양개시일자  \\\n",
       "0  2021   274337     81154     1     1            9    41  2021-04-05   \n",
       "1  2021   500572    180077     1     1           10    41  2021-09-09   \n",
       "2  2021   836410    194111     1     1           12    41  2021-10-19   \n",
       "3  2021   500572    343036     1     1           10    41  2021-12-07   \n",
       "4  2021   683056    348222     1     1           10    41  2021-07-07   \n",
       "\n",
       "   약품일반성분명코드  1회 투약량  1일투약량  총투여일수    단가    금액    데이터 공개일자    ATC코드  \n",
       "0  111001ATE     1.0      1     30  77.0  2310  2022-08-11  B01AC06  \n",
       "1  111001ATE     1.0      1     30  77.0  2310  2022-08-11  B01AC06  \n",
       "2  111001ATE     1.0      1     30  77.0  2310  2022-08-11  B01AC06  \n",
       "3  111001ATE     1.0      1     30  77.0  2310  2022-08-11  B01AC06  \n",
       "4  111001ATE     1.0      1     30  77.0  2310  2022-08-11  B01AC06  "
      ]
     },
     "execution_count": 46,
     "metadata": {},
     "output_type": "execute_result"
    }
   ],
   "source": [
    "# 데이터의 첫 다섯 줄을 출력합니다.\n",
    "print(data_middle_aged.shape)\n",
    "data_middle_aged.head()"
   ]
  },
  {
   "cell_type": "code",
   "execution_count": 47,
   "metadata": {},
   "outputs": [],
   "source": [
    "# 컬럼 이름들을 영문으로 바꿔줍니다\n",
    "df_middle_aged = data_middle_aged.rename(columns={\n",
    "    '기준년도': 'year',\n",
    "    '가입자일련번호': 'user_id',\n",
    "    '처방내역일련번호': 'pres_id',\n",
    "    '일련번호': 'med_id',\n",
    "    '성별코드': 'gender',\n",
    "    '연령대코드(5세단위)': 'age_group',\n",
    "    '시도코드': 'region',\n",
    "    '요양개시일자': 'start_date',\n",
    "    '약품일반성분명코드': 'mi_code',\n",
    "    '1회 투약량': 'dose_per_time',\n",
    "    '1일투약량': 'dose_per_day',\n",
    "    '총투여일수': 'total_days',\n",
    "    '단가': 'unit_price',\n",
    "    '금액': 'total_price',\n",
    "    '데이터 공개일자': 'data_release_date',\n",
    "    'ATC코드': 'ATC_code'\n",
    "})"
   ]
  },
  {
   "cell_type": "code",
   "execution_count": 48,
   "metadata": {},
   "outputs": [
    {
     "name": "stdout",
     "output_type": "stream",
     "text": [
      "고려되는 총 환자 수: 21110\n"
     ]
    },
    {
     "data": {
      "text/plain": [
       "count    21110.000000\n",
       "mean         7.544908\n",
       "std         10.064882\n",
       "min          1.000000\n",
       "25%          1.000000\n",
       "50%          4.000000\n",
       "75%         10.000000\n",
       "max        244.000000\n",
       "Name: pres_id, dtype: float64"
      ]
     },
     "execution_count": 48,
     "metadata": {},
     "output_type": "execute_result"
    }
   ],
   "source": [
    "# 한 환자당 처방전의 개수를 세어봅니다.\n",
    "print(f\"고려되는 총 환자 수: {df_middle_aged['user_id'].nunique()}\")\n",
    "df_middle_aged.groupby('user_id')['pres_id'].count().describe()"
   ]
  },
  {
   "cell_type": "markdown",
   "metadata": {},
   "source": [
    "### 중년층 그래프 생성"
   ]
  },
  {
   "cell_type": "code",
   "execution_count": 49,
   "metadata": {},
   "outputs": [
    {
     "name": "stdout",
     "output_type": "stream",
     "text": [
      "Number of nodes: 190\n",
      "Number of edges: 3113\n"
     ]
    }
   ],
   "source": [
    "# 그래프를 생성합니다.\n",
    "G_middle_aged = create_graph(df_middle_aged)\n",
    "\n",
    "# 그래프의 노드와 엣지 수를 출력합니다.\n",
    "print(f\"Number of nodes: {G_middle_aged.number_of_nodes()}\")\n",
    "print(f\"Number of edges: {G_middle_aged.number_of_edges()}\")"
   ]
  },
  {
   "cell_type": "code",
   "execution_count": 50,
   "metadata": {},
   "outputs": [],
   "source": [
    "# ATC 코드를 약품명으로 바꿔줍니다.\n",
    "atc_to_name = comor_mapping.set_index('ATC코드')['주성분명'].to_dict()\n",
    "\n",
    "# 만성질환 질병 종류를 구분해줍니다.\n",
    "class_map = comor_mapping[['ATC코드', 'comorbidity_class']].drop_duplicates(subset=['ATC코드'], keep='first')\n",
    "atc_to_class = class_map.set_index('ATC코드')['comorbidity_class'].to_dict()\n",
    "\n",
    "# 그래프에 label을 추가합니다.\n",
    "for node in G_middle_aged.nodes:\n",
    "    G_middle_aged.nodes[node]['label'] = atc_to_name[node]\n",
    "    G_middle_aged.nodes[node]['comorbidity'] = atc_to_class[node]"
   ]
  },
  {
   "cell_type": "code",
   "execution_count": 51,
   "metadata": {},
   "outputs": [],
   "source": [
    "# Gephi로 시각화를 위해 그래프를 저장합니다.\n",
    "nx.write_gexf(G_middle_aged, './data/gephi/no_depression_middle_aged_prescription_network.gexf')"
   ]
  }
 ],
 "metadata": {
  "kernelspec": {
   "display_name": "base",
   "language": "python",
   "name": "python3"
  },
  "language_info": {
   "codemirror_mode": {
    "name": "ipython",
    "version": 3
   },
   "file_extension": ".py",
   "mimetype": "text/x-python",
   "name": "python",
   "nbconvert_exporter": "python",
   "pygments_lexer": "ipython3",
   "version": "3.11.7"
  }
 },
 "nbformat": 4,
 "nbformat_minor": 2
}
