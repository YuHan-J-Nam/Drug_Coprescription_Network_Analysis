{
 "cells": [
  {
   "cell_type": "markdown",
   "metadata": {},
   "source": [
    "# 약품 코드 및 명칭 매핑 파일 생성"
   ]
  },
  {
   "cell_type": "code",
   "execution_count": 2,
   "metadata": {},
   "outputs": [],
   "source": [
    "# 라이브러리를 불러옵니다.\n",
    "import numpy as np\n",
    "import pandas as pd"
   ]
  },
  {
   "cell_type": "markdown",
   "metadata": {},
   "source": [
    "### 년도별 약품 주성분코드 및 명칭 불러오기"
   ]
  },
  {
   "cell_type": "code",
   "execution_count": 2,
   "metadata": {},
   "outputs": [
    {
     "name": "stdout",
     "output_type": "stream",
     "text": [
      "<class 'pandas.core.frame.DataFrame'>\n",
      "RangeIndex: 23027 entries, 0 to 23026\n",
      "Data columns (total 7 columns):\n",
      " #   Column    Non-Null Count  Dtype \n",
      "---  ------    --------------  ----- \n",
      " 0   식약분류      23027 non-null  int64 \n",
      " 1   주성분코드     23027 non-null  object\n",
      " 2   제품코드      23027 non-null  int64 \n",
      " 3   제품명       23027 non-null  object\n",
      " 4   업체명       23027 non-null  object\n",
      " 5   ATC코드     23008 non-null  object\n",
      " 6   ATC코드 명칭  23008 non-null  object\n",
      "dtypes: int64(2), object(5)\n",
      "memory usage: 1.2+ MB\n",
      "None\n"
     ]
    },
    {
     "data": {
      "text/html": [
       "<div>\n",
       "<style scoped>\n",
       "    .dataframe tbody tr th:only-of-type {\n",
       "        vertical-align: middle;\n",
       "    }\n",
       "\n",
       "    .dataframe tbody tr th {\n",
       "        vertical-align: top;\n",
       "    }\n",
       "\n",
       "    .dataframe thead th {\n",
       "        text-align: right;\n",
       "    }\n",
       "</style>\n",
       "<table border=\"1\" class=\"dataframe\">\n",
       "  <thead>\n",
       "    <tr style=\"text-align: right;\">\n",
       "      <th></th>\n",
       "      <th>식약분류</th>\n",
       "      <th>주성분코드</th>\n",
       "      <th>제품코드</th>\n",
       "      <th>제품명</th>\n",
       "      <th>업체명</th>\n",
       "      <th>ATC코드</th>\n",
       "      <th>ATC코드 명칭</th>\n",
       "    </tr>\n",
       "  </thead>\n",
       "  <tbody>\n",
       "    <tr>\n",
       "      <th>0</th>\n",
       "      <td>112</td>\n",
       "      <td>130830ASY</td>\n",
       "      <td>645302132</td>\n",
       "      <td>포크랄시럽(포수클로랄)_(9.5g/95mL)</td>\n",
       "      <td>한림제약(주)</td>\n",
       "      <td>N05CC01</td>\n",
       "      <td>chloral hydrate</td>\n",
       "    </tr>\n",
       "    <tr>\n",
       "      <th>1</th>\n",
       "      <td>112</td>\n",
       "      <td>130832ASY</td>\n",
       "      <td>645302133</td>\n",
       "      <td>포크랄시럽(포수클로랄)_(1g/10mL)</td>\n",
       "      <td>한림제약(주)</td>\n",
       "      <td>N05CC01</td>\n",
       "      <td>chloral hydrate</td>\n",
       "    </tr>\n",
       "    <tr>\n",
       "      <th>2</th>\n",
       "      <td>112</td>\n",
       "      <td>130833ASY</td>\n",
       "      <td>645302135</td>\n",
       "      <td>포크랄시럽(포수클로랄)_(0.5g/5mL)</td>\n",
       "      <td>한림제약(주)</td>\n",
       "      <td>N05CC01</td>\n",
       "      <td>chloral hydrate</td>\n",
       "    </tr>\n",
       "    <tr>\n",
       "      <th>3</th>\n",
       "      <td>112</td>\n",
       "      <td>149203ATB</td>\n",
       "      <td>651904420</td>\n",
       "      <td>명세핀정3밀리그램(독세핀염산염)_(3.39mg/1정)</td>\n",
       "      <td>명인제약(주)</td>\n",
       "      <td>N05CM</td>\n",
       "      <td>Other hypnotics and sedatives</td>\n",
       "    </tr>\n",
       "    <tr>\n",
       "      <th>4</th>\n",
       "      <td>112</td>\n",
       "      <td>149203ATB</td>\n",
       "      <td>640006660</td>\n",
       "      <td>사일레노정3밀리그램(독세핀염산염)_(3.39mg/1정)</td>\n",
       "      <td>에이치케이이노엔(주)</td>\n",
       "      <td>N05CM</td>\n",
       "      <td>Other hypnotics and sedatives</td>\n",
       "    </tr>\n",
       "  </tbody>\n",
       "</table>\n",
       "</div>"
      ],
      "text/plain": [
       "   식약분류      주성분코드       제품코드                             제품명          업체명  \\\n",
       "0   112  130830ASY  645302132        포크랄시럽(포수클로랄)_(9.5g/95mL)      한림제약(주)   \n",
       "1   112  130832ASY  645302133          포크랄시럽(포수클로랄)_(1g/10mL)      한림제약(주)   \n",
       "2   112  130833ASY  645302135         포크랄시럽(포수클로랄)_(0.5g/5mL)      한림제약(주)   \n",
       "3   112  149203ATB  651904420   명세핀정3밀리그램(독세핀염산염)_(3.39mg/1정)      명인제약(주)   \n",
       "4   112  149203ATB  640006660  사일레노정3밀리그램(독세핀염산염)_(3.39mg/1정)  에이치케이이노엔(주)   \n",
       "\n",
       "     ATC코드                       ATC코드 명칭  \n",
       "0  N05CC01                chloral hydrate  \n",
       "1  N05CC01                chloral hydrate  \n",
       "2  N05CC01                chloral hydrate  \n",
       "3    N05CM  Other hypnotics and sedatives  \n",
       "4    N05CM  Other hypnotics and sedatives  "
      ]
     },
     "execution_count": 2,
     "metadata": {},
     "output_type": "execute_result"
    }
   ],
   "source": [
    "# 데이터를 불러옵니다 (24년도)\n",
    "data_24 = pd.read_csv('raw_data/건강보험심사평가원_ATC코드 매핑 목록_20240630.csv', encoding='cp949')\n",
    "print(data_24.info())\n",
    "data_24.head()"
   ]
  },
  {
   "cell_type": "code",
   "execution_count": 3,
   "metadata": {},
   "outputs": [
    {
     "name": "stdout",
     "output_type": "stream",
     "text": [
      "<class 'pandas.core.frame.DataFrame'>\n",
      "RangeIndex: 23471 entries, 0 to 23470\n",
      "Data columns (total 7 columns):\n",
      " #   Column    Non-Null Count  Dtype \n",
      "---  ------    --------------  ----- \n",
      " 0   식약분류      23471 non-null  int64 \n",
      " 1   주성분코드     23471 non-null  object\n",
      " 2   제품코드      23471 non-null  int64 \n",
      " 3   제품명       23471 non-null  object\n",
      " 4   업체명       23471 non-null  object\n",
      " 5   ATC코드     23452 non-null  object\n",
      " 6   ATC코드 명칭  23452 non-null  object\n",
      "dtypes: int64(2), object(5)\n",
      "memory usage: 1.3+ MB\n",
      "None\n"
     ]
    },
    {
     "data": {
      "text/html": [
       "<div>\n",
       "<style scoped>\n",
       "    .dataframe tbody tr th:only-of-type {\n",
       "        vertical-align: middle;\n",
       "    }\n",
       "\n",
       "    .dataframe tbody tr th {\n",
       "        vertical-align: top;\n",
       "    }\n",
       "\n",
       "    .dataframe thead th {\n",
       "        text-align: right;\n",
       "    }\n",
       "</style>\n",
       "<table border=\"1\" class=\"dataframe\">\n",
       "  <thead>\n",
       "    <tr style=\"text-align: right;\">\n",
       "      <th></th>\n",
       "      <th>식약분류</th>\n",
       "      <th>주성분코드</th>\n",
       "      <th>제품코드</th>\n",
       "      <th>제품명</th>\n",
       "      <th>업체명</th>\n",
       "      <th>ATC코드</th>\n",
       "      <th>ATC코드 명칭</th>\n",
       "    </tr>\n",
       "  </thead>\n",
       "  <tbody>\n",
       "    <tr>\n",
       "      <th>0</th>\n",
       "      <td>112</td>\n",
       "      <td>130830ASY</td>\n",
       "      <td>645302132</td>\n",
       "      <td>포크랄시럽(포수클로랄)_(9.5g/95mL)</td>\n",
       "      <td>한림제약(주)</td>\n",
       "      <td>N05CC01</td>\n",
       "      <td>chloral hydrate</td>\n",
       "    </tr>\n",
       "    <tr>\n",
       "      <th>1</th>\n",
       "      <td>112</td>\n",
       "      <td>130832ASY</td>\n",
       "      <td>645302133</td>\n",
       "      <td>포크랄시럽(포수클로랄)_(1g/10mL)</td>\n",
       "      <td>한림제약(주)</td>\n",
       "      <td>N05CC01</td>\n",
       "      <td>chloral hydrate</td>\n",
       "    </tr>\n",
       "    <tr>\n",
       "      <th>2</th>\n",
       "      <td>112</td>\n",
       "      <td>130833ASY</td>\n",
       "      <td>645302135</td>\n",
       "      <td>포크랄시럽(포수클로랄)_(0.5g/5mL)</td>\n",
       "      <td>한림제약(주)</td>\n",
       "      <td>N05CC01</td>\n",
       "      <td>chloral hydrate</td>\n",
       "    </tr>\n",
       "    <tr>\n",
       "      <th>3</th>\n",
       "      <td>112</td>\n",
       "      <td>149203ATB</td>\n",
       "      <td>651904420</td>\n",
       "      <td>명세핀정3밀리그램(독세핀염산염)_(3.39mg/1정)</td>\n",
       "      <td>명인제약(주)</td>\n",
       "      <td>N06AA12</td>\n",
       "      <td>doxepin</td>\n",
       "    </tr>\n",
       "    <tr>\n",
       "      <th>4</th>\n",
       "      <td>112</td>\n",
       "      <td>149203ATB</td>\n",
       "      <td>640006660</td>\n",
       "      <td>사일레노정3밀리그램(독세핀염산염)_(3.39mg/1정)</td>\n",
       "      <td>에이치케이이노엔(주)</td>\n",
       "      <td>N06AA12</td>\n",
       "      <td>doxepin</td>\n",
       "    </tr>\n",
       "  </tbody>\n",
       "</table>\n",
       "</div>"
      ],
      "text/plain": [
       "   식약분류      주성분코드       제품코드                             제품명          업체명  \\\n",
       "0   112  130830ASY  645302132        포크랄시럽(포수클로랄)_(9.5g/95mL)      한림제약(주)   \n",
       "1   112  130832ASY  645302133          포크랄시럽(포수클로랄)_(1g/10mL)      한림제약(주)   \n",
       "2   112  130833ASY  645302135         포크랄시럽(포수클로랄)_(0.5g/5mL)      한림제약(주)   \n",
       "3   112  149203ATB  651904420   명세핀정3밀리그램(독세핀염산염)_(3.39mg/1정)      명인제약(주)   \n",
       "4   112  149203ATB  640006660  사일레노정3밀리그램(독세핀염산염)_(3.39mg/1정)  에이치케이이노엔(주)   \n",
       "\n",
       "     ATC코드         ATC코드 명칭  \n",
       "0  N05CC01  chloral hydrate  \n",
       "1  N05CC01  chloral hydrate  \n",
       "2  N05CC01  chloral hydrate  \n",
       "3  N06AA12          doxepin  \n",
       "4  N06AA12          doxepin  "
      ]
     },
     "execution_count": 3,
     "metadata": {},
     "output_type": "execute_result"
    }
   ],
   "source": [
    "# 데이터를 불러옵니다 (23년도)\n",
    "data_23 = pd.read_csv('raw_data/의약품 ATC코드 매핑.csv', encoding='cp949')\n",
    "print(data_23.info())\n",
    "data_23.head()"
   ]
  },
  {
   "cell_type": "code",
   "execution_count": 4,
   "metadata": {},
   "outputs": [
    {
     "name": "stdout",
     "output_type": "stream",
     "text": [
      "<class 'pandas.core.frame.DataFrame'>\n",
      "RangeIndex: 22298 entries, 0 to 22297\n",
      "Data columns (total 9 columns):\n",
      " #   Column    Non-Null Count  Dtype \n",
      "---  ------    --------------  ----- \n",
      " 0   연번        22298 non-null  int64 \n",
      " 1   분류        22298 non-null  int64 \n",
      " 2   주성분코드     22298 non-null  object\n",
      " 3   제품코드      22298 non-null  int64 \n",
      " 4   제품명       22298 non-null  object\n",
      " 5   업체명       22298 non-null  object\n",
      " 6   ATC코드     21870 non-null  object\n",
      " 7   ATC코드 명칭  21870 non-null  object\n",
      " 8   비고        428 non-null    object\n",
      "dtypes: int64(3), object(6)\n",
      "memory usage: 1.5+ MB\n",
      "None\n"
     ]
    },
    {
     "data": {
      "text/html": [
       "<div>\n",
       "<style scoped>\n",
       "    .dataframe tbody tr th:only-of-type {\n",
       "        vertical-align: middle;\n",
       "    }\n",
       "\n",
       "    .dataframe tbody tr th {\n",
       "        vertical-align: top;\n",
       "    }\n",
       "\n",
       "    .dataframe thead th {\n",
       "        text-align: right;\n",
       "    }\n",
       "</style>\n",
       "<table border=\"1\" class=\"dataframe\">\n",
       "  <thead>\n",
       "    <tr style=\"text-align: right;\">\n",
       "      <th></th>\n",
       "      <th>연번</th>\n",
       "      <th>분류</th>\n",
       "      <th>주성분코드</th>\n",
       "      <th>제품코드</th>\n",
       "      <th>제품명</th>\n",
       "      <th>업체명</th>\n",
       "      <th>ATC코드</th>\n",
       "      <th>ATC코드 명칭</th>\n",
       "      <th>비고</th>\n",
       "    </tr>\n",
       "  </thead>\n",
       "  <tbody>\n",
       "    <tr>\n",
       "      <th>0</th>\n",
       "      <td>1</td>\n",
       "      <td>112</td>\n",
       "      <td>130830ASY</td>\n",
       "      <td>645302132</td>\n",
       "      <td>포크랄시럽(포수클로랄)_(9.5g/95mL)</td>\n",
       "      <td>한림제약(주)</td>\n",
       "      <td>N05CC01</td>\n",
       "      <td>chloral hydrate</td>\n",
       "      <td>NaN</td>\n",
       "    </tr>\n",
       "    <tr>\n",
       "      <th>1</th>\n",
       "      <td>2</td>\n",
       "      <td>112</td>\n",
       "      <td>130831ASY</td>\n",
       "      <td>645302131</td>\n",
       "      <td>포크랄시럽(포수클로랄)_(10g/100mL)</td>\n",
       "      <td>한림제약(주)</td>\n",
       "      <td>N05CC01</td>\n",
       "      <td>chloral hydrate</td>\n",
       "      <td>NaN</td>\n",
       "    </tr>\n",
       "    <tr>\n",
       "      <th>2</th>\n",
       "      <td>3</td>\n",
       "      <td>112</td>\n",
       "      <td>149203ATB</td>\n",
       "      <td>677100550</td>\n",
       "      <td>고나스정3mg(독세핀염산염)_(3.39mg/1정)</td>\n",
       "      <td>(주)펜믹스</td>\n",
       "      <td>N06AA12</td>\n",
       "      <td>doxepin</td>\n",
       "      <td>NaN</td>\n",
       "    </tr>\n",
       "    <tr>\n",
       "      <th>3</th>\n",
       "      <td>4</td>\n",
       "      <td>112</td>\n",
       "      <td>149203ATB</td>\n",
       "      <td>651904420</td>\n",
       "      <td>명세핀정3밀리그램(독세핀염산염)_(3.39mg/1정)</td>\n",
       "      <td>명인제약(주)</td>\n",
       "      <td>N06AA12</td>\n",
       "      <td>doxepin</td>\n",
       "      <td>NaN</td>\n",
       "    </tr>\n",
       "    <tr>\n",
       "      <th>4</th>\n",
       "      <td>5</td>\n",
       "      <td>112</td>\n",
       "      <td>149203ATB</td>\n",
       "      <td>649001620</td>\n",
       "      <td>리치나잇정3밀리그램(독세핀염산염)_(3.39mg/1정)</td>\n",
       "      <td>풍림무약(주)</td>\n",
       "      <td>N06AA12</td>\n",
       "      <td>doxepin</td>\n",
       "      <td>NaN</td>\n",
       "    </tr>\n",
       "  </tbody>\n",
       "</table>\n",
       "</div>"
      ],
      "text/plain": [
       "   연번   분류      주성분코드       제품코드                             제품명      업체명  \\\n",
       "0   1  112  130830ASY  645302132        포크랄시럽(포수클로랄)_(9.5g/95mL)  한림제약(주)   \n",
       "1   2  112  130831ASY  645302131        포크랄시럽(포수클로랄)_(10g/100mL)  한림제약(주)   \n",
       "2   3  112  149203ATB  677100550     고나스정3mg(독세핀염산염)_(3.39mg/1정)   (주)펜믹스   \n",
       "3   4  112  149203ATB  651904420   명세핀정3밀리그램(독세핀염산염)_(3.39mg/1정)  명인제약(주)   \n",
       "4   5  112  149203ATB  649001620  리치나잇정3밀리그램(독세핀염산염)_(3.39mg/1정)  풍림무약(주)   \n",
       "\n",
       "     ATC코드         ATC코드 명칭   비고  \n",
       "0  N05CC01  chloral hydrate  NaN  \n",
       "1  N05CC01  chloral hydrate  NaN  \n",
       "2  N06AA12          doxepin  NaN  \n",
       "3  N06AA12          doxepin  NaN  \n",
       "4  N06AA12          doxepin  NaN  "
      ]
     },
     "execution_count": 4,
     "metadata": {},
     "output_type": "execute_result"
    }
   ],
   "source": [
    "# 데이터를 불러옵니다. (17년도)\n",
    "data_17 = pd.read_excel('raw_data/약제급여품목 ATC코드 매핑 현황(2017.12.1.급여목록표 기준).xlsx', header=2)\n",
    "print(data_17.info())\n",
    "data_17.head()"
   ]
  },
  {
   "cell_type": "markdown",
   "metadata": {},
   "source": [
    "### 세 연도의 데이터 병합 및 중복제거"
   ]
  },
  {
   "cell_type": "code",
   "execution_count": 5,
   "metadata": {},
   "outputs": [
    {
     "name": "stdout",
     "output_type": "stream",
     "text": [
      "중복 제거 전 데이터 수: 68796\n",
      "중복 제거 후 데이터 수: 32048\n"
     ]
    }
   ],
   "source": [
    "# 2017년 데이터의 타 연도와 같은 형식으로 수정합니다.\n",
    "data_17 = data_17.drop(['연번', '비고'], axis=1)\n",
    "data_17.rename(columns={'분류': '식약분류'}, inplace=True)\n",
    "\n",
    "# 세 연도의 데이터를 합칩니다.\n",
    "data = pd.concat([data_24, data_23, data_17])\n",
    "\n",
    "# 중복된 데이터를 제거합니다.\n",
    "print(\"중복 제거 전 데이터 수:\", len(data))\n",
    "data = data.drop_duplicates(subset='제품코드', keep='first')\n",
    "print(\"중복 제거 후 데이터 수:\", len(data))"
   ]
  },
  {
   "cell_type": "code",
   "execution_count": 6,
   "metadata": {},
   "outputs": [
    {
     "name": "stdout",
     "output_type": "stream",
     "text": [
      "NaN 제거 후 데이터 수: 31933\n"
     ]
    }
   ],
   "source": [
    "# NaN 값이 있는 열을 제거합니다.\n",
    "data = data.dropna()\n",
    "print(\"NaN 제거 후 데이터 수:\", len(data))"
   ]
  },
  {
   "cell_type": "code",
   "execution_count": 7,
   "metadata": {},
   "outputs": [],
   "source": [
    "# 주성분코드, ATC코드, ATC코드 명칭을 매핑한 데이터프레임을 만듭니다.\n",
    "df_mapping = data[['주성분코드', 'ATC코드', 'ATC코드 명칭']].drop_duplicates().reset_index(drop=True)\n",
    "df_mapping.rename(columns={'ATC코드 명칭': '주성분명'}, inplace=True)\n",
    "\n",
    "# 2021년 이후 주성분코드의 변경된 형식을 반영해 줍니다.\n",
    "df_mapping['주성분코드_5'] = df_mapping['주성분코드'].apply(lambda x: x[:4] + x[6])\n",
    "df_mapping.rename(columns={'주성분코드': '주성분코드_9'}, inplace=True)"
   ]
  },
  {
   "cell_type": "code",
   "execution_count": null,
   "metadata": {},
   "outputs": [
    {
     "data": {
      "text/html": [
       "<div>\n",
       "<style scoped>\n",
       "    .dataframe tbody tr th:only-of-type {\n",
       "        vertical-align: middle;\n",
       "    }\n",
       "\n",
       "    .dataframe tbody tr th {\n",
       "        vertical-align: top;\n",
       "    }\n",
       "\n",
       "    .dataframe thead th {\n",
       "        text-align: right;\n",
       "    }\n",
       "</style>\n",
       "<table border=\"1\" class=\"dataframe\">\n",
       "  <thead>\n",
       "    <tr style=\"text-align: right;\">\n",
       "      <th></th>\n",
       "      <th>주성분코드_9</th>\n",
       "      <th>ATC코드</th>\n",
       "      <th>주성분명</th>\n",
       "      <th>주성분코드_5</th>\n",
       "    </tr>\n",
       "  </thead>\n",
       "  <tbody>\n",
       "    <tr>\n",
       "      <th>0</th>\n",
       "      <td>130830ASY</td>\n",
       "      <td>N05CC01</td>\n",
       "      <td>chloral hydrate</td>\n",
       "      <td>1308A</td>\n",
       "    </tr>\n",
       "    <tr>\n",
       "      <th>1</th>\n",
       "      <td>130832ASY</td>\n",
       "      <td>N05CC01</td>\n",
       "      <td>chloral hydrate</td>\n",
       "      <td>1308A</td>\n",
       "    </tr>\n",
       "    <tr>\n",
       "      <th>2</th>\n",
       "      <td>130833ASY</td>\n",
       "      <td>N05CC01</td>\n",
       "      <td>chloral hydrate</td>\n",
       "      <td>1308A</td>\n",
       "    </tr>\n",
       "    <tr>\n",
       "      <th>3</th>\n",
       "      <td>149203ATB</td>\n",
       "      <td>N05CM</td>\n",
       "      <td>Other hypnotics and sedatives</td>\n",
       "      <td>1492A</td>\n",
       "    </tr>\n",
       "    <tr>\n",
       "      <th>4</th>\n",
       "      <td>149204ATB</td>\n",
       "      <td>N05CM</td>\n",
       "      <td>Other hypnotics and sedatives</td>\n",
       "      <td>1492A</td>\n",
       "    </tr>\n",
       "  </tbody>\n",
       "</table>\n",
       "</div>"
      ],
      "text/plain": [
       "     주성분코드_9    ATC코드                           주성분명 주성분코드_5\n",
       "0  130830ASY  N05CC01                chloral hydrate   1308A\n",
       "1  130832ASY  N05CC01                chloral hydrate   1308A\n",
       "2  130833ASY  N05CC01                chloral hydrate   1308A\n",
       "3  149203ATB    N05CM  Other hypnotics and sedatives   1492A\n",
       "4  149204ATB    N05CM  Other hypnotics and sedatives   1492A"
      ]
     },
     "execution_count": 8,
     "metadata": {},
     "output_type": "execute_result"
    }
   ],
   "source": [
    "# 매핑용 데이터프레임을 저장합니다.\n",
    "df_mapping.to_csv('data/mapping/mapping_pre.csv', index=False)\n",
    "df_mapping.head()"
   ]
  },
  {
   "cell_type": "markdown",
   "metadata": {},
   "source": [
    "---\n",
    "## 중복 매핑 수정\n",
    "\n",
    "하나의 주성분코드가 다수의 ATC코드에 매핑되어 있는 경우들이 있습니다.\n",
    "\n",
    "해당 행들은 수기로 하나의 ATC코드에만 매핑되게끔 수정해 주었습니다."
   ]
  },
  {
   "cell_type": "code",
   "execution_count": 9,
   "metadata": {},
   "outputs": [],
   "source": [
    "mapping = pd.read_csv('data/mapping/mapping_pre.csv', encoding='utf-8')"
   ]
  },
  {
   "cell_type": "code",
   "execution_count": 10,
   "metadata": {},
   "outputs": [],
   "source": [
    "# 하나의 주성분코드_9가 여러 ATC코드에 매핑되어 있는지 확인합니다.\n",
    "mapping['ATC코드'].nunique() == mapping['주성분코드_9'].nunique()\n",
    "\n",
    "# 여러 ATC코드에 매핑되어 있는 주성분코드_9를 가진 행을 찾습니다.\n",
    "multi_mapped = mapping[mapping.duplicated(subset='주성분코드_9', keep=False)].sort_values('주성분코드_9')\n",
    "non_multi_mapped = mapping[~mapping.duplicated(subset='주성분코드_9', keep=False)].sort_values('주성분코드_9')\n",
    "\n",
    "# csv 파일로 저장합니다.\n",
    "multi_mapped.to_csv('data/mapping/multi_mapped.csv', index=False)"
   ]
  },
  {
   "cell_type": "markdown",
   "metadata": {},
   "source": [
    "ATC Index를 참조하여 수기로 수정 (코드 외부에서 진행)"
   ]
  },
  {
   "cell_type": "code",
   "execution_count": 11,
   "metadata": {},
   "outputs": [],
   "source": [
    "# 수기로 수정된 매핑 데이터를 불러옵니다.\n",
    "multi_mapped_edited = pd.read_csv('data/mapping/multi_mapped_edited.csv', encoding='cp949')\n",
    "\n",
    "# Use 컬럼이 1인 행만 사용합니다.\n",
    "multi_mapped_edited = multi_mapped_edited[multi_mapped_edited['Use'] == 1]\n",
    "multi_mapped_edited.drop('Use', axis=1, inplace=True)\n",
    "multi_mapped_edited.columns = mapping.columns\n",
    "\n",
    "# 수정된 데이터를 기존 데이터에 반영합니다.\n",
    "mapping_n = pd.concat([non_multi_mapped, multi_mapped_edited]).sort_values('주성분코드_9')\n",
    "\n",
    "# 수정된 데이터를 저장합니다.\n",
    "mapping_n.to_csv('data/mapping.csv', index=False)"
   ]
  },
  {
   "cell_type": "markdown",
   "metadata": {},
   "source": [
    "---"
   ]
  },
  {
   "cell_type": "markdown",
   "metadata": {},
   "source": [
    "# 관심있는 약품들을 찾아 해당되는 코드를 추출\n",
    "ATC 기준에 의하면 항우울제(Antidepressants)는 N06A로 시작하는 ATC 코드를 가집니다.\n",
    "\n",
    "df_mapping에서 해당되는 약물 리스트를 추출 하겠습니다."
   ]
  },
  {
   "cell_type": "code",
   "execution_count": 9,
   "metadata": {},
   "outputs": [],
   "source": [
    "# 관심 약품 ATC 코드를 딕셔너리로 정의합니다.\n",
    "ATC_dict = {'antidepressants': 'N06A'}"
   ]
  },
  {
   "cell_type": "code",
   "execution_count": 30,
   "metadata": {},
   "outputs": [
    {
     "name": "stdout",
     "output_type": "stream",
     "text": [
      "관심 약품 ATC코드 개수:  25\n",
      "관심 약품 MI코드 개수:  79\n",
      "관심 약품명:  ['amitriptyline' 'clomipramine' 'fluoxetine' 'imipramine' 'mirtazapine'\n",
      " 'nortriptyline' 'paroxetine' 'sertraline' 'tianeptine' 'trazodone'\n",
      " 'venlafaxine' 'milnacipran' 'bupropion' 'escitalopram' 'duloxetine'\n",
      " 'agomelatine' 'desvenlafaxine' 'vortioxetine' 'Hyperici herba'\n",
      " 'Other antidepressants' 'doxepin' 'amoxapine' 'fluvoxamine' 'moclobemide'\n",
      " 'citalopram']\n"
     ]
    }
   ],
   "source": [
    "# 관심 약품 ATC 코드를 포함하는 데이터를 추출합니다.\n",
    "df_antidepressants = data[data['ATC코드'].str.contains(ATC_dict['antidepressants'])]\n",
    "print(\"관심 약품 ATC코드 개수: \", len(df_antidepressants['ATC코드'].unique()))\n",
    "print(\"관심 약품 MI코드 개수: \", len(df_antidepressants['주성분코드'].unique()))\n",
    "print(\"관심 약품명: \", df_antidepressants['ATC코드 명칭'].unique())"
   ]
  },
  {
   "cell_type": "code",
   "execution_count": 39,
   "metadata": {},
   "outputs": [
    {
     "data": {
      "text/plain": [
       "0"
      ]
     },
     "execution_count": 39,
     "metadata": {},
     "output_type": "execute_result"
    }
   ],
   "source": [
    "# 관심 컬럼만 추출합니다.\n",
    "df_ad = df_antidepressants.rename(columns={'주성분코드': 'MI_code',\n",
    "                                           'ATC코드': 'ATC_code',\n",
    "                                           'ATC코드 명칭': 'ATC_name'})\n",
    "\n",
    "df_ad = df_ad.loc[:, ['MI_code', 'ATC_code', 'ATC_name']]\n",
    "df_ad = df_ad.drop_duplicates().copy()\n",
    "\n",
    "# 각 MI코드별 ATC코드 개수가 1개 이상인 경우가 있는지 확인합니다.\n",
    "(df_ad.groupby('MI_code')['ATC_code'].nunique() > 1).sum()"
   ]
  },
  {
   "cell_type": "code",
   "execution_count": 40,
   "metadata": {},
   "outputs": [],
   "source": [
    "# 관심 약품 ATC 코드를 포함하는 데이터를 저장합니다.\n",
    "df_ad.to_csv('data/antidepressant_mapping_v2.csv', index=False)"
   ]
  }
 ],
 "metadata": {
  "kernelspec": {
   "display_name": "base",
   "language": "python",
   "name": "python3"
  },
  "language_info": {
   "codemirror_mode": {
    "name": "ipython",
    "version": 3
   },
   "file_extension": ".py",
   "mimetype": "text/x-python",
   "name": "python",
   "nbconvert_exporter": "python",
   "pygments_lexer": "ipython3",
   "version": "3.11.7"
  }
 },
 "nbformat": 4,
 "nbformat_minor": 2
}
