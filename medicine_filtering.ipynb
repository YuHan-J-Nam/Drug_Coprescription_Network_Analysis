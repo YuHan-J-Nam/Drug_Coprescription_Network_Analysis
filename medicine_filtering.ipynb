{
 "cells": [
  {
   "cell_type": "code",
   "execution_count": 14,
   "metadata": {},
   "outputs": [],
   "source": [
    "# 라이브러리를 불러옵니다.\n",
    "import numpy as np\n",
    "import pandas as pd\n",
    "import matplotlib.pyplot as plt"
   ]
  },
  {
   "cell_type": "markdown",
   "metadata": {},
   "source": [
    "### 데이터 추출\n",
    "항우울제로 사용되는 약물들만 추출하도록 하겠습니다."
   ]
  },
  {
   "cell_type": "code",
   "execution_count": 15,
   "metadata": {},
   "outputs": [
    {
     "data": {
      "text/html": [
       "<div>\n",
       "<style scoped>\n",
       "    .dataframe tbody tr th:only-of-type {\n",
       "        vertical-align: middle;\n",
       "    }\n",
       "\n",
       "    .dataframe tbody tr th {\n",
       "        vertical-align: top;\n",
       "    }\n",
       "\n",
       "    .dataframe thead th {\n",
       "        text-align: right;\n",
       "    }\n",
       "</style>\n",
       "<table border=\"1\" class=\"dataframe\">\n",
       "  <thead>\n",
       "    <tr style=\"text-align: right;\">\n",
       "      <th></th>\n",
       "      <th>기준년도</th>\n",
       "      <th>가입자일련번호</th>\n",
       "      <th>처방내역일련번호</th>\n",
       "      <th>일련번호</th>\n",
       "      <th>성별코드</th>\n",
       "      <th>연령대코드(5세단위)</th>\n",
       "      <th>시도코드</th>\n",
       "      <th>요양개시일자</th>\n",
       "      <th>약품일반성분명코드</th>\n",
       "      <th>1회 투약량</th>\n",
       "      <th>1일투약량</th>\n",
       "      <th>총투여일수</th>\n",
       "      <th>단가</th>\n",
       "      <th>금액</th>\n",
       "      <th>데이터 공개일자</th>\n",
       "    </tr>\n",
       "  </thead>\n",
       "  <tbody>\n",
       "    <tr>\n",
       "      <th>0</th>\n",
       "      <td>2017</td>\n",
       "      <td>1</td>\n",
       "      <td>340428</td>\n",
       "      <td>1</td>\n",
       "      <td>1</td>\n",
       "      <td>15</td>\n",
       "      <td>31</td>\n",
       "      <td>20170629</td>\n",
       "      <td>131801ATB</td>\n",
       "      <td>1.0</td>\n",
       "      <td>3</td>\n",
       "      <td>10</td>\n",
       "      <td>15.0</td>\n",
       "      <td>450</td>\n",
       "      <td>20181126</td>\n",
       "    </tr>\n",
       "    <tr>\n",
       "      <th>1</th>\n",
       "      <td>2017</td>\n",
       "      <td>1</td>\n",
       "      <td>340428</td>\n",
       "      <td>2</td>\n",
       "      <td>1</td>\n",
       "      <td>15</td>\n",
       "      <td>31</td>\n",
       "      <td>20170629</td>\n",
       "      <td>172101ATB</td>\n",
       "      <td>1.0</td>\n",
       "      <td>3</td>\n",
       "      <td>10</td>\n",
       "      <td>16.0</td>\n",
       "      <td>480</td>\n",
       "      <td>20181126</td>\n",
       "    </tr>\n",
       "    <tr>\n",
       "      <th>2</th>\n",
       "      <td>2017</td>\n",
       "      <td>1</td>\n",
       "      <td>340428</td>\n",
       "      <td>3</td>\n",
       "      <td>1</td>\n",
       "      <td>15</td>\n",
       "      <td>31</td>\n",
       "      <td>20170629</td>\n",
       "      <td>193302ATB</td>\n",
       "      <td>1.0</td>\n",
       "      <td>3</td>\n",
       "      <td>10</td>\n",
       "      <td>98.0</td>\n",
       "      <td>2940</td>\n",
       "      <td>20181126</td>\n",
       "    </tr>\n",
       "    <tr>\n",
       "      <th>3</th>\n",
       "      <td>2017</td>\n",
       "      <td>1</td>\n",
       "      <td>340428</td>\n",
       "      <td>4</td>\n",
       "      <td>1</td>\n",
       "      <td>15</td>\n",
       "      <td>31</td>\n",
       "      <td>20170629</td>\n",
       "      <td>133301ATB</td>\n",
       "      <td>1.0</td>\n",
       "      <td>3</td>\n",
       "      <td>10</td>\n",
       "      <td>54.0</td>\n",
       "      <td>1620</td>\n",
       "      <td>20181126</td>\n",
       "    </tr>\n",
       "    <tr>\n",
       "      <th>4</th>\n",
       "      <td>2017</td>\n",
       "      <td>1</td>\n",
       "      <td>340428</td>\n",
       "      <td>5</td>\n",
       "      <td>1</td>\n",
       "      <td>15</td>\n",
       "      <td>31</td>\n",
       "      <td>20170629</td>\n",
       "      <td>547100CCM</td>\n",
       "      <td>1.0</td>\n",
       "      <td>1</td>\n",
       "      <td>1</td>\n",
       "      <td>615.0</td>\n",
       "      <td>615</td>\n",
       "      <td>20181126</td>\n",
       "    </tr>\n",
       "  </tbody>\n",
       "</table>\n",
       "</div>"
      ],
      "text/plain": [
       "   기준년도  가입자일련번호  처방내역일련번호  일련번호  성별코드  연령대코드(5세단위)  시도코드    요양개시일자  \\\n",
       "0  2017        1    340428     1     1           15    31  20170629   \n",
       "1  2017        1    340428     2     1           15    31  20170629   \n",
       "2  2017        1    340428     3     1           15    31  20170629   \n",
       "3  2017        1    340428     4     1           15    31  20170629   \n",
       "4  2017        1    340428     5     1           15    31  20170629   \n",
       "\n",
       "   약품일반성분명코드  1회 투약량  1일투약량  총투여일수     단가    금액  데이터 공개일자  \n",
       "0  131801ATB     1.0      3     10   15.0   450  20181126  \n",
       "1  172101ATB     1.0      3     10   16.0   480  20181126  \n",
       "2  193302ATB     1.0      3     10   98.0  2940  20181126  \n",
       "3  133301ATB     1.0      3     10   54.0  1620  20181126  \n",
       "4  547100CCM     1.0      1      1  615.0   615  20181126  "
      ]
     },
     "execution_count": 15,
     "metadata": {},
     "output_type": "execute_result"
    }
   ],
   "source": [
    "# 데이터의 구조를 확인합니다.\n",
    "data = pd.read_csv('./raw_data/국민건강보험공단_의약품처방정보_2017(1).CSV', encoding='cp949', nrows=5)\n",
    "data"
   ]
  },
  {
   "cell_type": "code",
   "execution_count": 16,
   "metadata": {},
   "outputs": [],
   "source": [
    "# 주성분코드 리스트를 읽어옵니다.\n",
    "with open('./data/ingredient_code.txt', 'r') as f:\n",
    "    ingredient_code = f.read().splitlines()"
   ]
  },
  {
   "cell_type": "code",
   "execution_count": 17,
   "metadata": {},
   "outputs": [],
   "source": [
    "# 전체 파일에서 주성분코드 리스트에 있는 주성분코드가 포함된 행만 추출합니다.\n",
    "rows = []\n",
    "for chunk in pd.read_csv('./raw_data/국민건강보험공단_의약품처방정보_2017(1).CSV', encoding='cp949', chunksize=100000):\n",
    "    rows.append(chunk[chunk['약품일반성분명코드'].isin(ingredient_code)])\n",
    "for chunk in pd.read_csv('./raw_data/국민건강보험공단_의약품처방정보_2017(2).CSV', encoding='cp949', chunksize=100000):\n",
    "    rows.append(chunk[chunk['약품일반성분명코드'].isin(ingredient_code)])\n",
    "for chunk in pd.read_csv('./raw_data/국민건강보험공단_의약품처방정보_2017(3).CSV', encoding='cp949', chunksize=100000):\n",
    "    rows.append(chunk[chunk['약품일반성분명코드'].isin(ingredient_code)])\n",
    "\n",
    "# 추출한 행을 합칩니다.\n",
    "df = pd.concat(rows)"
   ]
  },
  {
   "cell_type": "code",
   "execution_count": 18,
   "metadata": {},
   "outputs": [],
   "source": [
    "# 추출한 데이터를 CSV 파일로 저장합니다.\n",
    "df.to_csv('./data/anti_depressant_prescription.csv', index=False)"
   ]
  },
  {
   "cell_type": "code",
   "execution_count": 19,
   "metadata": {},
   "outputs": [
    {
     "data": {
      "text/html": [
       "<div>\n",
       "<style scoped>\n",
       "    .dataframe tbody tr th:only-of-type {\n",
       "        vertical-align: middle;\n",
       "    }\n",
       "\n",
       "    .dataframe tbody tr th {\n",
       "        vertical-align: top;\n",
       "    }\n",
       "\n",
       "    .dataframe thead th {\n",
       "        text-align: right;\n",
       "    }\n",
       "</style>\n",
       "<table border=\"1\" class=\"dataframe\">\n",
       "  <thead>\n",
       "    <tr style=\"text-align: right;\">\n",
       "      <th></th>\n",
       "      <th>기준년도</th>\n",
       "      <th>가입자일련번호</th>\n",
       "      <th>처방내역일련번호</th>\n",
       "      <th>일련번호</th>\n",
       "      <th>성별코드</th>\n",
       "      <th>연령대코드(5세단위)</th>\n",
       "      <th>시도코드</th>\n",
       "      <th>요양개시일자</th>\n",
       "      <th>약품일반성분명코드</th>\n",
       "      <th>1회 투약량</th>\n",
       "      <th>1일투약량</th>\n",
       "      <th>총투여일수</th>\n",
       "      <th>단가</th>\n",
       "      <th>금액</th>\n",
       "      <th>데이터 공개일자</th>\n",
       "    </tr>\n",
       "  </thead>\n",
       "  <tbody>\n",
       "    <tr>\n",
       "      <th>2879</th>\n",
       "      <td>2017</td>\n",
       "      <td>62</td>\n",
       "      <td>7819529</td>\n",
       "      <td>2</td>\n",
       "      <td>1</td>\n",
       "      <td>12</td>\n",
       "      <td>41</td>\n",
       "      <td>20170711</td>\n",
       "      <td>242901ATB</td>\n",
       "      <td>2.0</td>\n",
       "      <td>1</td>\n",
       "      <td>28</td>\n",
       "      <td>40.0</td>\n",
       "      <td>2240</td>\n",
       "      <td>20181126</td>\n",
       "    </tr>\n",
       "    <tr>\n",
       "      <th>2909</th>\n",
       "      <td>2017</td>\n",
       "      <td>62</td>\n",
       "      <td>35429246</td>\n",
       "      <td>2</td>\n",
       "      <td>1</td>\n",
       "      <td>12</td>\n",
       "      <td>41</td>\n",
       "      <td>20170808</td>\n",
       "      <td>242901ATB</td>\n",
       "      <td>2.0</td>\n",
       "      <td>1</td>\n",
       "      <td>28</td>\n",
       "      <td>40.0</td>\n",
       "      <td>2240</td>\n",
       "      <td>20181126</td>\n",
       "    </tr>\n",
       "    <tr>\n",
       "      <th>2917</th>\n",
       "      <td>2017</td>\n",
       "      <td>62</td>\n",
       "      <td>37765102</td>\n",
       "      <td>5</td>\n",
       "      <td>1</td>\n",
       "      <td>12</td>\n",
       "      <td>41</td>\n",
       "      <td>20170609</td>\n",
       "      <td>242901ATB</td>\n",
       "      <td>2.0</td>\n",
       "      <td>1</td>\n",
       "      <td>28</td>\n",
       "      <td>40.0</td>\n",
       "      <td>2240</td>\n",
       "      <td>20181126</td>\n",
       "    </tr>\n",
       "    <tr>\n",
       "      <th>2938</th>\n",
       "      <td>2017</td>\n",
       "      <td>62</td>\n",
       "      <td>59976553</td>\n",
       "      <td>5</td>\n",
       "      <td>1</td>\n",
       "      <td>12</td>\n",
       "      <td>41</td>\n",
       "      <td>20170911</td>\n",
       "      <td>242901ATB</td>\n",
       "      <td>2.0</td>\n",
       "      <td>1</td>\n",
       "      <td>28</td>\n",
       "      <td>40.0</td>\n",
       "      <td>2240</td>\n",
       "      <td>20181126</td>\n",
       "    </tr>\n",
       "    <tr>\n",
       "      <th>4785</th>\n",
       "      <td>2017</td>\n",
       "      <td>107</td>\n",
       "      <td>21130660</td>\n",
       "      <td>1</td>\n",
       "      <td>1</td>\n",
       "      <td>11</td>\n",
       "      <td>47</td>\n",
       "      <td>20171017</td>\n",
       "      <td>495501ACE</td>\n",
       "      <td>1.0</td>\n",
       "      <td>1</td>\n",
       "      <td>30</td>\n",
       "      <td>404.0</td>\n",
       "      <td>12120</td>\n",
       "      <td>20181126</td>\n",
       "    </tr>\n",
       "  </tbody>\n",
       "</table>\n",
       "</div>"
      ],
      "text/plain": [
       "      기준년도  가입자일련번호  처방내역일련번호  일련번호  성별코드  연령대코드(5세단위)  시도코드    요양개시일자  \\\n",
       "2879  2017       62   7819529     2     1           12    41  20170711   \n",
       "2909  2017       62  35429246     2     1           12    41  20170808   \n",
       "2917  2017       62  37765102     5     1           12    41  20170609   \n",
       "2938  2017       62  59976553     5     1           12    41  20170911   \n",
       "4785  2017      107  21130660     1     1           11    47  20171017   \n",
       "\n",
       "      약품일반성분명코드  1회 투약량  1일투약량  총투여일수     단가     금액  데이터 공개일자  \n",
       "2879  242901ATB     2.0      1     28   40.0   2240  20181126  \n",
       "2909  242901ATB     2.0      1     28   40.0   2240  20181126  \n",
       "2917  242901ATB     2.0      1     28   40.0   2240  20181126  \n",
       "2938  242901ATB     2.0      1     28   40.0   2240  20181126  \n",
       "4785  495501ACE     1.0      1     30  404.0  12120  20181126  "
      ]
     },
     "execution_count": 19,
     "metadata": {},
     "output_type": "execute_result"
    }
   ],
   "source": [
    "df.head()"
   ]
  },
  {
   "cell_type": "markdown",
   "metadata": {},
   "source": [
    "---\n",
    "### EDA"
   ]
  },
  {
   "cell_type": "code",
   "execution_count": 20,
   "metadata": {},
   "outputs": [
    {
     "data": {
      "image/png": "[encoded data removed]",
      "text/plain": [
       "<Figure size 1200x600 with 1 Axes>"
      ]
     },
     "metadata": {},
     "output_type": "display_data"
    }
   ],
   "source": [
    "# 연령대코드(5세단위)를 그래프로 그립니다.\n",
    "figure = plt.figure(figsize=(12, 6))\n",
    "df['연령대코드(5세단위)'].hist(bins=range(1, 19), rwidth=0.8)\n",
    "plt.xlabel('Age group')\n",
    "plt.ylabel('Frequency')\n",
    "plt.xticks(range(1, 19), ['0-4', '5-9', '10-14', '15-19', '20-24', '25-29', '30-34', '35-39', '40-44', '45-49', '50-54', '55-59', '60-64', '65-69', '70-74', '75-79', '80-84', '85+'])\n",
    "plt.show()"
   ]
  },
  {
   "cell_type": "code",
   "execution_count": 21,
   "metadata": {},
   "outputs": [
    {
     "data": {
      "image/png": "[encoded data removed]",
      "text/plain": [
       "<Figure size 640x480 with 1 Axes>"
      ]
     },
     "metadata": {},
     "output_type": "display_data"
    }
   ],
   "source": [
    "# 처방내역일련번호으로 그룹화하여 같이 처방된 약품의 개수를 세어봅니다.\n",
    "prescription_counts = df.groupby('처방내역일련번호').size()\n",
    "\n",
    "# 처방된 약품의 개수를 히스토그램으로 그립니다.\n",
    "plt.hist(prescription_counts, bins=range(1, 10))\n",
    "plt.xlabel('Number of co-prescriptions')\n",
    "plt.ylabel('Frequency')\n",
    "plt.yscale('log')\n",
    "plt.show()"
   ]
  },
  {
   "cell_type": "markdown",
   "metadata": {},
   "source": [
    "---"
   ]
  },
  {
   "cell_type": "code",
   "execution_count": 22,
   "metadata": {},
   "outputs": [],
   "source": [
    "# 항우울제가 처방된 처방전의 리스트를 만듭니다.\n",
    "prescriptions = df['처방내역일련번호'].unique()"
   ]
  },
  {
   "cell_type": "code",
   "execution_count": 23,
   "metadata": {},
   "outputs": [],
   "source": [
    "# 원본 데이터에서 해당되는 처방전을 추출합니다.\n",
    "rows = []\n",
    "for chunk in pd.read_csv('./raw_data/국민건강보험공단_의약품처방정보_2017(1).CSV', encoding='cp949', chunksize=100000):\n",
    "    rows.append(chunk[chunk['처방내역일련번호'].isin(prescriptions)])\n",
    "for chunk in pd.read_csv('./raw_data/국민건강보험공단_의약품처방정보_2017(2).CSV', encoding='cp949', chunksize=100000):\n",
    "    rows.append(chunk[chunk['처방내역일련번호'].isin(prescriptions)])\n",
    "for chunk in pd.read_csv('./raw_data/국민건강보험공단_의약품처방정보_2017(3).CSV', encoding='cp949', chunksize=100000):\n",
    "    rows.append(chunk[chunk['처방내역일련번호'].isin(prescriptions)])\n",
    "\n",
    "# 추출한 행을 합칩니다.\n",
    "df_full = pd.concat(rows)"
   ]
  },
  {
   "cell_type": "code",
   "execution_count": 24,
   "metadata": {},
   "outputs": [
    {
     "name": "stdout",
     "output_type": "stream",
     "text": [
      "기준년도            0\n",
      "가입자일련번호         0\n",
      "처방내역일련번호        0\n",
      "일련번호            0\n",
      "성별코드            0\n",
      "연령대코드(5세단위)     0\n",
      "시도코드            0\n",
      "요양개시일자          0\n",
      "약품일반성분명코드      90\n",
      "1회 투약량          0\n",
      "1일투약량           0\n",
      "총투여일수           0\n",
      "단가              0\n",
      "금액              0\n",
      "데이터 공개일자        0\n",
      "dtype: int64\n",
      "중복된 행의 수: 0\n"
     ]
    }
   ],
   "source": [
    "# 추출한 데이터에 null 값이 있는지 확인합니다.\n",
    "print(df_full.isnull().sum())\n",
    "\n",
    "# 데이터에 중복된 행이 있는지 확인합니다.\n",
    "print(\"중복된 행의 수:\", df_full.duplicated().sum())\n",
    "\n",
    "# null 값이 있는 행을 제거합니다.\n",
    "df_full = df_full.dropna()"
   ]
  },
  {
   "cell_type": "code",
   "execution_count": 25,
   "metadata": {},
   "outputs": [],
   "source": [
    "# 추출한 데이터를 CSV 파일로 저장합니다.\n",
    "df_full.to_csv('./data/anti_depressant_prescription_all_meds.csv', index=False)"
   ]
  }
 ],
 "metadata": {
  "kernelspec": {
   "display_name": "base",
   "language": "python",
   "name": "python3"
  },
  "language_info": {
   "codemirror_mode": {
    "name": "ipython",
    "version": 3
   },
   "file_extension": ".py",
   "mimetype": "text/x-python",
   "name": "python",
   "nbconvert_exporter": "python",
   "pygments_lexer": "ipython3",
   "version": "3.11.7"
  }
 },
 "nbformat": 4,
 "nbformat_minor": 2
}
